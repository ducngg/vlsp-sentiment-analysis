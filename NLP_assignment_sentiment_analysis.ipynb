{
  "nbformat": 4,
  "nbformat_minor": 0,
  "metadata": {
    "colab": {
      "provenance": [],
      "toc_visible": true,
      "gpuType": "T4"
    },
    "kernelspec": {
      "name": "python3",
      "display_name": "Python 3"
    },
    "language_info": {
      "name": "python"
    },
    "accelerator": "GPU"
  },
  "cells": [
    {
      "cell_type": "markdown",
      "source": [
        "# Set up environment"
      ],
      "metadata": {
        "id": "6kjOWmQFrVXf"
      }
    },
    {
      "cell_type": "code",
      "execution_count": 1,
      "metadata": {
        "colab": {
          "base_uri": "https://localhost:8080/"
        },
        "id": "192pZSCdq-2b",
        "outputId": "0fd9fa5d-43d7-42c5-9681-389e12afd752"
      },
      "outputs": [
        {
          "output_type": "stream",
          "name": "stdout",
          "text": [
            "Fri Dec  1 05:17:44 2023       \n",
            "+-----------------------------------------------------------------------------+\n",
            "| NVIDIA-SMI 525.105.17   Driver Version: 525.105.17   CUDA Version: 12.0     |\n",
            "|-------------------------------+----------------------+----------------------+\n",
            "| GPU  Name        Persistence-M| Bus-Id        Disp.A | Volatile Uncorr. ECC |\n",
            "| Fan  Temp  Perf  Pwr:Usage/Cap|         Memory-Usage | GPU-Util  Compute M. |\n",
            "|                               |                      |               MIG M. |\n",
            "|===============================+======================+======================|\n",
            "|   0  Tesla T4            Off  | 00000000:00:04.0 Off |                    0 |\n",
            "| N/A   41C    P8    10W /  70W |      0MiB / 15360MiB |      0%      Default |\n",
            "|                               |                      |                  N/A |\n",
            "+-------------------------------+----------------------+----------------------+\n",
            "                                                                               \n",
            "+-----------------------------------------------------------------------------+\n",
            "| Processes:                                                                  |\n",
            "|  GPU   GI   CI        PID   Type   Process name                  GPU Memory |\n",
            "|        ID   ID                                                   Usage      |\n",
            "|=============================================================================|\n",
            "|  No running processes found                                                 |\n",
            "+-----------------------------------------------------------------------------+\n"
          ]
        }
      ],
      "source": [
        "!nvidia-smi\n",
        "\n",
        "import os\n",
        "HOME = os.getcwd()"
      ]
    },
    {
      "cell_type": "code",
      "source": [
        "# from google.colab import drive\n",
        "# drive.mount('/content/gdrive')\n",
        "\n",
        "# # change \"/content/gdrive/MyDrive/\"  to \"/mydrive so you can use directly /mydrive\"\n",
        "# !ln -s /content/gdrive/MyDrive/ /mydrive"
      ],
      "metadata": {
        "id": "g9cQfGYsrClg"
      },
      "execution_count": 2,
      "outputs": []
    },
    {
      "cell_type": "code",
      "source": [
        "!gdown https://drive.google.com/uc?id=1ibVpNvQci2T-phUeV8aT8kfFd8eRkyqL\n",
        "!gdown https://drive.google.com/uc?id=1jofip_UbAXzzJwrqacVTJ7183mmpBQXe\n",
        "!gdown https://drive.google.com/uc?id=1q3myiaORcL3fbeks8ExZZcqefFtHthPD"
      ],
      "metadata": {
        "colab": {
          "base_uri": "https://localhost:8080/"
        },
        "id": "L4CIfYf5oWti",
        "outputId": "9e54c02d-2803-4e55-89b0-0726436234b3"
      },
      "execution_count": 24,
      "outputs": [
        {
          "output_type": "stream",
          "name": "stdout",
          "text": [
            "Downloading...\n",
            "From: https://drive.google.com/uc?id=1ibVpNvQci2T-phUeV8aT8kfFd8eRkyqL\n",
            "To: /content/vi-model-CBOW.bin\n",
            "100% 699M/699M [00:09<00:00, 77.2MB/s]\n",
            "Downloading...\n",
            "From: https://drive.google.com/uc?id=1jofip_UbAXzzJwrqacVTJ7183mmpBQXe\n",
            "To: /content/vlsp_sentiment_test.csv\n",
            "100% 159k/159k [00:00<00:00, 132MB/s]\n",
            "Downloading...\n",
            "From: https://drive.google.com/uc?id=1q3myiaORcL3fbeks8ExZZcqefFtHthPD\n",
            "To: /content/vlsp_sentiment_train.csv\n",
            "100% 858k/858k [00:00<00:00, 170MB/s]\n"
          ]
        }
      ]
    },
    {
      "cell_type": "code",
      "source": [
        "!pip install pyvi"
      ],
      "metadata": {
        "colab": {
          "base_uri": "https://localhost:8080/"
        },
        "id": "Vg96mj_8nqXL",
        "outputId": "523d5f8f-df1f-4f57-a61f-ca6766d00d27"
      },
      "execution_count": 4,
      "outputs": [
        {
          "output_type": "stream",
          "name": "stdout",
          "text": [
            "Collecting pyvi\n",
            "  Downloading pyvi-0.1.1-py2.py3-none-any.whl (8.5 MB)\n",
            "\u001b[2K     \u001b[90m━━━━━━━━━━━━━━━━━━━━━━━━━━━━━━━━━━━━━━━━\u001b[0m \u001b[32m8.5/8.5 MB\u001b[0m \u001b[31m20.5 MB/s\u001b[0m eta \u001b[36m0:00:00\u001b[0m\n",
            "\u001b[?25hRequirement already satisfied: scikit-learn in /usr/local/lib/python3.10/dist-packages (from pyvi) (1.2.2)\n",
            "Collecting sklearn-crfsuite (from pyvi)\n",
            "  Downloading sklearn_crfsuite-0.3.6-py2.py3-none-any.whl (12 kB)\n",
            "Requirement already satisfied: numpy>=1.17.3 in /usr/local/lib/python3.10/dist-packages (from scikit-learn->pyvi) (1.23.5)\n",
            "Requirement already satisfied: scipy>=1.3.2 in /usr/local/lib/python3.10/dist-packages (from scikit-learn->pyvi) (1.11.3)\n",
            "Requirement already satisfied: joblib>=1.1.1 in /usr/local/lib/python3.10/dist-packages (from scikit-learn->pyvi) (1.3.2)\n",
            "Requirement already satisfied: threadpoolctl>=2.0.0 in /usr/local/lib/python3.10/dist-packages (from scikit-learn->pyvi) (3.2.0)\n",
            "Collecting python-crfsuite>=0.8.3 (from sklearn-crfsuite->pyvi)\n",
            "  Downloading python_crfsuite-0.9.9-cp310-cp310-manylinux_2_17_x86_64.manylinux2014_x86_64.whl (993 kB)\n",
            "\u001b[2K     \u001b[90m━━━━━━━━━━━━━━━━━━━━━━━━━━━━━━━━━━━━━━━━\u001b[0m \u001b[32m993.5/993.5 kB\u001b[0m \u001b[31m16.0 MB/s\u001b[0m eta \u001b[36m0:00:00\u001b[0m\n",
            "\u001b[?25hRequirement already satisfied: six in /usr/local/lib/python3.10/dist-packages (from sklearn-crfsuite->pyvi) (1.16.0)\n",
            "Requirement already satisfied: tabulate in /usr/local/lib/python3.10/dist-packages (from sklearn-crfsuite->pyvi) (0.9.0)\n",
            "Requirement already satisfied: tqdm>=2.0 in /usr/local/lib/python3.10/dist-packages (from sklearn-crfsuite->pyvi) (4.66.1)\n",
            "Installing collected packages: python-crfsuite, sklearn-crfsuite, pyvi\n",
            "Successfully installed python-crfsuite-0.9.9 pyvi-0.1.1 sklearn-crfsuite-0.3.6\n"
          ]
        }
      ]
    },
    {
      "cell_type": "code",
      "source": [
        "import pandas as pd\n",
        "import numpy as np\n",
        "import matplotlib.pyplot as plt\n",
        "import seaborn as sns\n",
        "\n",
        "from sklearn.metrics import confusion_matrix\n",
        "from sklearn.metrics import accuracy_score, recall_score, precision_score, f1_score\n",
        "\n",
        "from string import digits\n",
        "from pyvi import ViTokenizer\n",
        "from gensim.models.keyedvectors import KeyedVectors\n",
        "\n",
        "from keras.layers import *\n",
        "from keras.preprocessing.text import Tokenizer\n",
        "from keras.preprocessing.sequence import pad_sequences\n",
        "from keras import regularizers\n",
        "from keras.callbacks import EarlyStopping\n",
        "from keras.models import Model\n",
        "\n",
        "import tensorflow as tf\n",
        "from tensorflow.keras.optimizers import Adam\n",
        "from tensorflow.keras.models import load_model\n",
        "\n",
        "%matplotlib inline"
      ],
      "metadata": {
        "id": "vR8WnmSwnwN4"
      },
      "execution_count": 5,
      "outputs": []
    },
    {
      "cell_type": "code",
      "source": [
        "# Seperating validation and training accuracy\n",
        "def train_plot(history, name):\n",
        "    acc = history.history['accuracy']\n",
        "    val_acc = history.history['val_accuracy']\n",
        "\n",
        "    # Seperating validation and training loss\n",
        "    loss = history.history['loss']\n",
        "    val_loss = history.history['val_loss']\n",
        "\n",
        "    # Plotting\n",
        "    plt.figure(figsize=(8, 4))\n",
        "    plt.subplot(1, 2, 1)\n",
        "    plt.plot(acc)\n",
        "    plt.plot(val_acc)\n",
        "    plt.title(f'{name}: Accuracy')\n",
        "    plt.xlabel('Epochs')\n",
        "    plt.ylabel('Accuracy')\n",
        "    plt.legend(['TrainingAccuracy', 'Validation Accuracy'])\n",
        "\n",
        "    plt.subplot(1, 2, 2)\n",
        "    plt.plot(loss)\n",
        "    plt.plot(val_loss)\n",
        "    plt.title(f'{name}: Loss')\n",
        "    plt.xlabel('Epochs')\n",
        "    plt.ylabel('Loss')\n",
        "    plt.legend(['Training Loss', 'Validation Loss'])\n",
        "\n",
        "    plt.show()"
      ],
      "metadata": {
        "id": "AbFGQN1G-N9V"
      },
      "execution_count": 98,
      "outputs": []
    },
    {
      "cell_type": "code",
      "source": [
        "def confusion_matrix_plot(predictions, labels):\n",
        "    true_labels = np.argmax(labels, axis=1)\n",
        "    pred_labels = np.argmax(predictions, axis=1)\n",
        "\n",
        "    cm = confusion_matrix(true_labels, pred_labels)\n",
        "\n",
        "    plt.figure(figsize=(10,7))\n",
        "    sns.heatmap(cm, annot=True, fmt='d', xticklabels=['Negative', 'Neutral', 'Positive'], yticklabels=['Negative', 'Neutral', 'Positive'], cmap='Blues')\n",
        "    plt.xlabel('Predicted')\n",
        "    plt.ylabel('Labeled')\n",
        "\n",
        "def result_test(predictions, labels):\n",
        "    true_labels = np.argmax(labels, axis=1)\n",
        "    pred_labels = np.argmax(predictions, axis=1)\n",
        "    return {\n",
        "        'Accuracy': accuracy_score(true_labels, pred_labels),\n",
        "        'Recall': recall_score(true_labels, pred_labels, average='macro'),\n",
        "        'Precision': precision_score(true_labels, pred_labels, average='macro'),\n",
        "        'F1-Score': f1_score(true_labels, pred_labels, average='macro')\n",
        "    }"
      ],
      "metadata": {
        "id": "9Zt7yykWGZt5"
      },
      "execution_count": 56,
      "outputs": []
    },
    {
      "cell_type": "markdown",
      "source": [
        "# Data preprocessing"
      ],
      "metadata": {
        "id": "Vndn7SU_vjt8"
      }
    },
    {
      "cell_type": "markdown",
      "source": [
        "## Discover data"
      ],
      "metadata": {
        "id": "xkkiCCA7v3uu"
      }
    },
    {
      "cell_type": "code",
      "source": [
        "data_train = pd.read_csv(\"vlsp_sentiment_train.csv\", sep='\\t')\n",
        "data_test = pd.read_csv(\"vlsp_sentiment_test.csv\", sep='\\t')\n",
        "data_train"
      ],
      "metadata": {
        "colab": {
          "base_uri": "https://localhost:8080/",
          "height": 728
        },
        "id": "gVAnuCEsoEO6",
        "outputId": "e528afcf-e85a-4dc8-ebbc-28d8b3448776"
      },
      "execution_count": 103,
      "outputs": [
        {
          "output_type": "execute_result",
          "data": {
            "text/plain": [
              "      Class                                               Data\n",
              "0        -1  Mình đã dùng anywhere thế hệ đầu, quả là đầy t...\n",
              "1        -1  Quan tâm nhất là độ trễ có cao không, dùng thi...\n",
              "2        -1  dag xài con cùi bắp 98k....pin trâu, mỗi tội đ...\n",
              "3        -1  logitech chắc hàng phải tiền triệu trở lên dùn...\n",
              "4        -1  Đang xài con m175 cùi mía , nhà xài nhiều chuộ...\n",
              "...     ...                                                ...\n",
              "5095      0  Mình mua máy về đc 1 ngày mà điện thoại khác g...\n",
              "5096      0  Có bạn nào dùng f1w ko.mình dùng m cảm thấy qu...\n",
              "5097      0  Dùng oppo mà bộ nhớ 4gb thì k chơi games ...\n",
              "5098      0  Sao tui thích xài hàng oppo mà lựa toàn mấy đứ...\n",
              "5099      0  mới mở hộp ,oy mở vào camera mà đã có ảnh chụp...\n",
              "\n",
              "[5100 rows x 2 columns]"
            ],
            "text/html": [
              "\n",
              "  <div id=\"df-2919b484-b1a1-45f4-a9fc-dc048f085087\" class=\"colab-df-container\">\n",
              "    <div>\n",
              "<style scoped>\n",
              "    .dataframe tbody tr th:only-of-type {\n",
              "        vertical-align: middle;\n",
              "    }\n",
              "\n",
              "    .dataframe tbody tr th {\n",
              "        vertical-align: top;\n",
              "    }\n",
              "\n",
              "    .dataframe thead th {\n",
              "        text-align: right;\n",
              "    }\n",
              "</style>\n",
              "<table border=\"1\" class=\"dataframe\">\n",
              "  <thead>\n",
              "    <tr style=\"text-align: right;\">\n",
              "      <th></th>\n",
              "      <th>Class</th>\n",
              "      <th>Data</th>\n",
              "    </tr>\n",
              "  </thead>\n",
              "  <tbody>\n",
              "    <tr>\n",
              "      <th>0</th>\n",
              "      <td>-1</td>\n",
              "      <td>Mình đã dùng anywhere thế hệ đầu, quả là đầy t...</td>\n",
              "    </tr>\n",
              "    <tr>\n",
              "      <th>1</th>\n",
              "      <td>-1</td>\n",
              "      <td>Quan tâm nhất là độ trễ có cao không, dùng thi...</td>\n",
              "    </tr>\n",
              "    <tr>\n",
              "      <th>2</th>\n",
              "      <td>-1</td>\n",
              "      <td>dag xài con cùi bắp 98k....pin trâu, mỗi tội đ...</td>\n",
              "    </tr>\n",
              "    <tr>\n",
              "      <th>3</th>\n",
              "      <td>-1</td>\n",
              "      <td>logitech chắc hàng phải tiền triệu trở lên dùn...</td>\n",
              "    </tr>\n",
              "    <tr>\n",
              "      <th>4</th>\n",
              "      <td>-1</td>\n",
              "      <td>Đang xài con m175 cùi mía , nhà xài nhiều chuộ...</td>\n",
              "    </tr>\n",
              "    <tr>\n",
              "      <th>...</th>\n",
              "      <td>...</td>\n",
              "      <td>...</td>\n",
              "    </tr>\n",
              "    <tr>\n",
              "      <th>5095</th>\n",
              "      <td>0</td>\n",
              "      <td>Mình mua máy về đc 1 ngày mà điện thoại khác g...</td>\n",
              "    </tr>\n",
              "    <tr>\n",
              "      <th>5096</th>\n",
              "      <td>0</td>\n",
              "      <td>Có bạn nào dùng f1w ko.mình dùng m cảm thấy qu...</td>\n",
              "    </tr>\n",
              "    <tr>\n",
              "      <th>5097</th>\n",
              "      <td>0</td>\n",
              "      <td>Dùng oppo mà bộ nhớ 4gb thì k chơi games ...</td>\n",
              "    </tr>\n",
              "    <tr>\n",
              "      <th>5098</th>\n",
              "      <td>0</td>\n",
              "      <td>Sao tui thích xài hàng oppo mà lựa toàn mấy đứ...</td>\n",
              "    </tr>\n",
              "    <tr>\n",
              "      <th>5099</th>\n",
              "      <td>0</td>\n",
              "      <td>mới mở hộp ,oy mở vào camera mà đã có ảnh chụp...</td>\n",
              "    </tr>\n",
              "  </tbody>\n",
              "</table>\n",
              "<p>5100 rows × 2 columns</p>\n",
              "</div>\n",
              "    <div class=\"colab-df-buttons\">\n",
              "\n",
              "  <div class=\"colab-df-container\">\n",
              "    <button class=\"colab-df-convert\" onclick=\"convertToInteractive('df-2919b484-b1a1-45f4-a9fc-dc048f085087')\"\n",
              "            title=\"Convert this dataframe to an interactive table.\"\n",
              "            style=\"display:none;\">\n",
              "\n",
              "  <svg xmlns=\"http://www.w3.org/2000/svg\" height=\"24px\" viewBox=\"0 -960 960 960\">\n",
              "    <path d=\"M120-120v-720h720v720H120Zm60-500h600v-160H180v160Zm220 220h160v-160H400v160Zm0 220h160v-160H400v160ZM180-400h160v-160H180v160Zm440 0h160v-160H620v160ZM180-180h160v-160H180v160Zm440 0h160v-160H620v160Z\"/>\n",
              "  </svg>\n",
              "    </button>\n",
              "\n",
              "  <style>\n",
              "    .colab-df-container {\n",
              "      display:flex;\n",
              "      gap: 12px;\n",
              "    }\n",
              "\n",
              "    .colab-df-convert {\n",
              "      background-color: #E8F0FE;\n",
              "      border: none;\n",
              "      border-radius: 50%;\n",
              "      cursor: pointer;\n",
              "      display: none;\n",
              "      fill: #1967D2;\n",
              "      height: 32px;\n",
              "      padding: 0 0 0 0;\n",
              "      width: 32px;\n",
              "    }\n",
              "\n",
              "    .colab-df-convert:hover {\n",
              "      background-color: #E2EBFA;\n",
              "      box-shadow: 0px 1px 2px rgba(60, 64, 67, 0.3), 0px 1px 3px 1px rgba(60, 64, 67, 0.15);\n",
              "      fill: #174EA6;\n",
              "    }\n",
              "\n",
              "    .colab-df-buttons div {\n",
              "      margin-bottom: 4px;\n",
              "    }\n",
              "\n",
              "    [theme=dark] .colab-df-convert {\n",
              "      background-color: #3B4455;\n",
              "      fill: #D2E3FC;\n",
              "    }\n",
              "\n",
              "    [theme=dark] .colab-df-convert:hover {\n",
              "      background-color: #434B5C;\n",
              "      box-shadow: 0px 1px 3px 1px rgba(0, 0, 0, 0.15);\n",
              "      filter: drop-shadow(0px 1px 2px rgba(0, 0, 0, 0.3));\n",
              "      fill: #FFFFFF;\n",
              "    }\n",
              "  </style>\n",
              "\n",
              "    <script>\n",
              "      const buttonEl =\n",
              "        document.querySelector('#df-2919b484-b1a1-45f4-a9fc-dc048f085087 button.colab-df-convert');\n",
              "      buttonEl.style.display =\n",
              "        google.colab.kernel.accessAllowed ? 'block' : 'none';\n",
              "\n",
              "      async function convertToInteractive(key) {\n",
              "        const element = document.querySelector('#df-2919b484-b1a1-45f4-a9fc-dc048f085087');\n",
              "        const dataTable =\n",
              "          await google.colab.kernel.invokeFunction('convertToInteractive',\n",
              "                                                    [key], {});\n",
              "        if (!dataTable) return;\n",
              "\n",
              "        const docLinkHtml = 'Like what you see? Visit the ' +\n",
              "          '<a target=\"_blank\" href=https://colab.research.google.com/notebooks/data_table.ipynb>data table notebook</a>'\n",
              "          + ' to learn more about interactive tables.';\n",
              "        element.innerHTML = '';\n",
              "        dataTable['output_type'] = 'display_data';\n",
              "        await google.colab.output.renderOutput(dataTable, element);\n",
              "        const docLink = document.createElement('div');\n",
              "        docLink.innerHTML = docLinkHtml;\n",
              "        element.appendChild(docLink);\n",
              "      }\n",
              "    </script>\n",
              "  </div>\n",
              "\n",
              "\n",
              "<div id=\"df-3877a9a5-9e18-4b40-92e2-5c0cca8b9246\">\n",
              "  <button class=\"colab-df-quickchart\" onclick=\"quickchart('df-3877a9a5-9e18-4b40-92e2-5c0cca8b9246')\"\n",
              "            title=\"Suggest charts\"\n",
              "            style=\"display:none;\">\n",
              "\n",
              "<svg xmlns=\"http://www.w3.org/2000/svg\" height=\"24px\"viewBox=\"0 0 24 24\"\n",
              "     width=\"24px\">\n",
              "    <g>\n",
              "        <path d=\"M19 3H5c-1.1 0-2 .9-2 2v14c0 1.1.9 2 2 2h14c1.1 0 2-.9 2-2V5c0-1.1-.9-2-2-2zM9 17H7v-7h2v7zm4 0h-2V7h2v10zm4 0h-2v-4h2v4z\"/>\n",
              "    </g>\n",
              "</svg>\n",
              "  </button>\n",
              "\n",
              "<style>\n",
              "  .colab-df-quickchart {\n",
              "      --bg-color: #E8F0FE;\n",
              "      --fill-color: #1967D2;\n",
              "      --hover-bg-color: #E2EBFA;\n",
              "      --hover-fill-color: #174EA6;\n",
              "      --disabled-fill-color: #AAA;\n",
              "      --disabled-bg-color: #DDD;\n",
              "  }\n",
              "\n",
              "  [theme=dark] .colab-df-quickchart {\n",
              "      --bg-color: #3B4455;\n",
              "      --fill-color: #D2E3FC;\n",
              "      --hover-bg-color: #434B5C;\n",
              "      --hover-fill-color: #FFFFFF;\n",
              "      --disabled-bg-color: #3B4455;\n",
              "      --disabled-fill-color: #666;\n",
              "  }\n",
              "\n",
              "  .colab-df-quickchart {\n",
              "    background-color: var(--bg-color);\n",
              "    border: none;\n",
              "    border-radius: 50%;\n",
              "    cursor: pointer;\n",
              "    display: none;\n",
              "    fill: var(--fill-color);\n",
              "    height: 32px;\n",
              "    padding: 0;\n",
              "    width: 32px;\n",
              "  }\n",
              "\n",
              "  .colab-df-quickchart:hover {\n",
              "    background-color: var(--hover-bg-color);\n",
              "    box-shadow: 0 1px 2px rgba(60, 64, 67, 0.3), 0 1px 3px 1px rgba(60, 64, 67, 0.15);\n",
              "    fill: var(--button-hover-fill-color);\n",
              "  }\n",
              "\n",
              "  .colab-df-quickchart-complete:disabled,\n",
              "  .colab-df-quickchart-complete:disabled:hover {\n",
              "    background-color: var(--disabled-bg-color);\n",
              "    fill: var(--disabled-fill-color);\n",
              "    box-shadow: none;\n",
              "  }\n",
              "\n",
              "  .colab-df-spinner {\n",
              "    border: 2px solid var(--fill-color);\n",
              "    border-color: transparent;\n",
              "    border-bottom-color: var(--fill-color);\n",
              "    animation:\n",
              "      spin 1s steps(1) infinite;\n",
              "  }\n",
              "\n",
              "  @keyframes spin {\n",
              "    0% {\n",
              "      border-color: transparent;\n",
              "      border-bottom-color: var(--fill-color);\n",
              "      border-left-color: var(--fill-color);\n",
              "    }\n",
              "    20% {\n",
              "      border-color: transparent;\n",
              "      border-left-color: var(--fill-color);\n",
              "      border-top-color: var(--fill-color);\n",
              "    }\n",
              "    30% {\n",
              "      border-color: transparent;\n",
              "      border-left-color: var(--fill-color);\n",
              "      border-top-color: var(--fill-color);\n",
              "      border-right-color: var(--fill-color);\n",
              "    }\n",
              "    40% {\n",
              "      border-color: transparent;\n",
              "      border-right-color: var(--fill-color);\n",
              "      border-top-color: var(--fill-color);\n",
              "    }\n",
              "    60% {\n",
              "      border-color: transparent;\n",
              "      border-right-color: var(--fill-color);\n",
              "    }\n",
              "    80% {\n",
              "      border-color: transparent;\n",
              "      border-right-color: var(--fill-color);\n",
              "      border-bottom-color: var(--fill-color);\n",
              "    }\n",
              "    90% {\n",
              "      border-color: transparent;\n",
              "      border-bottom-color: var(--fill-color);\n",
              "    }\n",
              "  }\n",
              "</style>\n",
              "\n",
              "  <script>\n",
              "    async function quickchart(key) {\n",
              "      const quickchartButtonEl =\n",
              "        document.querySelector('#' + key + ' button');\n",
              "      quickchartButtonEl.disabled = true;  // To prevent multiple clicks.\n",
              "      quickchartButtonEl.classList.add('colab-df-spinner');\n",
              "      try {\n",
              "        const charts = await google.colab.kernel.invokeFunction(\n",
              "            'suggestCharts', [key], {});\n",
              "      } catch (error) {\n",
              "        console.error('Error during call to suggestCharts:', error);\n",
              "      }\n",
              "      quickchartButtonEl.classList.remove('colab-df-spinner');\n",
              "      quickchartButtonEl.classList.add('colab-df-quickchart-complete');\n",
              "    }\n",
              "    (() => {\n",
              "      let quickchartButtonEl =\n",
              "        document.querySelector('#df-3877a9a5-9e18-4b40-92e2-5c0cca8b9246 button');\n",
              "      quickchartButtonEl.style.display =\n",
              "        google.colab.kernel.accessAllowed ? 'block' : 'none';\n",
              "    })();\n",
              "  </script>\n",
              "</div>\n",
              "    </div>\n",
              "  </div>\n"
            ]
          },
          "metadata": {},
          "execution_count": 103
        },
        {
          "output_type": "display_data",
          "data": {
            "text/plain": [
              "<google.colab._quickchart_helpers.SectionTitle at 0x78cb6a8f9570>"
            ],
            "text/html": [
              "<h4 class=\"colab-quickchart-section-title\">Distributions</h4>\n",
              "<style>\n",
              "  .colab-quickchart-section-title {\n",
              "      clear: both;\n",
              "  }\n",
              "</style>"
            ]
          },
          "metadata": {}
        },
        {
          "output_type": "display_data",
          "data": {
            "text/plain": [
              "from matplotlib import pyplot as plt\n",
              "data_train['Class'].plot(kind='hist', bins=20, title='Class')\n",
              "plt.gca().spines[['top', 'right',]].set_visible(False)"
            ],
            "text/html": [
              "      <div class=\"colab-quickchart-chart-with-code\" id=\"chart-d4209143-96ca-4e5c-8df9-d9fefee0d252\">\n",
              "        <img style=\"width: 180px;\" src=\"data:image/png;base64,iVBORw0KGgoAAAANSUhEUgAAAjUAAAGrCAYAAAA4kWY2AAAAOXRFWHRTb2Z0d2FyZQBNYXRwbG90\n",
              "bGliIHZlcnNpb24zLjcuMSwgaHR0cHM6Ly9tYXRwbG90bGliLm9yZy/bCgiHAAAACXBIWXMAAA9h\n",
              "AAAPYQGoP6dpAAAnQklEQVR4nO3dfXBUZZ728atJQ49IEjQMEAidCOnE4S2YkFSAkYxalMjjCIsw\n",
              "LgwoC04CyjAW1gosbjG6FJFZdEVcK4FhwqypdeRtxi0ZFWV50V0koBMGcSUJ0AlgYhQ0QRdCXu7n\n",
              "D57px5aQpDPpdOfO91N1quj7d06f+9cnTa46fdLHYYwxAgAA6OJ6hHoCAAAAHYFQAwAArECoAQAA\n",
              "ViDUAAAAKxBqAACAFQg1AADACoQaAABgBUINAACwAqEGAABYgVADoEvYsmWL4uLiQj0NAGGMUAMg\n",
              "bBw7dkx/+7d/q9jYWPXp00cJCQmaNWuWPvzww1BPDUAXQKgBEBb27dunjIwMDRgwQAcPHtTFixdV\n",
              "XFysSZMmadu2baGeHoAugFADICzk5ORoxowZWr9+vRISEuRwONS3b1/Nnz9fubm516y/bds2paWl\n",
              "6aabblK/fv1033336fTp07760aNHlZWVpb59++qmm25SWlqaTpw4IUnau3evxo4dq+joaMXExGjC\n",
              "hAn68ssvO61XAMFBqAEQcqWlpSopKdGDDz7Y5m0iIyP1m9/8Rl988YU++eQTGWM0e/ZsX/2RRx7R\n",
              "XXfdpS+++EKff/65Nm/erL59+0qS5syZo0cffVRfffWVKisrtW7dOvXq1auj2wLQyZyhngAAVFdX\n",
              "S1JAFwJPnjzZ9+9+/frp6aefVmpqqi5evKjIyEj16tVLFRUVKi8v17BhwzRmzBjf+r169dLJkyf1\n",
              "6aefavDgwRo3blyH9QIgdDhTAyDk+vfvL0k6e/Zsm7fZv3+/7rrrLsXGxioqKkpZWVmS/n9A2rJl\n",
              "ixwOh+68807FxcXpscce09dffy1J+o//+A+dOnVKaWlpSkxM1KpVq9TQ0NDBXQHobIQaACHn8XiU\n",
              "lJSkl19+uU3rX7lyRffee68mT56skpIS1dbWav/+/ZIkY4wkKT4+Xps2bVJ5ebn27dunt99+23dt\n",
              "zqhRo/Tv//7vqqqq0vbt25WXl6eCgoLgNAeg0xBqAISF/Px8bdu2TUuXLlV5ebmMMaqtrdW//du/\n",
              "aeXKlX7rXrlyRZcuXdJNN92kyMhIffrpp3ryySf91tmyZYvOnj0rY4yioqLkdDrldDp15coVFRQU\n",
              "6PPPP5ckRUdHKyIiQk4nn8YDXR2hBkBY+NGPfqRDhw7p3LlzysjIUGRkpEaPHq0333xTM2bM8Fu3\n",
              "T58++vWvf63Vq1erT58+uueeezRz5ky/dfbu3auMjAz16dNHKSkpGjdunJYtWyZJ2r59u0aMGKEb\n",
              "b7xRWVlZmjdvnh566KFO6xVAcDjMX87VAgAAdGGcqQEAAFYg1AAAACsQagAAgBUINQAAwAqEGgAA\n",
              "YAVCDQAAsAKhBgAAWKFbhZr169eHegoAACBIulWoKS8vD/UUAABAkHSrUAMAAOxFqAEAAFYg1AAA\n",
              "ACsQagAAgBUINQAAwAqEGgAAYAVCDQAAsAKhBgAAWIFQAwAArECoAQAAViDUAAAAKxBqAACAFQg1\n",
              "AADACoQaAABgBUINAACwgjPUE7BFwvJdQXle7zP/JyjPC9gmWO9Bifch7GLze4UzNQAAwAqEGgAA\n",
              "YAVCDQAAsAKhBgAAWIFQAwAArECoAQAAViDUAAAAKxBqAACAFQg1AADACoQaAABgBUINAACwAqEG\n",
              "AABYgVADAACsQKgBAABWINQAAAArEGoAAIAVCDUAAMAKQQ01S5YsUUJCghwOh4qLi33jdXV1Wrx4\n",
              "sTwej0aNGqU5c+b4aqWlpRo/frySkpKUnp6u48ePt6kGAAC6t6CGmhkzZui9995TfHy83/jy5cvl\n",
              "cDhUUlKiY8eOad26db5aTk6OsrOzVVJSomXLlmnevHltqgEAgO7NGcwnnzhx4jVj33zzjTZv3qyz\n",
              "Z8/K4XBIkgYOHChJqq6u1pEjR7R7925J0v3336/FixerrKxMUVFR160lJiZes5+6ujrV1dX5jTU2\n",
              "NnZofwAAIHx0+jU1J0+e1M0336w1a9Zo7Nixuv3227Vnzx5J0pkzZxQbGyun82rWcjgccrvdqqio\n",
              "aLHWnNzcXEVHR/stRUVFndMkAADodJ0eahoaGlReXq7hw4fryJEjeuGFF/TAAw/os88+69D9rFix\n",
              "QjU1NX5LRkZGh+4DAACEj6B+/NQct9utHj166Kc//akk6bbbbtMtt9yiY8eOafTo0aqsrFRDQ4Oc\n",
              "TqeMMaqoqJDb7VZUVNR1a81xuVxyuVx+YxEREUHvDwAAhEann6np16+f7rrrLr311luSpNOnT+v0\n",
              "6dP6wQ9+oP79+ys1NVWFhYWSpB07diguLk6JiYkt1gAAAIJ6piYnJ0e7du1SVVWV7r77bkVGRqqs\n",
              "rEx5eXlasGCBli1bph49eig/P1+DBw+WJOXn52vevHlas2aNoqKiVFBQ4Hu+lmoAAKB7C2qoyc/P\n",
              "b3Z86NCh2rt3b7O15ORkHTx4MOAaAADo3vhGYQAAYAVCDQAAsAKhBgAAWIFQAwAArECoAQAAViDU\n",
              "AAAAKxBqAACAFQg1AADACoQaAABgBUINAACwAqEGAABYgVADAACsQKgBAABWINQAAAArEGoAAIAV\n",
              "CDUAAMAKhBoAAGAFQg0AALACoQYAAFiBUAMAAKxAqAEAAFYg1AAAACsQagAAgBUINQAAwAqEGgAA\n",
              "YAVCDQAAsAKhBgAAWIFQAwAArECoAQAAViDUAAAAKxBqAACAFQg1AADACkENNUuWLFFCQoIcDoeK\n",
              "i4uvqRcUFMjhcOgPf/iDb6y6ulqTJ0+Wx+PRyJEjdeDAgTbVAABA9xbUUDNjxgy99957io+Pv6bm\n",
              "9Xq1adMmZWZm+o0vX75cmZmZKi0tVUFBgWbPnq36+vpWawAAoHsLaqiZOHGi4uLirhlvamrSww8/\n",
              "rA0bNsjlcvnVtm7dqoULF0qS0tPTNWjQIO3fv7/V2nfV1dWptrbWb2lsbOzI9gAAQBgJyTU1zz33\n",
              "nCZMmKC0tDS/8fPnz6u+vl4DBw70jSUkJKiioqLFWnNyc3MVHR3ttxQVFQWnIQAAEHKdHmo++ugj\n",
              "7dixQ08++WRQ97NixQrV1NT4LRkZGUHdJwAACB1nZ+/w3XffldfrlcfjkSRVVVUpOztblZWVWrRo\n",
              "kZxOp6qqqnxnZLxer9xut2JiYq5ba47L5brmo62IiIggdgYAAEKp08/ULFq0SJWVlfJ6vfJ6vcrM\n",
              "zNTGjRu1aNEiSdLMmTOVl5cnSTp8+LDOnTunrKysVmsAAKB7C+qZmpycHO3atUtVVVW6++67FRkZ\n",
              "qbKysha3Wbt2rebOnSuPx6NevXqpsLBQPXv2bLUGAAC6t6CGmvz8/FbX2bdvn9/jAQMGaPfu3c2u\n",
              "21INAAB0b3yjMAAAsAKhBgAAWIFQAwAArECoAQAAViDUAAAAKxBqAACAFQg1AADACoQaAABgBUIN\n",
              "AACwAqEGAABYgVADAACsQKgBAABWINQAAAArEGoAAIAVCDUAAMAKhBoAAGAFQg0AALACoQYAAFiB\n",
              "UAMAAKxAqAEAAFYg1AAAACsQagAAgBUINQAAwAqEGgAAYAVCDQAAsAKhBgAAWIFQAwAArECoAQAA\n",
              "ViDUAAAAKxBqAACAFQg1AADACoQaAABghaCGmiVLlighIUEOh0PFxcWSpMuXL2vatGlKSkpSSkqK\n",
              "Jk2apLKyMt821dXVmjx5sjwej0aOHKkDBw60qQYAALq3oIaaGTNm6L333lN8fLzfeHZ2tk6cOKGj\n",
              "R49q6tSpevjhh3215cuXKzMzU6WlpSooKNDs2bNVX1/fag0AAHRvQQ01EydOVFxcnN/Y9773PU2Z\n",
              "MkUOh0OSlJmZKa/X66tv3bpVCxculCSlp6dr0KBB2r9/f6s1AADQvTlDPYH169dr6tSpkqTz58+r\n",
              "vr5eAwcO9NUTEhJUUVHRYq05dXV1qqur8xtrbGwMQgcAACAchPRC4TVr1qisrEy5ubkd/ty5ubmK\n",
              "jo72W4qKijp8PwAAIDyELNSsW7dOO3fu1BtvvKHevXtLkmJiYuR0OlVVVeVbz+v1yu12t1hrzooV\n",
              "K1RTU+O3ZGRkBLcpAAAQMiEJNc8995xeeeUVvf322+rbt69fbebMmcrLy5MkHT58WOfOnVNWVlar\n",
              "te9yuVyKioryWyIiIoLXFAAACKmgXlOTk5OjXbt2qaqqSnfffbciIyO1b98+Pf744xo6dKjuuOMO\n",
              "SVcDyKFDhyRJa9eu1dy5c+XxeNSrVy8VFhaqZ8+erdYAAED3FtRQk5+f3+y4Mea62wwYMEC7d+8O\n",
              "uAYAALo3vlEYAABYgVADAACsQKgBAABWINQAAAArEGoAAIAVCDUAAMAKhBoAAGAFQg0AALACoQYA\n",
              "AFiBUAMAAKxAqAEAAFYg1AAAACsQagAAgBUINQAAwAqEGgAAYAVCDQAAsAKhBgAAWIFQAwAArECo\n",
              "AQAAViDUAAAAKxBqAACAFQg1AADACoQaAABgBUINAACwAqEGAABYgVADAACsQKgBAABWINQAAAAr\n",
              "EGoAAIAVCDUAAMAKhBoAAGAFQg0AALACoQYAAFgh4FDz1ltvtXndJUuWKCEhQQ6HQ8XFxb7x0tJS\n",
              "jR8/XklJSUpPT9fx48f/6hoAAOjeAg41Tz/9tJKTk7V+/XrV1ta2uO6MGTP03nvvKT4+3m88JydH\n",
              "2dnZKikp0bJlyzRv3ry/ugYAALq3gEPNf/3Xf+l3v/udPvroIyUlJemRRx7Rxx9/3Oy6EydOVFxc\n",
              "nN9YdXW1jhw5ojlz5kiS7r//fp05c0ZlZWXtrjWnrq5OtbW1fktjY2Og7QIAgC6iXdfU3Hbbbdq0\n",
              "aZPefPNNvf766xo9erQmTZqkY8eOtbrtmTNnFBsbK6fTKUlyOBxyu92qqKhod605ubm5io6O9luK\n",
              "iora0y4AAOgC2hVq3nnnHU2dOlXTp0/Xo48+qqqqKuXk5Ohv/uZvOnp+7bZixQrV1NT4LRkZGaGe\n",
              "FgAACBJnoBv84Ac/UL9+/bRkyRJNnz5dERERkq5eP7N58+ZWtx8yZIgqKyvV0NAgp9MpY4wqKirk\n",
              "drsVFRXVrlpzXC6XXC6X39hf5goAAOwT8JmawsJCvfvuu5o5c+Y1IeGNN95odfv+/fsrNTVVhYWF\n",
              "kqQdO3YoLi5OiYmJ7a4BAAAEHGo++OADXbhwwff4/Pnz2rRpU7Pr5uTkKC4uTmfPntXdd9/tCyD5\n",
              "+fnKz89XUlKSnnnmGRUUFPi2aW8NAAB0bwF//PTSSy8pOzvb9zgmJkYvvfSSfvazn12zbn5+frPP\n",
              "kZycrIMHD3ZoDQAAdG8Bn6kxxlwzxp9KAwCAUAs41MTGxmrr1q2+x6+++qpiY2M7dFIAAACBCvjj\n",
              "p+eff15Tp07VE088IUnq3bu3XnvttQ6fGAAAQCACDjW33nqrPv74Y504cULS1etc+FNpAAAQagGH\n",
              "Gunqt/n27dtXDQ0NOnfunCRd9/tiAAAAOkPAoWbLli1asmSJevbsqR49rl6S43A4VF1d3eGTAwAA\n",
              "aKuAQ80//dM/6fDhw0pOTg7GfAAAANol4L9+6tevH4EGAACEnYBDzbRp0/T888+rurpatbW1vgUA\n",
              "ACCUAv74aeXKlZKkpUuXyuFwyBgjh8PBF/ABAICQCjjUNDU1BWMeAAAAf5WAP36Srt7U8uWXX5Yk\n",
              "ffXVV6qsrOzQSQEAAAQq4FDz0ksvaf78+frlL38p6epdumfPnt3R8wIAAAhIwKFm48aNev/99xUV\n",
              "FSVJGjZsmD7//PMOnxgAAEAgAg41LpdLN9xwg9+Y09muLyYGAADoMAGHmu9///sqKSmRw+GQdPUb\n",
              "hrlFAgAACLV23aV71qxZ+uSTTzRkyBBFRUXp9ddfD8bcAAAA2izgUJOYmKhDhw7pxIkTMsZwl24A\n",
              "ABAWAg41FRUVkqQbb7xRkrhLNwAACAsBh5q0tDTfNwlfvnxZ//u//6uYmBju0g0AAEIq4FDz3T/f\n",
              "3rlzp44ePdphEwIAAGiPdn2j8LdNnz5du3bt6oi5AAAAtFvAZ2q+fUfuxsZGHTp0iLt0AwCAkAs4\n",
              "1PTt29d3TU1ERIQ8Ho9eeOGFYMwNAACgzbhLNwAAsMJffU0NAABAOAj4TE2PHj18t0j4NmOMHA6H\n",
              "GhsbO2RiAAAAgQg41Dz99NO6dOmSFi1aJEnKy8vTDTfcoMcee6yj5wYAANBmAYea3//+9/rggw98\n",
              "j1evXq20tDStXLmyQycGAAAQiICvqbl48aLftwdXV1fr4sWLHTopAACAQAV8pubxxx9XSkqKpkyZ\n",
              "Ikl688039ctf/rKj5wUAABCQgENNTk6OJkyYoL1790qSli5dqhEjRnT4xAAAAALRrj/pjomJ0ahR\n",
              "o/Tzn/9cycnJunLlSsDP8cc//lGpqakaM2aMRo4cqd/+9reSrn6cNXnyZHk8Ho0cOVIHDhzwbdNS\n",
              "DQAAdG8Bh5rt27crMzNTf/d3fydJOn78uKZNmxbQcxhjNGfOHG3ZskXFxcV6/fXXlZOTo4sXL2r5\n",
              "8uXKzMxUaWmpCgoKNHv2bNXX10tSizUAANC9BRxqcnNz9eGHH6pv376SpJSUFJWXlwe8Y4fDoa++\n",
              "+krS1ftJxcTEyOVyaevWrVq4cKEkKT09XYMGDdL+/fslqcUaAADo3gK+piYiIkIxMTF+Y7169Qro\n",
              "ORwOh1599VVNnz5dN954o7788kvt3LlTFy9eVH19vQYOHOhbNyEhQRUVFTp//vx1a82pq6tTXV2d\n",
              "3xhfDAgAgL0CPlMTGRmpzz77zPetwnv27NHNN98c0HM0NDRo9erV2rlzp8rLy7Vnzx7NnTtXDQ0N\n",
              "gU7nunJzcxUdHe23FBUVddjzAwCA8BJwqFm7dq3uuecenTp1Sj/84Q/14IMP6tlnnw3oOYqLi/Xp\n",
              "p59q4sSJkq5+lBQXF6c///nPcjqdqqqq8q3r9XrldrsVExNz3VpzVqxYoZqaGr8lIyMj0HYBAEAX\n",
              "EVCoaWpqUmNjo/bu3atXXnlF//AP/6Djx49rzJgxAe10yJAhqqys1P/8z/9IksrKynTy5EklJydr\n",
              "5syZysvLkyQdPnxY586dU1ZWliS1WPsul8ulqKgovyUiIiKgeQIAgK4joGtqevTooezsbB09elT3\n",
              "3HNPu3c6YMAAbdy4UT/5yU/Uo0cPNTU16cUXX5Tb7dbatWs1d+5ceTwe9erVS4WFherZs6cktVgD\n",
              "AADdW8AXCns8HpWVlSkxMfGv2vGsWbM0a9asa8YHDBig3bt3N7tNSzUAANC9BRxqLly4oDFjxmj8\n",
              "+PHq06ePb3znzp0dOjEAAIBAtDnUZGdna+PGjXrooYd033336aabbgrmvAAAAALS5lBz5MgRSdJD\n",
              "Dz2k1NRUffjhh0GbFAAAQKDade8nY0xHzwMAAOCv0uYzNZcuXdKxY8dkjNHly5d9//6L0aNHB2WC\n",
              "AAAAbRFQqLnvvvt8j7/9b4fDoVOnTnXszAAAAALQ5lDj9XqDOA0AAIC/TruuqQEAAAg3hBoAAGAF\n",
              "Qg0AALACoQYAAFiBUAMAAKxAqAEAAFYg1AAAACsQagAAgBUINQAAwAqEGgAAYAVCDQAAsAKhBgAA\n",
              "WIFQAwAArECoAQAAViDUAAAAKxBqAACAFQg1AADACoQaAABgBUINAACwAqEGAABYgVADAACsQKgB\n",
              "AABWINQAAAArEGoAAIAVCDUAAMAKhBoAAGCFkIWauro6LV68WB6PR6NGjdKcOXMkSaWlpRo/fryS\n",
              "kpKUnp6u48eP+7ZpqQYAALq3kIWa5cuXy+FwqKSkRMeOHdO6deskSTk5OcrOzlZJSYmWLVumefPm\n",
              "+bZpqQYAALo3Zyh2+s0332jz5s06e/asHA6HJGngwIGqrq7WkSNHtHv3bknS/fffr8WLF6usrExR\n",
              "UVHXrSUmJl6zj7q6OtXV1fmNNTY2BrkzAAAQKiE5U3Py5EndfPPNWrNmjcaOHavbb79de/bs0Zkz\n",
              "ZxQbGyun82rWcjgccrvdqqioaLHWnNzcXEVHR/stRUVFndYjAADoXCEJNQ0NDSovL9fw4cN15MgR\n",
              "vfDCC3rggQfU0NDQYftYsWKFampq/JaMjIwOe34AABBeQvLxk9vtVo8ePfTTn/5UknTbbbfplltu\n",
              "UXl5uSorK9XQ0CCn0yljjCoqKuR2uxUVFXXdWnNcLpdcLpffWERERNB7AwAAoRGSMzX9+vXTXXfd\n",
              "pbfeekuSdPr0aZ0+fVoTJkxQamqqCgsLJUk7duxQXFycEhMT1b9//+vWAAAAQnKmRpLy8vK0YMEC\n",
              "LVu2TD169FB+fr4GDx6s/Px8zZs3T2vWrFFUVJQKCgp827RUAwAA3VvIQs3QoUO1d+/ea8aTk5N1\n",
              "8ODBZrdpqQYAALo3vlEYAABYgVADAACsQKgBAABWINQAAAArEGoAAIAVCDUAAMAKhBoAAGAFQg0A\n",
              "ALACoQYAAFiBUAMAAKxAqAEAAFYg1AAAACsQagAAgBUINQAAwAqEGgAAYAVCDQAAsAKhBgAAWIFQ\n",
              "AwAArECoAQAAViDUAAAAKxBqAACAFQg1AADACoQaAABgBUINAACwAqEGAABYgVADAACsQKgBAABW\n",
              "INQAAAArEGoAAIAVCDUAAMAKhBoAAGAFQg0AALBCyENNQUGBHA6H/vCHP0iSqqurNXnyZHk8Ho0c\n",
              "OVIHDhzwrdtSDQAAdG8hDTVer1ebNm1SZmamb2z58uXKzMxUaWmpCgoKNHv2bNXX17daAwAA3VvI\n",
              "Qk1TU5MefvhhbdiwQS6Xyze+detWLVy4UJKUnp6uQYMGaf/+/a3Wvquurk61tbV+S2NjY5C7AgAA\n",
              "oRKyUPPcc89pwoQJSktL842dP39e9fX1GjhwoG8sISFBFRUVLdaak5ubq+joaL+lqKgoeA0BAICQ\n",
              "Ckmo+eijj7Rjxw49+eSTQdvHihUrVFNT47dkZGQEbX8AACC0nKHY6bvvviuv1yuPxyNJqqqqUnZ2\n",
              "tp566ik5nU5VVVX5zsh4vV653W7FxMRct9Ycl8vl97GWJEVERASxKwAAEEohOVOzaNEiVVZWyuv1\n",
              "yuv1KjMzUxs3btSiRYs0c+ZM5eXlSZIOHz6sc+fOKSsrS5JarAEAgO4tJGdqWrJ27VrNnTtXHo9H\n",
              "vXr1UmFhoXr27NlqDQAAdG9hEWr27dvn+/eAAQO0e/fuZtdrqQYAALq3kH/5HgAAQEcg1AAAACsQ\n",
              "agAAgBUINQAAwAqEGgAAYAVCDQAAsAKhBgAAWIFQAwAArECoAQAAViDUAAAAKxBqAACAFQg1AADA\n",
              "CoQaAABgBUINAACwAqEGAABYgVADAACsQKgBAABWINQAAAArEGoAAIAVCDUAAMAKhBoAAGAFQg0A\n",
              "ALACoQYAAFiBUAMAAKxAqAEAAFYg1AAAACsQagAAgBUINQAAwAqEGgAAYAVCDQAAsAKhBgAAWIFQ\n",
              "AwAArECoAQAAVghJqLl8+bKmTZumpKQkpaSkaNKkSSorK5MkVVdXa/LkyfJ4PBo5cqQOHDjg266l\n",
              "GgAA6N5CdqYmOztbJ06c0NGjRzV16lQ9/PDDkqTly5crMzNTpaWlKigo0OzZs1VfX99qDQAAdG8h\n",
              "CTXf+973NGXKFDkcDklSZmamvF6vJGnr1q1auHChJCk9PV2DBg3S/v37W619V11dnWpra/2WxsbG\n",
              "IHcGAABCJSyuqVm/fr2mTp2q8+fPq76+XgMHDvTVEhISVFFR0WKtObm5uYqOjvZbioqKgt4LAAAI\n",
              "jZCHmjVr1qisrEy5ubkd+rwrVqxQTU2N35KRkdGh+wAAAOHDGcqdr1u3Tjt37tQ777yj3r17q3fv\n",
              "3nI6naqqqvKdkfF6vXK73YqJiblurTkul0sul8tvLCIiIrgNAQCAkAnZmZrnnntOr7zyit5++231\n",
              "7dvXNz5z5kzl5eVJkg4fPqxz584pKyur1RoAAOjeQnKm5uzZs3r88cc1dOhQ3XHHHZKunlk5dOiQ\n",
              "1q5dq7lz58rj8ahXr14qLCxUz549JanFGgAA6N5CEmri4uJkjGm2NmDAAO3evTvgGgAA6N5CfqEw\n",
              "AABARyDUAAAAKxBqAACAFQg1AADACoQaAABgBUINAACwAqEGAABYgVADAACsQKgBAABWINQAAAAr\n",
              "EGoAAIAVCDUAAMAKhBoAAGAFQg0AALACoQYAAFiBUAMAAKxAqAEAAFYg1AAAACsQagAAgBUINQAA\n",
              "wAqEGgAAYAVCDQAAsAKhBgAAWIFQAwAArECoAQAAViDUAAAAKxBqAACAFQg1AADACoQaAABgBUIN\n",
              "AACwAqEGAABYgVADAACs0OVCTWlpqcaPH6+kpCSlp6fr+PHjoZ4SAAAIA10u1OTk5Cg7O1slJSVa\n",
              "tmyZ5s2bF+opAQCAMNClQk11dbWOHDmiOXPmSJLuv/9+nTlzRmVlZdesW1dXp9raWr+lsbGxs6cM\n",
              "AAA6iTPUEwjEmTNnFBsbK6fz6rQdDofcbrcqKiqUmJjot25ubq6eeuopv7Fbb71VS5cu7fB5NTY2\n",
              "KraoSBkZGYqIiOjQ5166dE+HPl97NDY2qihI/YUL23vsDv0F6z0o8T7sDPTXeaYH6XkbGxs1btzq\n",
              "oPQYHx+vX/ziF62u5zDGmA7dcxB98MEHmj17tk6cOOEby8jI0DPPPKM777zTb926ujrV1dX5jblc\n",
              "Lrlcrg6fV21traKjo1VTU6OoqKgOf/5Qs70/yf4e6a/rs71H+uv6wqHHLnWmZsiQIaqsrFRDQ4Oc\n",
              "TqeMMaqoqJDb7b5m3WAFGAAAEJ661DU1/fv3V2pqqgoLCyVJO3bsUFxc3DUfPQEAgO6nS52pkaT8\n",
              "/HzNmzdPa9asUVRUlAoKCkI9JQAAEAa6XKhJTk7WwYMHQz0NPy6XS6tWrbL24y7b+5Ps75H+uj7b\n",
              "e6S/ri8ceuxSFwoDAABcT5e6pgYAAOB6CDUAAMAKhBoAAGAFQg0AALACoaaNdu3apbS0NLlcLj32\n",
              "2GMtrtvSncTD9S7jTU1N+vnPf65hw4YpMTFRL774YrPrnT9/XmPGjPEtSUlJcjqdunDhgiTpRz/6\n",
              "kW655RZf/V/+5V86s40WtbVHSUpISFBycrKvj1dffdVX6+rH8PLly5o2bZqSkpKUkpKiSZMm+d0/\n",
              "LdyOYVtf782bN8vj8WjYsGH62c9+pvr6+jbVQq0t/f3nf/6nMjIyNHz4cI0YMUJPPPGEmpqaJEle\n",
              "r1cRERF+78uTJ092dhvX1Zb+9u3bpxtuuMGvh0uXLvnq4Xz8pLb1WFBQ4Ndfv379NH361RsWhPsx\n",
              "XLJkiRISEuRwOFRcXHzd9cLiPWjQJidOnDDFxcVm5cqV5he/+EWL695xxx2moKDAGGPMtm3bzNix\n",
              "Y9tUC6Xf/va35s477zQNDQ3m/Pnzxu12m48++qjV7f75n//Z3Hvvvb7HWVlZ5ve//30QZ9p+gfQY\n",
              "Hx9v/vSnPzVb6+rH8NKlS2bXrl2mqanJGGPMhg0bTFZWlq8ebsewLa/3qVOnTGxsrKmsrDRNTU3m\n",
              "xz/+sXnxxRdbrYWDtvT34YcfmpMnTxpjrh6/CRMm+LY5ffq0iY6O7qTZBq4t/e3du9ekpKQ0u324\n",
              "Hz9j2vd/wogRI8z27duNMeF/DPfv32/OnDnT4v+L4fIeJNQEaNWqVS2Gms8++8xERkaa+vp6Y4wx\n",
              "TU1NZsCAAaa0tLTFWqhNmTLFvPLKK77Hf//3f29WrlzZ6na33nqr3y/AcPuF+G2B9Hi9N6+Nx/Dw\n",
              "4cMmPj7e9zicjmFbX+9f/epXJicnx/d4165dZsKECa3WQq29P0+PPvqoWbVqlTEmvH8htrW/lkJN\n",
              "OB8/Y9p3DN9//33z/e9/31y5csUYE97H8NtaCjXh8h7k46cO1tKdxFuqhVpFRYXi4+N9jxMSElqd\n",
              "13//93/ryy+/1L333us3vnz5co0aNUoPPPCATp06FZT5tkegPT744IMaNWqUFixYoM8//1xSy8c3\n",
              "1NpzDCVp/fr1mjp1qt9YuBzDtr7eLfXe3telM7Tn56mqqkrbt2/3e9998803Sk9PV2pqqp5++mk1\n",
              "NjYGfe5tEUh/J0+eVGpqqtLT0/XSSy/5xsP5+EntO4abN2/W3Llz1bNnT99YuB7DtgqX92CX+0bh\n",
              "YBk3bpxKS0ubrf3pT3/SkCFDOnlGHau1/tpj8+bNevDBB31vZkl6+eWXNWTIEBlj9K//+q+69957\n",
              "9fHHH7fr+QPVkT0eOHBAbrdb9fX1evLJJ/XQQw/pj3/8Y0dMs92CcQzXrFmjsrIy7dmzxzcWymOI\n",
              "ltXW1urHP/6xnnjiCY0dO1aSFBsbq3Pnzql///66cOGCHnjgAT377LN64oknQjzbtktNTdXZs2cV\n",
              "HR2ts2fPasqUKerXr59+8pOfhHpqHe6bb77R7373O73//vu+MRuOYbjgTM3/c/DgQX3xxRfNLoEE\n",
              "mm/fSVyS353EW6oFW2v9ud1ulZeX+9b3er0tzuvrr7/W1q1bNX/+fL/xv7xWDodDixcv1qlTp3T+\n",
              "/PngNPUdHdnjX8Z79uypxx57TO+++66klo9vsHX0MVy3bp127typN954Q7179/aNh/IYfldbX++W\n",
              "eg/0delMgfw8Xbx4UZMnT9bUqVO1dOlS37jL5VL//v0lSTfffLPmz5/v+3kNtbb2FxUVpejoaElS\n",
              "XFycZs2a5eshnI+fFPj/Cdu2bdOIESM0fPhw31g4H8O2Cpv3YFA+1LJYa9fUGHP1moRvXzSWlpbW\n",
              "plooFRQUXHOR6Z///Ofrrv/rX//6ms9E6+vrTVVVle/x9u3bjdvtDtqcA9XWHr/++mvz5Zdf+h4/\n",
              "++yz5vbbb/c9tuEYPvvssyY1NdVcuHDBbzwcj2FbXu+TJ09ecyHihg0bWq2Fg7b0d/HiRTN+/Hjz\n",
              "1FNPXVP77LPPfNdmXL582cyYMcP84z/+Y1DnHIi29Pfpp5+axsZGY4wxtbW1Zvz48Wbz5s3GmPA/\n",
              "fsYE9n/CD3/4Q7Np0ya/sXA/hn/R0jU14fIeJNS00TvvvGMGDx5sIiMjTZ8+fczgwYPNa6+9Zowx\n",
              "5rXXXjMLFizwrfvJJ5+YzMxM4/F4TFpamt8vlpZqodTQ0GAeeeQRc8stt5ihQ4ea559/3lf7bn/G\n",
              "GDNu3Djzm9/8xm/s66+/NmlpaWbkyJFm9OjR5s477zTFxcWdMv+2aGuPJ0+eNGPGjDGjRo0yI0eO\n",
              "NPfdd585ffq0b92ufgzPnDljJJmhQ4ealJQUk5KSYjIyMowx4XkMr/d6L1iwwPceNMaYjRs3mqFD\n",
              "h5qhQ4ea+fPn+35JtFYLtbb0t3r1auN0On3HKyUlxaxevdoYY8yOHTvMiBEjzOjRo83w4cPN4sWL\n",
              "zeXLl0PWz3e1pb8NGzaY4cOH+3pYtWqV76/zjAnv42dM239GP/nkE9OnTx9TW1vrt324H8Ps7Gwz\n",
              "ePBgExERYfr372+GDRtmjAnP9yA3tAQAAFbgmhoAAGAFQg0AALACoQYAAFiBUAMAAKxAqAEAAFYg\n",
              "1AAAACsQagAAgBUINQAAwAqEGgAAYAVCDQAAsML/BSUXSbg0JUUHAAAAAElFTkSuQmCC\n",
              "\">\n",
              "      </div>\n",
              "      <script type=\"text/javascript\">\n",
              "        (() => {\n",
              "          const chartElement = document.getElementById(\"chart-d4209143-96ca-4e5c-8df9-d9fefee0d252\");\n",
              "          async function getCodeForChartHandler(event) {\n",
              "            const chartCodeResponse =  await google.colab.kernel.invokeFunction(\n",
              "                'getCodeForChart', [\"chart-d4209143-96ca-4e5c-8df9-d9fefee0d252\"], {});\n",
              "            const responseJson = chartCodeResponse.data['application/json'];\n",
              "            await google.colab.notebook.addCell(responseJson.code, 'code');\n",
              "          }\n",
              "          chartElement.onclick = getCodeForChartHandler;\n",
              "        })();\n",
              "      </script>\n",
              "      <style>\n",
              "        .colab-quickchart-chart-with-code  {\n",
              "            display: block;\n",
              "            float: left;\n",
              "            border: 1px solid transparent;\n",
              "        }\n",
              "\n",
              "        .colab-quickchart-chart-with-code:hover {\n",
              "            cursor: pointer;\n",
              "            border: 1px solid #aaa;\n",
              "        }\n",
              "      </style>"
            ]
          },
          "metadata": {}
        },
        {
          "output_type": "display_data",
          "data": {
            "text/plain": [
              "<google.colab._quickchart_helpers.SectionTitle at 0x78cb6ad73cd0>"
            ],
            "text/html": [
              "<h4 class=\"colab-quickchart-section-title\">Values</h4>\n",
              "<style>\n",
              "  .colab-quickchart-section-title {\n",
              "      clear: both;\n",
              "  }\n",
              "</style>"
            ]
          },
          "metadata": {}
        },
        {
          "output_type": "display_data",
          "data": {
            "text/plain": [
              "from matplotlib import pyplot as plt\n",
              "data_train['Class'].plot(kind='line', figsize=(8, 4), title='Class')\n",
              "plt.gca().spines[['top', 'right']].set_visible(False)"
            ],
            "text/html": [
              "      <div class=\"colab-quickchart-chart-with-code\" id=\"chart-be61d522-d6a4-4adc-900b-6d003bd847fc\">\n",
              "        <img style=\"width: 180px;\" src=\"data:image/png;base64,iVBORw0KGgoAAAANSUhEUgAAAqsAAAFuCAYAAACm1lFrAAAAOXRFWHRTb2Z0d2FyZQBNYXRwbG90\n",
              "bGliIHZlcnNpb24zLjcuMSwgaHR0cHM6Ly9tYXRwbG90bGliLm9yZy/bCgiHAAAACXBIWXMAAA9h\n",
              "AAAPYQGoP6dpAAAmVklEQVR4nO3df3BUZZ7v8U/Tra0CCT9iIGXSieSHc4WYH5hUAGeR8TKLjhst\n",
              "kY2zgxCRJM7u6FrZ2mFylevgdQxbxeClRqeIkomlqclkIMxU18zO3ss4iLFkJBllnYXVJEDSDQYi\n",
              "oAlytSHh3D8YWnvphCR2+jxJv19Vp4o+z9Onv4eTU/nknPP047AsyxIAAABgoEl2FwAAAAAMhrAK\n",
              "AAAAYxFWAQAAYCzCKgAAAIxFWAUAAICxCKsAAAAwFmEVAAAAxiKsAgAAwFiEVQAAABiLsAoAhnj5\n",
              "5ZeVnJxsdxkAYBTCKgBE0Z///Gc98MADSkpK0pQpU5SWlqZvf/vbeuedd+wuDQCMRFgFgCh5/fXX\n",
              "VVhYqFmzZmnv3r06c+aM9u/fr6VLl2r79u12lwcARiKsAkCUVFRU6P7779eWLVuUlpYmh8OhadOm\n",
              "ac2aNaqurr6s//bt2zV//nxNnz5dCQkJKi4u1pEjR4Lt//7v/67Fixdr2rRpmj59uubPn68PPvhA\n",
              "krR7927deuutio+P18yZM7Vo0SJ9/PHHUdtXAIgUwioAREF7e7va2tq0atWqYb9n6tSp+tnPfqaT\n",
              "J0/q/fffl2VZ+ru/+7tg+9///d/rjjvu0MmTJ/XRRx+ptrZW06ZNkyStXLlS//AP/6BPPvlE3d3d\n",
              "2rRpk66++upI7xYAjDmX3QUAQCzo6emRpBENoFq2bFnw3wkJCXr66aeVn5+vM2fOaOrUqbr66qvl\n",
              "8/nU1dWl9PR05ebmBvtfffXVOnTokD788EPdcMMNWrBgQcT2BQCiiSurABAFiYmJkqSjR48O+z17\n",
              "9uzRHXfcoaSkJMXFxWnx4sWSvgi+L7/8shwOh77xjW8oOTlZjz/+uD799FNJktfr1eHDhzV//nxl\n",
              "ZGToqaeeUn9/f4T3CgDGHmEVAKIgMzNTWVlZevXVV4fV/9y5c7r77ru1bNkytbW1qa+vT3v27JEk\n",
              "WZYlSUpNTdVLL72krq4uvf7669q1a1fw2dfs7Gz9/Oc/1/Hjx7Vjxw5t3bpVdXV1Y7NzADCGCKsA\n",
              "ECU1NTXavn27Kisr1dXVJcuy1NfXp1deeUVPPPFESN9z587ps88+0/Tp0zV16lR9+OGHevLJJ0P6\n",
              "vPzyyzp69Kgsy1JcXJxcLpdcLpfOnTunuro6ffTRR5Kk+Ph4OZ1OuVw8+QVg/CGsAkCU3H777Xr7\n",
              "7bd17NgxFRYWaurUqbrlllv0b//2b7r//vtD+k6ZMkXbtm3TM888oylTpujOO+/UihUrQvrs3r1b\n",
              "hYWFmjJlinJycrRgwQKtW7dOkrRjxw7NnTtXkydP1uLFi1VaWqrVq1dHbV8BIFIc1qX7SQAAAIBh\n",
              "uLIKAAAAYxFWAQAAYCzCKgAAAIxFWAUAAICxCKsAAAAwFmEVAAAAxiKsAgAAwFgTNqxu2bLF7hIA\n",
              "AADwFU3YsNrV1WV3CQAAAPiKJmxYBQAAwPhHWAUAAICxCKsAAAAwFmEVAAAAxiKsAgAAwFiEVQAA\n",
              "ABiLsAoAAABjEVYBAABgrDEJq4899pjS0tLkcDi0f//+QfvV1tYqMzNT6enpKisr0/nz54fVBgAA\n",
              "gNgwJmH1/vvv15tvvqnU1NRB+xw5ckTr169Xc3OzOjo6dOLECb344otXbAMAAEDsGJOw+ld/9VdK\n",
              "Tk4ess+OHTtUXFys2bNny+Fw6JFHHlFDQ8MV2wAAABA7XHZ9sM/nC7nympaWJp/Pd8W2cAKBgAKB\n",
              "QMi6gYGBCFcMQJJq9hzSroMn7C4DiIpJkxxasyhNy+Yl2V0KELNsC6uRVF1drQ0bNoSsKyoqsqka\n",
              "YGLb9H8/0PkBy+4ygKg5P3CBsArYyLaw6vF4dOjQoeDrzs5OeTyeK7aFU1VVpcrKypB169evj3DF\n",
              "ACSp/8LFoPovy7MVf+1VNlcDjJ0/H+vVC7sPaeACf5wBdrItrC5fvly33XabfvjDH2rWrFnaunWr\n",
              "HnjggSu2heN2u+V2u0PWOZ3OMa0fiHVLvpaoxKnX2F0GMGbcLqekQ7LIqoCtxmSAVUVFhZKTk3X0\n",
              "6FH99V//tTIyMiRJa9euldfrlSTNmTNHGzZs0KJFi5SRkaHrr79eFRUVV2wDAABA7BiTK6s1NTVh\n",
              "12/bti3kdVlZmcrKysL2HaoNAIAx57C7AAASM1gBGCFuiSLWWOKHHrATYRUAAADGIqwCGBUH90gx\n",
              "wV36CeduAmAvwioAAACMRVgFACAMh4O7B4AJCKsAAAyBxwAAexFWAQAAYCzCKoBR4Q4pJrrgACtb\n",
              "qwBAWAUAAICxCKsAAITB3QPADIRVAMNmMdIEMYife8BehFUAAAAYi7AKYFS4Q4qJjlnaADMQVgEA\n",
              "AGAswioAAGEwwAowA2EVwLAxzgSxiJ97wF6EVQCjwrzpAIBoIKwCABDGFzNYcWkVsBNhFQAAAMYi\n",
              "rAIAEA5PugBGIKwCGDZuhiIWMcAKsBdhFcCocNEJABANhFUAAMK4NIMVF1YBexFWAQAAYCzCKgAA\n",
              "YfBVwoAZCKsAhs1ipAliED/3gL3GJKy2t7dr4cKFysrKUkFBgQ4cOHBZn7q6OuXm5gaXhIQE3Xff\n",
              "fZKkzs5OOZ3OkPZDhw6NRakARomrTgCAaHCNxUYrKipUXl6u0tJS7dixQ6WlpWppaQnp89BDD+mh\n",
              "hx4Kvp43b56+853vBF9PnTpV+/fvH4vyAAC4oi9msAJgp4hfWe3p6VFra6tWrlwpSVq+fLn8fr86\n",
              "OjoGfc/bb7+tnp4eFRcXR7ocAAAAjGMRD6t+v19JSUlyuS5etHU4HPJ4PPL5fIO+p7a2Vg8++KCu\n",
              "uuqq4LqzZ8+qoKBA+fn5evrppzUwMDDo+wOBgPr6+kKWofoDAHAlDp51AYxg+wCrs2fP6he/+IUe\n",
              "fvjh4LqkpCQdO3ZMLS0t+v3vf6/m5mb9+Mc/HnQb1dXVio+PD1n27dsXjfKBmMLtUMQkfvABW0U8\n",
              "rKakpKi7u1v9/f2SLo6i9Pl88ng8Yftv375dc+fO1c033xxc53a7lZiYKEmaMWOG1qxZo+bm5kE/\n",
              "s6qqSr29vSFLYWFhBPcKwH/lYA4rAEAURDysJiYmKj8/X/X19ZKkpqYmJScnKyMjI2z/2trakKuq\n",
              "0sXnXs+fPy/p4i3+nTt3Ki8vb9DPdLvdiouLC1mcTmeE9ggAEIsuPQXAhVXAXmPyGEBNTY1qamqU\n",
              "lZWljRs3qq6uTpK0du1aeb3eYL8PPvhA+/fvV0lJScj733zzTeXl5SknJ0f5+fmaPXu2nnjiibEo\n",
              "FQAAAAYbk6+uuummm7R3797L1m/btu2yfmfOnLms33333Rf8zlUAAOwQ/OoqJgUAbGX7ACsA4we/\n",
              "swEA0UZYBTA6jK8CAEQBYRUAgDAYYAWYgbAKAAAAYxFWAQAI6+KlVZ7VBuxFWAUwbBY3RAEAUUZY\n",
              "BTAqTJuOiY6fccAMhFUAAIbAHQXAXoRVAAAAGIuwCgBAGF/MYGVrGUDMI6wCGDZ+aQMAoo2wCmBU\n",
              "GHuCic7BCCvACIRVAACGwB0FwF6EVQAAABiLsAoAQBg8BACYgbAKAAAAYxFWAYwKg08w0fEjDpiB\n",
              "sAoAwBAsRlgBtiKsAgAAwFiEVQAAwnD8ZYgV11UBexFWAQwbd0MBANFGWAUwKow9wUTHACvADIRV\n",
              "AACGwB0FwF6EVQAAABiLsAoAwBAshlgBtiKsAhi2L//S5nk+AEA0jElYbW9v18KFC5WVlaWCggId\n",
              "OHDgsj6vv/66rr32WuXm5gaXzz77LNheW1urzMxMpaenq6ysTOfPnx+LUgEACIs/yAAzjElYraio\n",
              "UHl5udra2rRu3TqVlpaG7XfTTTdp//79weXaa6+VJB05ckTr169Xc3OzOjo6dOLECb344otjUSoA\n",
              "AENigBVgr4iH1Z6eHrW2tmrlypWSpOXLl8vv96ujo2PY29ixY4eKi4s1e/ZsORwOPfLII2poaIh0\n",
              "qQAAADBcxMOq3+9XUlKSXC6XJMnhcMjj8cjn813W99ChQ8rPz1dBQYF++tOfBtf7fD6lpqYGX6el\n",
              "pYV9/yWBQEB9fX0hy8DAQAT3CgAQa5jBCjCDy64Pzs/P19GjRxUfH6+jR4/qrrvuUkJCgv72b/92\n",
              "xNuqrq7Whg0bQtYVFRVFqlQAf/Hl26EOpgUAAERBxK+spqSkqLu7W/39/ZIky7Lk8/nk8XhC+sXF\n",
              "xSk+Pl6SlJycrG9/+9tqbm6WJHk8HnV1dQX7dnZ2Xvb+L6uqqlJvb2/IUlhYGOldAwDEEAZYAWaI\n",
              "eFhNTExUfn6+6uvrJUlNTU1KTk5WRkZGSL/u7m5duHBBknTmzBn95je/UV5enqSLz7l6vV4dP35c\n",
              "lmVp69ateuCBBwb9TLfbrbi4uJDF6XRGetcAADGIAVaAvcbk2wBqampUU1OjrKwsbdy4UXV1dZKk\n",
              "tWvXyuv1SroYYrOzs5WTk6OioiItXbpUDz30kCRpzpw52rBhgxYtWqSMjAxdf/31qqioGItSAQAA\n",
              "YDCHZU3MvxkrKyu1efNmu8sAJpRPA/2a99T/kST959PLdO3V3MHAxPX+8T4t+9/NSphytVqfXGp3\n",
              "OUDMYgYrAKPC83wAgGggrAIAEAbfeAGYgbAKAMAQJubDcsD4QVgFAACAsQirAIZtgo7HBMK69Fw2\n",
              "P/WAvQirAAAAMBZhFQCAMBheBZiBsAoAwBB4/AWwF2EVAAAAxiKsAhg2ri8hljDACjADYRXAqDCD\n",
              "FQAgGgirAACExV9kgAkIqwAADIHxVYC9CKsAAAAwFmEVwLBxhQmxJDjAih98wFaEVQCj4uB5PgBA\n",
              "FBBWAQAIgz/HADMQVgEAGAIPAQD2IqwCAADAWIRVAMPHJSbEEAdTWAFGIKwCGBVmsAIARANhFQCA\n",
              "MPh7DDADYRUAgCHwFABgL8IqAAAAjEVYBTBsFteYEEOYwQowA2EVwKjwPB8AIBrGJKy2t7dr4cKF\n",
              "ysrKUkFBgQ4cOHBZnz/84Q8qLCzUzTffrLlz5+r73/++Lly4IEnq7OyU0+lUbm5ucDl06NBYlAoA\n",
              "QFhMKQyYYUzCakVFhcrLy9XW1qZ169aptLT0sj7Tp0/XL37xCx08eFB/+tOf9NZbb+mVV14Jtk+d\n",
              "OlX79+8PLunp6WNRKgAAQ+IhAMBeEQ+rPT09am1t1cqVKyVJy5cvl9/vV0dHR0i/vLw8zZkzR5J0\n",
              "zTXXKDc3V52dnZEuBwAAAONYxMOq3+9XUlKSXC6XpIszgHg8Hvl8vkHfc/z4ce3YsUN33313cN3Z\n",
              "s2dVUFCg/Px8Pf300xoYGBj0/YFAQH19fSHLUP0BjA7jTBBLvhhgZW8dQKyzfYBVX1+f/uZv/kbf\n",
              "//73deutt0qSkpKSdOzYMbW0tOj3v/+9mpub9eMf/3jQbVRXVys+Pj5k2bdvX7R2AYhJDqawAgBE\n",
              "QcTDakpKirq7u9Xf3y/p4ld++Hw+eTyey/qeOXNGy5Yt0z333KPKysrgerfbrcTEREnSjBkztGbN\n",
              "GjU3Nw/6mVVVVert7Q1ZCgsLI7xnAIBYxFe2AfaKeFhNTExUfn6+6uvrJUlNTU1KTk5WRkZGSL9P\n",
              "P/1Uy5Yt07Jly/Tkk0+GtPX09Oj8+fOSLt7i37lzp/Ly8gb9TLfbrbi4uJDF6XRGeM8AAAAQbWPy\n",
              "GEBNTY1qamqUlZWljRs3qq6uTpK0du1aeb1eSdKWLVu0b98+7dy5M/j1VD/60Y8kSW+++aby8vKU\n",
              "k5Oj/Px8zZ49W0888cRYlAoAAACDOawJOjVHZWWlNm/ebHcZwIRy+uw55f+vXZKkw8/epUmTeG4V\n",
              "E9fRj/+fbvuX3XK7JumDZ+60uxwgZtk+wAoAAAAYDGEVAIAwLn3jxYS8/QiMI4RVAAAAGIuwCgBA\n",
              "GDyRDZiBsApg2L48HpM5ARAzeA4AsBVhFQAAAMYirAIAEMaluwfMYAXYi7AKAAAAYxFWAQAIw8EQ\n",
              "K8AIhFUAw/blm6EORlghRkzMeR6B8YOwCgAAAGMRVgEACOOLAVYA7ERYBQAAgLEIqwAAhMFT2YAZ\n",
              "CKsAho2BJohFFj/4gK0IqwAAADAWYRUAgHAYYAUYgbAKAAAAYxFWAQAIgxmsADMQVgEMm/WXG6JM\n",
              "XoVYwvgqwF6EVQAAABiLsAoAQBjcQQDMQFgFAACAsQirAACEwYVVwAyEVQDD95eBJvwSR6xhFivA\n",
              "PoRVAAAAGGtMwmp7e7sWLlyorKwsFRQU6MCBA2H71dbWKjMzU+np6SorK9P58+eH1QYAwFhzfGmE\n",
              "FRdWAfuMSVitqKhQeXm52tratG7dOpWWll7W58iRI1q/fr2am5vV0dGhEydO6MUXX7xiGwAAAGJH\n",
              "xMNqT0+PWltbtXLlSknS8uXL5ff71dHREdJvx44dKi4u1uzZs+VwOPTII4+ooaHhim0AAEQDz2YD\n",
              "ZnBFeoN+v19JSUlyuS5u2uFwyOPxyOfzKSMjI9jP5/MpNTU1+DotLU0+n++KbeEEAgEFAoGQdQMD\n",
              "AxHZHwBfuHQn1MEXUCLGrKjZS3hFTMhPna7/cdd/s7uMEBEPq3aorq7Whg0bQtYVFRXZVA0AYCK4\n",
              "zu3UVLdLZwL9+lPXx3aXA0TF1GvMi4YRryglJUXd3d3q7++Xy+WSZVny+XzyeDwh/Twejw4dOhR8\n",
              "3dnZGewzVFs4VVVVqqysDFm3fv36SOwOACBGuV1O/eax2/Sf3X12lwJEzfVT3XaXcJmIh9XExETl\n",
              "5+ervr5epaWlampqUnJycsgjANLFZ1lvu+02/fCHP9SsWbO0detWPfDAA1dsC8ftdsvtDv3PdTqd\n",
              "kd41AECMSZ05WakzJ9tdBhDTxuTbAGpqalRTU6OsrCxt3LhRdXV1kqS1a9fK6/VKkubMmaMNGzZo\n",
              "0aJFysjI0PXXX6+KioortgEAACB2OKwJOi1HZWWlNm/ebHcZwIRyvPdzFVW/JtckhzqevcvucgAA\n",
              "MYAZrAAAAGAswioAAACMRVgFAACAsQirAAAAMBZhFcCwWX+Zw4oJrAAA0UJYBQAAgLEIqwAAADAW\n",
              "YRUAAADGIqwCAADAWIRVAMN2ab47hxhhBQCIDsIqAAAAjEVYBQAAgLEIqwAAADAWYRXAyPHIKgAg\n",
              "SgirAIbNsrsAAEDMIawCAADAWIRVAAAAGIuwCgAAAGMRVgGMGOOrAADRQlgFMGyWxRArAEB0EVYB\n",
              "AABgLMIqAAAAjEVYBQAAgLEIqwBGzMEIKwBAlBBWAQwb46sAANFGWAUAAICxIhpWL1y4oEcffVTp\n",
              "6enKyMjQ888/H7bf559/rnvvvVdZWVnKycnR0qVL1dHREWy//fbbdeONNyo3N1e5ubl67rnnIlkm\n",
              "AAAAxglXJDdWX1+vgwcPqq2tTb29vcrLy9OSJUs0d+7cy/qWl5frzjvvlMPh0PPPP6+1a9fq9ddf\n",
              "D7Y/99xzuvfeeyNZHgAAAMaZiF5ZbWxsVFlZmZxOp2bMmKGSkhI1NDRc1u+aa67RXXfdJcdfRmkU\n",
              "FRWps7MzkqUAGEMO5rACAERJRMOqz+dTampq8HVaWpp8Pt8V37dlyxbdc889Iet+8IMfKDs7WyUl\n",
              "JTp8+PCQ7w8EAurr6wtZBgYGRrcTAAAAMMaIHgNYsGCB2tvbw7a9++67oyrg2WefVUdHh1577bXg\n",
              "uldffVUpKSmyLEsvvPCC7r77bh08eHDQbVRXV2vDhg0h64qKikZVDwAAAMwxoiure/fu1cmTJ8Mu\n",
              "KSkp8ng86urqCvbv7OyUx+MZdHubNm3Szp079bvf/U7XXXddcH1KSookyeFw6Hvf+54OHz6sU6dO\n",
              "Dbqdqqoq9fb2hiyFhYUj2TUAAAAYKKKPAaxYsUIvvfSSBgYGdPr0aTU2NqqkpCRs382bN6uhoUG7\n",
              "du3StGnTguv7+/t14sSJ4OumpibNmjVLM2fOHPRz3W634uLiQhan0xmx/QIAAIA9IvptAA8++KBa\n",
              "WlqUmZkph8OhyspKZWdnS5K8Xq+8Xq+2bdumo0eP6p/+6Z80Z84cLVmyRNLFwPn2228rEAjoW9/6\n",
              "lgKBgCZNmqSEhAR5vd5IlgngK2IGKwBAtEQ0rDqdTr3wwgth24qLi1VcXCxJSk5OljXIVDiTJ09W\n",
              "a2trJMsCECHMYAUAiDZmsAIAAICxCKsAAAAwFmEVAAAAxiKsAhgxxlcBAKKFsApg2CwxwgoAEF2E\n",
              "VQAAABiLsAoAAABjEVYBAABgLMIqgBFzMIUVACBKCKsAho0ZrAAA0UZYBQAAgLEIqwAAADAWYRUA\n",
              "AADGIqwCGDGGVwEAooWwCmDYGF8FAIg2wioAAACMRVgFAACAsQirAAAAMBZhFcDIMcIKABAlhFUA\n",
              "w2YxhRUAIMoIqwAAADAWYRUAAADGIqwCGDEeWQUARAthFQAAAMYirAIYNoZXAQCijbAKAAAAY0U0\n",
              "rF64cEGPPvqo0tPTlZGRoeeff37QvmlpabrpppuUm5ur3NxcNTY2Btva29u1cOFCZWVlqaCgQAcO\n",
              "HIhkmQAAABgnXJHcWH19vQ4ePKi2tjb19vYqLy9PS5Ys0dy5c8P2b2xsVG5u7mXrKyoqVF5ertLS\n",
              "Uu3YsUOlpaVqaWmJZKkAvgKHgyFWAIDoiOiV1cbGRpWVlcnpdGrGjBkqKSlRQ0PDiLbR09Oj1tZW\n",
              "rVy5UpK0fPly+f1+dXR0RLJUAAAAjAMRDas+n0+pqanB12lpafL5fIP2X7VqlbKzs/Xwww/ro48+\n",
              "kiT5/X4lJSXJ5bp40dfhcMjj8Qy5nUAgoL6+vpBlYGAgQnsF4BImsAIARNuIwuqCBQuUkJAQdvH7\n",
              "/SP64DfeeEPvvfee3nnnHSUkJGj16tUjev+XVVdXKz4+PmTZt2/fqLcHAAAAM4worO7du1cnT54M\n",
              "u6SkpMjj8airqyvYv7OzUx6PJ+y2Lq2/6qqr9Pjjj6u5uVmSlJKSou7ubvX390u6OBe5z+cbdDuS\n",
              "VFVVpd7e3pClsLBwJLsGAAAAA0X0MYAVK1bopZde0sDAgE6fPq3GxkaVlJRc1u/s2bP65JNPgq8b\n",
              "GhqUl5cnSUpMTFR+fr7q6+slSU1NTUpOTlZGRsagn+t2uxUXFxeyOJ3OSO4agC9hfBUAIFoi+m0A\n",
              "Dz74oFpaWpSZmSmHw6HKykplZ2dLkrxer7xer7Zt26YTJ05o+fLlGhgYkGVZmjNnjl555ZXgdmpq\n",
              "alRaWqpnn31WcXFxqquri2SZAAAAGCccljUxh0xUVlZq8+bNdpcBTCgdPWf03ze/oWnXXaX9//Ob\n",
              "dpcDAIgBzGAFAAAAYxFWAQAAYCzCKoARY3wVACBaCKsAAAAwFmEVwLBNzOGYAACTEVYBAABgLMIq\n",
              "AAAAjEVYBTBiDqawAgBECWEVAAAAxiKsAhg2xlcBAKKNsAoAAABjEVYBAABgLMIqgBFjeBUAIFoI\n",
              "qwAAADAWYRXAsDGDFQAg2girAAAAMBZhFQAAAMYirAIYMSawAgBEC2EVAAAAxiKsAhg2izmsAABR\n",
              "RlgFAACAsQirAAAAMBZhFcAoMMIKABAdhFUAAAAYi7AKYNiYwQoAEG2EVQAAABgromH1woULevTR\n",
              "R5Wenq6MjAw9//zzYfudOnVKubm5wSUrK0sul0unT5+WJN1+++268cYbg+3PPfdcJMsEAADAOOGK\n",
              "5Mbq6+t18OBBtbW1qbe3V3l5eVqyZInmzp0b0m/mzJnav39/8PWmTZu0Z88ezZgxI7juueee0733\n",
              "3hvJ8gBECDNYAQCiJaJXVhsbG1VWVian06kZM2aopKREDQ0NV3xfbW2tHn744UiWAgAAgAkgomHV\n",
              "5/MpNTU1+DotLU0+n2/I97z11lv6+OOPdffdd4es/8EPfqDs7GyVlJTo8OHDQ24jEAior68vZBkY\n",
              "GBj9jgAIiwFWAIBoG1FYXbBggRISEsIufr9/VAXU1tZq1apVcrm+eCLh1Vdf1fvvv6/33ntPX//6\n",
              "1y8Lsv9VdXW14uPjQ5Z9+/aNqh4AAACYY0Rhde/evTp58mTYJSUlRR6PR11dXcH+nZ2d8ng8g27v\n",
              "008/1S9/+UutWbMmZH1KSookyeFw6Hvf+54OHz6sU6dODbqdqqoq9fb2hiyFhYUj2TUAAAAYKKKP\n",
              "AaxYsUIvvfSSBgYGdPr0aTU2NqqkpGTQ/o2NjcrJydHXvva14Lr+/n6dOHEi+LqpqUmzZs3SzJkz\n",
              "B92O2+1WXFxcyOJ0OiOzUwAuw/gqAEC0RPTbAB588EG1tLQoMzNTDodDlZWVys7OliR5vV55vV5t\n",
              "27Yt2L+2tlZlZWUh2wgEAvrWt76lQCCgSZMmKSEhQV6vN5JlAgAAYJyIaFh1Op164YUXwrYVFxer\n",
              "uLg4ZN1bb711Wb/JkyertbU1kmUBiBBLjLACAEQXM1gBAADAWIRVACPGpAAAgGghrAIAAMBYhFUA\n",
              "AAAYi7AKYNiYwQoAEG2EVQAAABiLsApgxBxMCwAAiBLCKgAAAIxFWAUAAICxCKsAAAAwFmEVAAAA\n",
              "xiKsAhgxZrACAEQLYRUAAADGIqwCAADAWIRVAMPGDFYAgGgjrAIAAMBYhFUAI8b4KgBAtBBWAQAA\n",
              "YCzCKgAAAIxFWAUwbJYYYQUAiC7CKgAAAIxFWAUwYg6msAIARAlhFQAAAMYirAIAAMBYhFUAw8YM\n",
              "VgCAaCOsAgAAwFgRDau//e1vNX/+fLndbj3++OND9m1vb9fChQuVlZWlgoICHThwYFhtAAAAiB0R\n",
              "DauZmZn62c9+pn/+53++Yt+KigqVl5erra1N69atU2lp6bDaAAAAEDsiGlazsrKUk5Mjl8s1ZL+e\n",
              "nh61trZq5cqVkqTly5fL7/ero6NjyDYAAADElqFT5Rjx+/1KSkoKhlqHwyGPxyOfz6f4+PhB2zIy\n",
              "MsJuLxAIKBAIhKwbGBgY25249DkXLJXU7I3KZwF2+zTQb3cJAIAYM6KwumDBArW3t4dte/fdd5WS\n",
              "khKRokaqurpaGzZsCFlXVFQUtc9v7fo4ap8FmGB2/DV2lwAAiBEjCqt790bmCmJKSoq6u7vV398v\n",
              "l8sly7Lk8/nk8XgUFxc3aNtgqqqqVFlZGbJu/fr1Ean1SiY5pK0r86PyWYAZHCq8cYbdRQAAYoQt\n",
              "jwEkJiYqPz9f9fX1Ki0tVVNTk5KTk4O3+YdqC8ftdsvtdoesczqdY7oPlzgcDi2blxSVzwIAAIg1\n",
              "DsuK3Nd8v/baa1q9erX6+vpkWZbi4+P105/+VMXFxfJ6vfJ6vdq2bZsk6YMPPlBpaalOnTqluLg4\n",
              "1dXVKTs7+4ptw1VZWanNmzdHatcAAABgg4iGVZMQVgEAAMY/ZrACAACAsQirAAAAMBZhFQAAAMYi\n",
              "rAIAAMBYhFUAAAAYi7AKAAAAYxFWAQAAYCzCKgAAAIxFWAUAAICxJuwMVvfdd5/S0tKi8lkDAwPa\n",
              "t2+fCgsL5XQ6o/KZiAyO3fjEcRu/OHbjE8dt/DL92KWmpuof//Efh+wzYcNqNPX19Sk+Pl69vb2K\n",
              "i4uzuxyMAMdufOK4jV8cu/GJ4zZ+TYRjx2MAAAAAMBZhFQAAAMYirAIAAMBYhNUIcLvdeuqpp+R2\n",
              "u+0uBSPEsRufOG7jF8dufOK4jV8T4dgxwAoAAADG4soqAAAAjEVYBQAAgLEIqwAAADAWYfUram9v\n",
              "18KFC5WVlaWCggIdOHDA7pJi2mOPPaa0tDQ5HA7t378/uH6o4zTaNkTO559/rnvvvVdZWVnKycnR\n",
              "0qVL1dHRIUnq6enRsmXLlJmZqXnz5umNN94Ivm+0bYicb37zm7rllluUm5urr3/963r33Xclcc6N\n",
              "J3V1dXI4HPr1r38tiXNuPEhLS9NNN92k3Nxc5ebmqrGxUdIEPu8sfCVLliyx6urqLMuyrO3bt1u3\n",
              "3nqrvQXFuD179lh+v99KTU213n333eD6oY7TaNsQOZ999pn129/+1rpw4YJlWZb1k5/8xFq8eLFl\n",
              "WZb10EMPWU899ZRlWZa1b98+64YbbrDOnTv3ldoQOR9//HHw3zt37rRuueUWy7I458aLI0eOWAsW\n",
              "LLCKioqsX/3qV5Zlcc6NB//1d9wlE/W8I6x+BSdOnLCmTp1qnT9/3rIsy7pw4YI1a9Ysq7293ebK\n",
              "8OUTeajjNNo2jK2WlhYrNTXVsizLmjx5stXd3R1sKygosHbt2vWV2jA26urqrJycHM65cWJgYMC6\n",
              "4447rNbWVmvx4sXBsMo5Z75wYXUin3cuu6/sjmd+v19JSUlyuS7+NzocDnk8Hvl8PmVkZNhcHS4Z\n",
              "6jjFx8ePqo3jO7a2bNmie+65R6dOndL58+c1e/bsYFtaWpp8Pt+o2xB5q1at0u7duyVJ//qv/8o5\n",
              "N05s3rxZixYt0vz584PrOOfGj1WrVsmyLBUWFmrjxo0T+rzjmVUARnn22WfV0dGh6upqu0vBML3y\n",
              "yivy+/165plntG7dOrvLwTD8x3/8h5qamvTkk0/aXQpG4Y033tB7772nd955RwkJCVq9erXdJY0p\n",
              "wupXkJKSou7ubvX390uSLMuSz+eTx+OxuTJ82VDHabRtGBubNm3Szp079bvf/U7XXXedZs6cKZfL\n",
              "pePHjwf7dHZ2yuPxjLoNY2f16tXavXu3kpOTOecM19zcrM7OTmVmZiotLU1//OMfVV5erl/+8pec\n",
              "c+PApf/Xq666So8//riam5sn9O86wupXkJiYqPz8fNXX10uSmpqalJycbMxlc1w01HEabRsib/Pm\n",
              "zWpoaNCuXbs0bdq04PoVK1Zo69atkqSWlhYdO3ZMixcv/kptiIxPPvlEH374YfD1r3/9a82cOZNz\n",
              "bhz47ne/q+7ubnV2dqqzs1NFRUV68cUX9d3vfpdzznBnz57VJ598Enzd0NCgvLy8iX3e2fSs7ITx\n",
              "/vvvW0VFRVZmZqY1f/5867333rO7pJhWXl5u3XDDDZbT6bQSExOt9PR0y7KGPk6jbUPk+P1+S5I1\n",
              "Z84cKycnx8rJybEKCwsty7Ks48ePW0uXLrUyMjKsm2++2frDH/4QfN9o2xAZnZ2dVkFBgTVv3jzr\n",
              "lltuse64447goA/OufHlywOsOOfMdujQISs3N9fKzs625s2bZxUXF1tHjhyxLGvinncOy7IsuwMz\n",
              "AAAAEA6PAQAAAMBYhFUAAAAYi7AKAAAAYxFWAQAAYCzCKgAAAIxFWAUAAICxCKsAAAAwFmEVAAAA\n",
              "xiKsAgAAwFiEVQAAABiLsAoAAABj/X+GNw446LlQ9gAAAABJRU5ErkJggg==\n",
              "\">\n",
              "      </div>\n",
              "      <script type=\"text/javascript\">\n",
              "        (() => {\n",
              "          const chartElement = document.getElementById(\"chart-be61d522-d6a4-4adc-900b-6d003bd847fc\");\n",
              "          async function getCodeForChartHandler(event) {\n",
              "            const chartCodeResponse =  await google.colab.kernel.invokeFunction(\n",
              "                'getCodeForChart', [\"chart-be61d522-d6a4-4adc-900b-6d003bd847fc\"], {});\n",
              "            const responseJson = chartCodeResponse.data['application/json'];\n",
              "            await google.colab.notebook.addCell(responseJson.code, 'code');\n",
              "          }\n",
              "          chartElement.onclick = getCodeForChartHandler;\n",
              "        })();\n",
              "      </script>\n",
              "      <style>\n",
              "        .colab-quickchart-chart-with-code  {\n",
              "            display: block;\n",
              "            float: left;\n",
              "            border: 1px solid transparent;\n",
              "        }\n",
              "\n",
              "        .colab-quickchart-chart-with-code:hover {\n",
              "            cursor: pointer;\n",
              "            border: 1px solid #aaa;\n",
              "        }\n",
              "      </style>"
            ]
          },
          "metadata": {}
        }
      ]
    },
    {
      "cell_type": "markdown",
      "source": [
        "Data size"
      ],
      "metadata": {
        "id": "Pyp1f9b5v7QZ"
      }
    },
    {
      "cell_type": "code",
      "source": [
        "print(data_train.shape)\n",
        "print(data_test.shape)"
      ],
      "metadata": {
        "colab": {
          "base_uri": "https://localhost:8080/"
        },
        "id": "rZb86uW-oeN9",
        "outputId": "11bc7684-50b1-44b4-ead4-ebd2b0c0ba88"
      },
      "execution_count": 9,
      "outputs": [
        {
          "output_type": "stream",
          "name": "stdout",
          "text": [
            "(5100, 2)\n",
            "(1050, 2)\n"
          ]
        }
      ]
    },
    {
      "cell_type": "markdown",
      "source": [
        "Check null and check if class value is just in {-1, 0, 1}"
      ],
      "metadata": {
        "id": "YnZXnVHFv9_a"
      }
    },
    {
      "cell_type": "code",
      "source": [
        "print(data_train.isnull().sum())\n",
        "print(set(data_train['Class']))"
      ],
      "metadata": {
        "colab": {
          "base_uri": "https://localhost:8080/"
        },
        "id": "uO_r-kM7o5Wc",
        "outputId": "85c3d765-8a48-473c-fd8d-255bf1c4e3ab"
      },
      "execution_count": 10,
      "outputs": [
        {
          "output_type": "stream",
          "name": "stdout",
          "text": [
            "Class    0\n",
            "Data     0\n",
            "dtype: int64\n",
            "{0, 1, -1}\n"
          ]
        }
      ]
    },
    {
      "cell_type": "markdown",
      "source": [
        "## Process labels to one-hot vector"
      ],
      "metadata": {
        "id": "FdrDeoYV5QmO"
      }
    },
    {
      "cell_type": "markdown",
      "source": [
        "Encode labels to one-hot\n",
        "\n",
        "*   [1, 0, 0] for negative\n",
        "*   [0, 1, 0] for neutral\n",
        "*   [0, 0, 1] for positive"
      ],
      "metadata": {
        "id": "6xtVvK9brAiP"
      }
    },
    {
      "cell_type": "code",
      "source": [
        "labels = data_train.iloc[:, 0].values\n",
        "labels_test = data_test.iloc[:, 0].values"
      ],
      "metadata": {
        "id": "2x-mAzeIpCor"
      },
      "execution_count": 11,
      "outputs": []
    },
    {
      "cell_type": "code",
      "source": [
        "encoded_labels = np.array(\n",
        "    [\n",
        "             [1, 0, 0] if label == -1\n",
        "        else [0, 1, 0] if label == 0\n",
        "        else [0, 0, 1]\n",
        "             for label in labels\n",
        "    ]\n",
        ")\n",
        "\n",
        "encoded_labels_test = np.array(\n",
        "    [\n",
        "             [1, 0, 0] if label == -1\n",
        "        else [0, 1, 0] if label == 0\n",
        "        else [0, 0, 1]\n",
        "             for label in labels_test\n",
        "    ]\n",
        ")"
      ],
      "metadata": {
        "id": "mgZptXcspdO7"
      },
      "execution_count": 12,
      "outputs": []
    },
    {
      "cell_type": "code",
      "source": [
        "labels = encoded_labels\n",
        "labels_test = encoded_labels_test"
      ],
      "metadata": {
        "id": "q3MUu56n4KcR"
      },
      "execution_count": 13,
      "outputs": []
    },
    {
      "cell_type": "markdown",
      "source": [
        "## Remove words with digits"
      ],
      "metadata": {
        "id": "Ao3cz4rivhXV"
      }
    },
    {
      "cell_type": "markdown",
      "source": [
        "Word with digits is usually unique and hard to trained to actually contribute to the sentiment analysis."
      ],
      "metadata": {
        "id": "Qj4dvFf35YPG"
      }
    },
    {
      "cell_type": "code",
      "source": [
        "# Function to print words with digits\n",
        "def printWordWithDigits(review) :\n",
        "    for word in review.split(' '):\n",
        "        for char in word:\n",
        "            if char.isdigit():\n",
        "                print(word, end=' ')\n",
        "                break\n",
        "    return review\n",
        "\n",
        "data_train['Data'] = data_train['Data'].apply(printWordWithDigits)\n",
        "data_test['Data'] = data_test['Data'].apply(printWordWithDigits)"
      ],
      "metadata": {
        "colab": {
          "base_uri": "https://localhost:8080/"
        },
        "id": "VBOxObJ7uY0y",
        "outputId": "847a794e-7f47-4144-ae69-3726a1622e6a"
      },
      "execution_count": 14,
      "outputs": [
        {
          "output_type": "stream",
          "name": "stdout",
          "text": [
            "98k....pin 2 400k m175 3 4 m175 :3 2 M185, 1 3 1/3. 2 1 1tr7 1 10.11.3 10.11.3 13\" 2015 2 10.11.3 M905 1tr8 2015 13 A9 1 30 60$ 1 200$. 300$ 5 2 90% 2 2 8-10tr 3 2000 2 300-400$ 1 300-400$ 1 300-400$ 1 1 1 1 1 2 1 100% 6 6 6 100 2 ip6+ 3 1 1 1 90% 1 1 1 6h 1 2 2 2 $40-$50 5-7 2 1 3-4 6, ip5, 1 10tr 1 2 1 24/24. 2,3 S2 x8 10m, (50m) 1/2 M600 2 2 1. https://drive.google.com/file/d/0B5HmAZf5BrURY0ZUN3l3VWMwV2c/view?usp=sharing 151015-105213.jpg 2. https://drive.google.com/file/d/0B5HmAZf5BrURZHlFdFJPcHhDa3M/view?usp=sharing Nokia1202 1S 2 1 2 2 2 i5+ 1 2 2 https://goo.gl/photos/DfXh6yKUgsXzQrWB6 1s E200 N3060 470 480 960.. 3tr 1060 3GB 480-460 10 S6 1 3.200 A7 Ip6. 2 s6. 6 2 ip6 3 4 5 S3 2012. 4 5 S3 1-2 1 s7 2 5 1 1 iphone6 s6 6 s6 ip6 3000ma 6 9.1 9.1 9.3.1 9.9.2 S6 S7 S6 S6 S6 S7 5s 6 6s 1 4 1 iphone2. 6 7 16GB 16G 16G 128G 256 64 2016 16 64GB 16GB 24h 1 2 1. BB10 2. 6GB 2GB 6GB 9.3.1 4s 10gb 3Gb 6Gb 2Gb 3000mAh. 6s S7 G5 Z5.... s7 s7 12tr 17 A5-06 S7 S6 IP7 6 6s iphone8 s7edge 5s, 6s V3 2 7 7 IP7 6 4.1.2 1 3g.mất 006sh iphone5 4 2.3 3/2012 2.3 2.3 07.448 1150mah 1-1.5 4-5 S3!!! 102p s3 1 S3 4M 102p 2m 4,2m 520 3,7M 4.0.4 4.0 4.2gb 11.5gb 1 4 1300 1 5 1 45' 15% s2 2 hua7 4.0,4 4.0 P-04D 102p, P-04D 09.0270 102p P-04D 09. 0256 09.0270 1 4.04 09.0354 4,28 60-100mb,lỗi 2.3.5 4.0 3G. 3G 3G 2.3.5,chẳng 3g 1 4.0.4. *#*#4636#*#*, 100% 1100mah,máy 3g 1 102p P04d 1 2 4.0 2.3 4.0 2.3 4.0 2.3 1 80% 1 1 1 102P. 17 2 F05d 1 V17 v25 1tr3 19 Sh01g, F02g Z3 f05f 2k Z3 F04G 2 f05f F-04G 9man, 6 820 note3. 1020 G2 m7 G3 V10 G4 1 v10 5 1 v10 g4 https://www.thegioididong.com/dtdd/lg-v10 V10 V10 5.7inch, 5.1, 6 4GB 16MP 3000mAh v10 g4 v10 a9 G3 2 2 1. 2. 2K. 250k 4 I607 6.5 2 Note3 S5 2K 2k 16Gb, 16gb, 16gb 2gb 15 3gb 6G 2 2G 700mb, 6, Z3 Z3C Z3. A5 2016 S6 S7 1 5.5 6tr f1s f1s 3 V10 3 12tr 19,20 Z3 1 4 4 5 2 950 3 5 950. 3 1 1 Lumia730 4 5, 2 2 3 3 6s 50₫ 1 10₫ 1 360 1 5S, 5 6 64gb 3-4 5 6 6 1 4200$ 1 8h 1 ip3 6s 1 ip7 note7 1280 7 ip6 1/10 ip7 21tr 5c 5c. G5. 6s 6s 6s 5p f1 2013 R1 9tr R1 3tr 1 6 6tr 6 1 16mpx 1 1 2 3 5 16MB 110cc, 3 3 f1 1 5 1 zen2 Zenfone2 4Gb 4 3000mAh 2000mAh, 1 Zen2 2,3 zen5,zen2,zen 2 3 zen3 5. 5 4 6tr 3 2 2, 1 1 1tr5, 1 9tr a5 a5. 2 Ip4 10-15 5 19/8 19,8 4Gb 5 4Gb Note5. 5, 5 S7 7 7,5 5 6.6'làm 5,5\" 3D 1 1 2,5D 4 2 2, Note3 Note4 Note5 Note7 Note7 2 4 4 40% 5 3 s3 4 2 40 UA40F5000ARXXV, 2 2 1 2,5tr 1 40\" 170tr 1 1 1.5trieu M8S k5500 ip6 1900 2500 1.9-25k 6S 2 2 6S 6 2, 2 5c 4m 10? 10 BB10 Z10 Q10 Q10 BB10. BB10 Z10+Z30 BB10 9900, 8800 2 7 6, 6s 7 IP6, IP8 1 A5 2016 Z5 Z5 2 2 A5 A5 (1 1 s7 1 Z3 1 4 2tr, 1- 5 1 Z3 1 1 2 3 z3,mua 1 10 6 16/09 Z3 1 3 200k 6' A9 6 2700 6in 2700mAh, p10 652 2 2, 2 1, sô1 1. 1 q10 Bb10 (q5, q10, q20) 99xx 1 1100 10.3.3 Z30 3-3.5tr gì.1 1-2 6s ip5 s6 1 10 s7 5.8 6 5s s7 s7 ip8 6/6s 7 6s 2- 3 6 7 4k G3 G4 :3 1 G2 10t 2 s7e G2 2 i7 4 Mi5. 7 7s 6! 10 1 5-6-7 6 3 6 6s 3 1800 1G 1 1G 2tr. 6 Z2 1 S7 S7 820 2. 7 iphone7 4G 3g 3g 3G 3 3G, 4G 3G, 3G. 4G 5.5 1tr, g4 chán.1 mi4 4,49tr! 1 7 IP7 IP7 ip7 6 5s 6 1 HTC10 m7 5s 6s. 10 4,5 1. 100 10 7 3/10. 1 1 1 1 1 15 15% 2 2 8 2 9800, Z30 OS10 2 z10 q10 Q10. 1 9000, 9700,9780, 8800,8820, q10, 300$ 9780 3.5 6 3.5. M5 6 5.1, 6 M5 2 2 Z5 1 3 1 2300 6tr 3300 21 2011 50%. 7,9mm C5 2300 C5 BlackBerry10. BB10 Q10 10 2 Note7 note5 s6 ,s7 7 5 2 8 ip7 5s i7 I7 i7 2.100 f1 3g 8 (10 WP8 win10M 3g, win10m 2 10% 730 2 1-2 1 7 s7 5S 4,5,6,7 7 2011 6s.có 1 6GB 8GB 16G 8g 3-4 A5(2016) 60 1 2 S6 S7 Note7 S7 Note5 s7 2 chính:1. 720x1280, 2K.2. 2300 3000mAh C4 c5 2gb 8 4 9,7 11500 18 5700mAh 2 5700 10.1 9,7 s2 3G 4 9.1 45cm 18,4 2,65 RAM=1GB 10inch 1G 8G. 10\" 8GB 1 8GB 1 1g 10 5.5tr 1 1gb 8gb 1 1 05 515 06 4 1 1GB 16GB 1GB/2GB 16GB 2 3g 2 9.8\" 8\" 12,9\" 200k 2in1 11 3 13tr, S7, q500a DV2000 18 2 3 3 mp3 05 3 3000đ 1 10x15 6 f1s N73. 2.0 1 1 1 s7 s7e. S7 s7 S7 s7e S7e S7e 1 930 950 s7 S7 S7E S7 S7 5s S7E 1 S7. 7 1, 2 950xl 1 6 G5 1 1 0.63x 0.36x 1 12x 600k 32k. 3 1 x0.75 Z3 1 1 18-55, 13tr5 100D 17-70 35mm, 2 1 35f2 23f1.4 100-400 8 1 2 3 3, 2 3 2 1 5, 2 1 2016 3 9 2 5 16-50mm 16-50mm a6300 16-50 16-50. 18-55 50, 35 x6s 40k A6 40k 5 2 4 8h 3 2 15/06/2016. a6 7 6 7 A6 10000mAh 259k. i5 x6s 2 21 A6 A6 A6 6.0 1 4 6 i5+,. 21 A6 x6 x6s i5+ 2 5 80-90 90-110. 3.9.0 1000MAH 2015 600k 16000mAh 350k, 12 1 1. 600k, 10.000mah-3.7v 7.000mah-5v, 300k. 1 6, 16000 450k 2 10400mah 13.000 $27 1600 2 96,69% 10000 600k. 2.0 1/2 :3 1 3 280k 300 10400mAh 599n 5000 8000 10400 250k, 1 100k. 10.400 250 PB-T1 QC2.0 1 100%) 3 tục(40℅) >10tiếng 5 1200mah 6 5v-1A 5 10.000mAh. 10tr 1 25inh 21:9 24mp88hm 16:9 80 60 27 25 1-2tr 1 3 5 R705 2010 14Z i7 8GB, 2G. 4 25tr i7 12gb 1tb $1000 $1499 32 32Gb 1 32Gb, 1 Mi4 1499 3g 1g 1 925 1g 1g, 2g 3g 2g 5tr 5tr 1 x202, 8tr win8 64 3 8 500 6tr5 6400iso, 3 15 1d3, 5d2...( 2 XE2, XT1, A7, 1.3 10 5D 1 18 40% 3tr6 4 35 1 2 1 11t 35t 11tr 2 1 18 2 6 2 30k 30 7 99$? 2 02 15 1 30% 80% 1 3 10 2 9tr 23 2,3 300k 5 20t 1 23 1k$ 23 2.3 ...2013 3500 13. 1.1kg 7000 4 4k 2k,full 2 2 4g 6gb 4gb, 6gb 2Gb 500Mb, 6Gb 1 S6 S6 1 43X830 1 1 Y541 5 6s 10 3 10 6 Iphone7 ios10 8 4 1 2 1280 S7 Note7 note5 S6 6s note5 6s Note5. 3 ip6 ip7, 6 ua48ju6000k UA48JU6000k. 4 4 4K 1000usd, 14000usd? 14000usd. 14 j5 2016 600tr, 1 479 22.380 10 2k, 2 3 6400iso, 3 15 149 5s 9.3.2 9.1 1 6S, 5s 9.3.2 1 5 9.3 2 9.3.2 1 6. 6s s6 9.3.1 9.3.2. 9.3.2 2 5S 9.3 Ipad2 firmware9.3.2 3004 ip6s 9.3.2 9.3.1 5s 6 5 15 IP7 6 S3, S4 ip7 ip6 ip6 2 7 6 2 note6 6s ip7 9 6 7 IP7 S7. S7 1 6S. ip7 5-7 5 1.6B 16GB. 6 2 3giơ. 1lần 2 1 2200 3 17tr 5tr M8 10 Z5 810 820 1 1 2 Note5 5,3 P9 3 12tr 1 3pro 17 S7 10 10, 6s, 1715mah 6s 17 S7 6s 17cu v10 17 HTC10 2 2 15 16 6s 6plus 5SE 10 15 6S bb10. 2 z30 2 32 2GB 64 2015 4G-LTE p1. 4tr 3GS 2 khiếp(free:400MB), 1 6!?! S6 Gt80 A6000 6+ 7 8GB i7 UX303 9 13. 3 10 8tr): G2 hãng(11tr) G4 S7 50% 225 2.8 400 1100 1 1 1 4,1 5k, 3000 rmn2 m7 A9 6: 9.2 1GB 5.1 Mipad2 6100mah 1 (24 75% 8%(con tab4 t531 12%. 100% Mi5 16 S6 S7 3mm 1 1 1mm s3 5s 4in iphone6 3d 4,3-4,6 4ich 5ich 6in 500usd 11-12 1 S5.5 5 6 4 5 a7-a8 15' S7 4 16GB 1 5 1 2Mb 16, 32, 64 20, 25 16g 3G S7 S6 1 5,5' 3300mAh 2 2 5 5 2 G5 6s 5s 2 (2,9 3 2 redmi3 3D k3 2 3000mA 1 3 3 2 Win10 950 13 2500 2015 2GB 950XL 1 2-3 10 2 1520 10 5, 64 20 3G 3g 4G 5 1 10 C901, 905, J7.Am 1 2 m4 J7 13m M4 2 M4, J7 2 m4aqua M4 1 tình.6.490.000 3 m4 8g j7 J7 2 3 2 25%, 1 4s 9.2.1 6s 9.2.1 6 9.2.1 R6 R7, AV42 3 G4 2 2: 2. 2 8 Z1 1 12 1 4tr2, 2 4tr5 1tr5, V10 G3 G2 G3 G4 5 (=10 452 1 1 1 A7 (2016) 5.5\" 6 5 13MP, 7 4trieu 3GB 3GB c5 13 Zen5 10 7 1 10 10 1 10 10 8.1 10 2 10%. 10 1 2 10 500$ 2hand 1 M4 M4 2 Z1 3 1 6 1 3-4tr Z5 G5 600usd, S7 G5 S6 S6 7 3 500D 700D 18-55 1 3 6 1 1 Zen2 SF1. SF1 3GB 2 1,5 2 2 3 1 5 4g MX1. 2-3 1 M185 3 1 B175 3 150k 2 V470 510 G9 300k. 600k G9 5 M505 325 M185 100k 3 M705 1 1 7-8 515 M545 M235 300k 3 2.3tr. 185 1 M505 2 80%. M185 3 win10, 2009 16TB 0.☺ 4kB-64kB >~150 4K 50Mbps-70Mbps http://hdd.userbenchmark.com/Seagate-Barracuda-720014-1TB/Rating/1849 7200.14 1TB ST1000DM003 PS1 1. 2. 2) 32 ps1: 150%) (1+2), 4K, 3DMark’s http://www.anandtech.com/show/9289/the-nvidia-shield-android-tv-review/4 4K 1.1. 1 99 1. 2. 3. 1 1 1 4' http://genk.vn/do-choi-so/nguoi-vie...ang-la-tinh-trang-chung-20150509171244829.chn 1 :3 1 1 2 1 2.0.1, 2.0 2 11h 12h 12h, 5p, 500k 1 090707473. 1 2, 1 mi5, 1 2 4 2 1 1, 1s i5 1 2 ip67 1 1 1, 4-5 3 1 1 <3 1 500k http://cuahangtcs.com/collections/v...vong-deo-tay-thong-minh-i5?variant=1005523406 i5 PHẨMhttp://tnews.vn/index.php?threads/43/Review I5 I5... i5+ 389k, 1 2 3 1 z3 50k 1 7790 4 460 5 8.5 8 26tr 6s s7edge 1 1 21:9 21:9 34\" 21:9 16:9 99% 6 m7, a9 6...thấy 4g 6.0 1 100 s6 6 4 2 ioceanx7 1,5 1,5 35k, 1 1 2tr 330K 2 1 1 5C b10 BB10 1 bb10. Z30 BB10 2GB Ram2GB 1 2GB 2GB 2.5D 2G 17 4 2/3 1/2 2 8x 14 4,5t 2 1 1 v3i 1 V8 1280 1 7!! s7 iphone7 703sh Sc-04D F-12C 5s, 5c 700k. 1 1 sh12c 2012 3D G3 G2 1 102P. 102p 4.04 586 102 1chut 800 ,n9 rui,102 2,5tr DL1 2 102p p-05d 3d 1300 1400 1 hpm-77 350k 520 520.nhìn 2 p04d 11gb 3G 300 4.0.4 p-04d 4.0.4 dl1 8gb 4.2gb.nhưng 2 p-04d dl1 p-04d) p-04d dl1 p04d 4.0 1ngày 920. 102p 1150ma 920 2000ma 102p. 1 1. 4.0.4 P04-D 2. 160 1100mah 3 3G dl1 iphone4, pin.3g SH-01A 3G SH-04F SH-08E SH-06E 1 1 360, 4.4 3-4h 4.4 N5800 2 SH-04f 3G, 3G 750k 2 Sh-04F 1 1 3g 2 840s \"s5\" 16.000.000 1 1 S4 1 FX5 V25R51C V21... p03e, F05F P03e P02e P03e P02e, 2 2600ma. 4.1 301f Nhnhat29982 f05f 4tr 100% 16200 16200 1tr3 sh01f 01g 3 3g 3 G2 4 1 3g 4.4. 1 2 1 sc02f n075t *#12580*369# n075t 02f s2 2 3G 13mp 1 1 e8 btl2 e8 5tr1 6 6 fly2 8 808 2k wm5 wm6.o, wm6.1. wm6.o beta6 wm6.1 wm6.o beta2 :wink0st: hi..hi...:wink0st:\"Ps: I607 2 2 6.5 6.1 6.1 6.5 6.1 3 ip5s IP7 2K, 4K 3.5icnh 512mb 7 s7 1 1 note7 5 1 note7 2 2020 7 2017 7 4GB Note7.Thích 7 360 360 6 150 5s s6 5s 3g 6s 2g 7 10g 2 6 20 1 6 2 1 1 7 2 2 1 z5p p9 6s 7 2 1 1 5 2 1 3 1 A3 2016 6,1 3 3. Z3 5, ZF5 2 Z3 2 Zen3 3 5.5inch S7 3 3 zen6 1 7 7 6s S7 6S+ IOS10 3D s4 s5 s7e 6s 7 6s 1 a9pro 6s+ 3 7 5 8 5 7 5 S7 1sim 7 5 1 6 4 :3 7 2sim 1sim 1thẻ S7 S7edge 5 s7 7 Note3 3 hơnb2 2 Note2 2 4 5 4 7 note3 note4 3, 2 note5 4 5 7 4 5 note3 2 4 5 5 1 3 3doi 4 6 Note5 1 4 2 Note3 10 3 1năm Sony43\" W80C, 3 24/24 40J5200, 43J5500, 43\" 32\" j6300 32 1 j5500 3 2 5 48j6600. 5 7 Mi4 3tr, 2 Mi4 Mi4 1m mi4 1 6 2 4G 4 MV1, 3,1 1 MV1, 4G MV1, 7 7 9900, BB10 Q10 2sp 1 S7 8 2. p70 6 Z5 Z3, (1-4) 5s s3 2 Z3 Z5 Z3 Z5 9 Z3,Z5 200N, 1 1 6.4 7 4 1 10 20t 100% 7 s2 155 10 8 5 1 5 5s 2 1996 1200 2007 M7 x2 3s 5s. S7Egle 6s 3 2 h6 6s 1.7 1280 1 ip3 6s 128gb.sau 800usd.và S7 luôn,6 6s 9 (2007), 510) 6s S7 S5 P9 P8 P8 j7 p9 j7 4G :3 Q10 2 10 100k. 5 1 200nghìn 10 7 16gb 32gb 2 2 1 5.2 4Gb 5 90 9.0.1 9.3.2 7 1 1 Z3 6tr 10 7 8 WP10 1 10 1 1 1 10 10 2011 win10 mới.win7 2gb ,1 10 13... 1 7 4.5 6s Ip7 Bphone2 7 7 ip7 ip10 ip11 7 S7edge. S7 5 1520 Iphone5, 950 20megapixel, 2K 950 950, 925, 730, 530 3 Lumia928 WINDOWS10 1 7 5s 1 1280 4 4s, 4s IP4 Ip7 ip6s 1 3g 4 4 6cm 4.5cm, 2.4cm 3.6cm. note5 note7. 10 360 S7 10 M8 10tr M10 4 i5 8 256 1200 i7 16 1t 2700 pro4, i7, ram16gb, 512 Z2 T2 T2 3gb) T2 1gb Z3 Z1, Z3. Z3 Z5. Z3 Z5 27/06... z5 Z1 Z5 Z5 4k Z5 6s M8 ,M9 ,E9 1 S4 7 NOTE7 1 5 7 note5 note7 10 12 3.5 4W 10 Win10 10 1 8.000mah 10. 6 1 1 6s 1 10, 0,7kg. s2 1 9 4 1 3. 1 3 2015 1ba WD10, 1 3. 2 1 10 3 1 3-5 2, 1 2 8tr 6 6-8 5- 7 1 13,3 1 3 1 2-3 12. 13 1 2010 T450. T450 2015, 1 2 20 1 x201 8 16GB, 1TB. E430 2,5 1 4k 4k 15\" 1kg, 15\" 1cái 18.4 2 1 17 1 2 1 7. 3 s7e. s7e, s7 s7 808 s7 S7 f1.7 s7 s7e 80% S7e S7 S7 S7 2 S7, s7 S7 2 S7 23mp S7 s7 1s 2s s7 1.7 S7 s7 1520 s7+. s7+ S7 s7e S7e 950 S7 S7 6s 1 1 S7 s7e 1 S7 s7 87 s7 1.7 EV-1 6s 6s 10 950 950xl s7e g4.5 v10, 4 6.6s 10 s7 s7e ip6 6s 5 g4 5 v10 ip6 6s 1 s7 2 1 10 s7 1 10 10, 6s 10 6s, 10 10 s7 s7 8x. P9, S7 10. v10. v10 s7 s7 6s 13.5 m10 10 10 15.5 10 10 10 1.80 10 10 10 1.90 Viper10 $10 4 1 1 112 775 1 4 4 1 1 200k ip6 25k G5 35f2 23 f2 18f2 35f1.4 1 18-55 f2.8-4 18-55, 35F2 35F1.4 23f1.4 35 rx1 35 35 35f2 XE2s 23 35 23 1.4 35 1.4. 23 35, 23 35 3 3 s6 s7(e) A5 A7s A7 A6000 A6300. 2 :3 x-e2s 6300, 750. 2. nex5+ 35 f1.8 XT10+ 35f2.0 2 2x 1 xe2s 1 2 8.3 a6. 3 3 +a6+kích A6 50 2h. 2h 30 5v-2A,mình a6 a6 16h 5 4%pin,nãy A6 1 a6 1 24/24 16h 20h 1 20%,như 1 A6 15 20 a6 i5 a6 i5 A6 6s 9.3.2): 1 1 10 10 1-3h A6 X6S 1s, 30p, 30p 1 1 5 50% 100k), WR841HP 2/3 40Mbps 2 1 740n F68 100k 150k 1 3 1 2 100k 1A 2A 10 10k 400k 1 1em 20.000 4 5 1 u5 1 2.0 18W 2.0 Zen2 1 2 1. 80% 25m2 2. 3. 4. 5. 10m 6. 1. 80% 25m2 2. 3. 4. 5. 10m 6. 5*. 6 1-2h 1200 450k, 6 2 8 1 2015, 950k, 90% 3.5mm, 1 5v-1A) 2 900k, 899k 30m2 2 10 20m 30m. 1 xam15 2 144hz 27\" (PG279) 165Hz. 2x 21:9 34\" 34UC97). u2515 1440p, 1440p 27. U2414h 1 4k U2515H 2 120 144Hz 1ms. 72% 100% U2414 72% 1 1 80% 5s 4 5 1 10400 320k 5c 1 18.4 15\" 430g2 1580g 13tr 50 1 13\" 866 2 2011 15 2015 13\" 2010 2011, 8gb 1 độc...13,5in 500Gb 1 16h 50% 10h 10 x552ldv G5080 2 10 64 15 i7 u41 x554lp, i5 12tr K501LB K46CA 49 1 D300s 6s ip6s 1 ip6s D300+35 f1.8 1.000 2 2 sx50hs. s2 800 3 3 2 2 r7 1 3.990.000 16Gb S6 1 9 4-5 3 ip6 6s 7 1 2G 4G 2 2 4GB, s7 x2 1 s7 s7 ip5s s7 10tr 1 s7 7 S7 s7 1 5 2 6plus 1Gb 3Gb 5 6s iP7 6 7. ip7, 6s 4s 4,5,6.... 7 4s. iP7 4S 1. 48JU6000 9 2012 9tr3 1 2 3 IP68 14k 100 ks7000 1 1 Mi4 3tr 13MP, 8MP, 2.5 3GB, 16GB...theo 616 3 GR5 k5 E8 4c 2 S808 1 3 32 4 5 3 5, 3 2 5 2 4g 3 6g 3 6.nhưng 2 4g 64 3580,mình 500 32G. 32G. 49 6 5 9.2.1 2 5s 9.3.2 9.2.1 9.3.2 1 5s 5s 2 6plush 9.3.2 9.3.2 1thag 9.3.2 2 5s 9.3.2 9.1 9.3.2 9.1. 9.3.2 5s 9.32 4s 2 4s 4s ip5 9.3.1 ip5 9.3.1 4s 9.3.2 6s IP5 3GS, 6 4S, 7 5S 1 5s 4 A9 5 k10000 1 1 1 5 5 6 1G 3g 7 3g Ip7 32E310, M7 1 10 M7 8 2007, 7 m8 M7 2 820 8x :3 M7 2 10 6 10 64gb 1 64g, 128g 1 1, 2 1 2 Bphone1 1 2 B1 1 B2 m8 P9 2tr9 G8 3 gr5 P910i 2.5 2.5 P910i 1 4 1,5 lumia630 2 4s 1 3gs 8g, ip4, 1 2g 2018!!! 2 6s T9 6. 6 4, 4 8t. 6 S7 6s 64Gb, S7 S7 S8 A8/ 2 1 14tr G2 G5 14tr 14tr. 1 G5 4s ios6, 1280,pin s4 3 s4 I9295 6s 1 1 1 1 s6 3400 2 3G. 2,4tr g2 2 1 1, M7 M7, M10 14-14.5 mi5 2.0 MI5!!! mi4 5s 5 10% 6 A7 G3 P780, A8 1% 402sh c5 m5 1 GR5 GR5 GR5 13 2.0 5 GR5 5,99 GR5 gr5 gr5 GR5 GR5 36k GR5 2 3G GR5 s7 3 1 2 1 1 128gb 4gb Mi4 1 99,9% Mi4 3,4 Mi5 Mi5 S7. S7! Mi5 G5 1 3 1 rmn3 1,5 5MP :3 13mepixel 5 294ppix 4G 13MP 5Mp 2k5 5se UX303 UX303 310 :3 8t 1 9.2.1 60D, 80D 80d 700 5 6 5. 5 2 5 1 j5 7 2 5 2tr 4tr5 5k 410 2GB 5000 4tr5-5tr 4tr5. 5000mAh 1 2 40%, wifi,3G 2 1 2 4 4g j7,oppo f1 f1 6,5 6s 4' 6s 2 7.21.01 3g 7 45. 3 3 4tháng 2gh 1gh z1 2, 20% 3g w10. 1000 520 512 3 2gb 520 2000mAh 1 3000~3500 950 950 950 950 950 930 1020 (3 950 930 2/2014, 10 950xl 950 930 2 620 3-4 4 5 e7 s5, 6lus, S6. S6 2 M4 28 3g 32g.camera 13.xài mx4 2 4 m5 m5 FS1. M2 3 M5. M325 G500 2 G500 3 2 5-6 M550b 2 6 550k, 3 M557‎ 1.75 G502 1.2tr G502 BsMBB08 1/4 1 3 175k 2 2-3 8000 2 G602 CTH-490????? 69, 79 1 2 2 1 13 2015) 10.11.3 10.10.5 2 10.11.3 13 2013 1 2 3 1 3 abn3 mp3 hêt1 (1:25) 2 M705 1, 2 15,36 PM1633a 3 $9690 216 63 PM1633a PM1633a 200.000 32.000 1500 PM1633a 2,5\" 15 2,5\" 2,5\" 9 7 5 PM1633a 2U 19\" 2 PM1633a. 15,36 PM1633a 7,68 3,84 1,92 960 480 PM1633a 3D 256 3 48 2 (1 32 128 15,36 32 512 512 256 16 16 3D 3, PM1633a 2 10 2D PM1633a 5 PM1633a 27 (27000 PM1633a 2 PM1633 3D 48 1,8 85,3 3 256 256 3D 2 0 1 1 1 1 200tr SM863 PM863 500gb 2 1 70% 200TB 2tr 10 32GB 2700TB 15.36 5 365 2800TB 1 15.36TB, 15.36TB 30.72TB 11000TB. 1 1 5 1 1 1 16TB 400tr 15,36 1 1 5 20 V300 120GB 800k/cái. 10 1 128GB, 6 3 500GB 1:1 320gb 1 0.75% 500GB T1, T3 ~450MB/s 5,2tr. 3,9tr. 120 4k 15 15 $9690 216 750 5 16tb 10t 4K 8K 4k 575 10. http://applecare24h.vn 575 Q.10 applecare24h.vn 5000 10k,thôi 64 8K 2009 160GB 800K 250GB 780k 16tb 200 2 40 PS4 43.5 2 3.5 43.5 PS4 PS4 100 5 40 PS4 19 60 PS4 2016, 3/2017. PS4, ps4 256 4 2 3.0. A870 G910 4 1,2; 1 7 2 30 8, 6 399$, 100$ 399$ 8 4 5. 4. 399$. 100$ PS4. 399$, 360 360. 100% 8. 1 8 1 1 8 1 8 8 1 2 90% 1. 2. 3. 5-7 1 2 2 2 1 8-10 2-3 5-7 1 1 1 2 1 1 1 2 1 1 1 16000 :3 1 2. 2. 2 3 2 9-10 24h. 18h 38 10m 2 1- 2- 2 1- 2- 1 1 1 5' 1 1h 17 30' (30')! 100 16,5 38mm 30phut ơi,15-18cm http://www.apple.com/shop/buy-watch...hite-sport-band?product=MJ2T2LL/A&step=detail 3G 38 1 38mm, 9tr2 3 2 2 2.0 <3 2 1 30 49,5 50,2 15,2 57 360 360 360, 278 3. 1 512 4 4.4+ 8+. 450 36 70 345 36 278ppi 1 s2 100$ 2nd 1 1s I5 1 1s I5 1 0.33 (23 (2.1 (0.8 IP67. 80 5 3s 255s) 1s, I5 2 1 1 0.66\", 2 1 1 1s 1 3 2 2 2 1s I5 0.66\" 1 24/24 IP67 2 80 5 6 30p 3s 255s) IP67. 4 3s 255s) 2 2 2 M600 2 M600 IPx8 1, 2 4 M600, 6 M600 M600 8,5 M600 330 M600: MT2601, 1.2 1.3\", 240 240 3 IPx8 512 4 500 2 2 2 1 2 2 3.8.2 3.30 1 5 24/7 8 235 2 2 765.000đ 1.250.00đ. 6 7. 1S 2, 2 1 1S. 70mAh, 20 10 15 2 3 2 1 2 1S #2 4.0 4S 500.000đ 9 420.000đ 450.000đ 69, 300k, http://goo.gl/aGn1JN 24/24. IP67 24/24 3 4 3 100% 3 1 2s 3 5 50 100 3s 30 2 5% 10 50%. 30 2 3h. 3 3 0.0.2 8.4 0.0.1 8.4 1 1S 1S 1s 69, 79 1S? 1S 1S 1S 69. 79 69 1S 1S 1S 15 30 9 33% 9 16$ 500 600.000đ 1S 1S. 69 300.000đ 79 79 1S, 400k +ip5s 1 30p hay1 1 3. 3 3 3 S4 5.0 http://en.miui.com/thread-85584-1-1.html 3 S4 5.0 http://en.miui.com/thread-85584-1-1.html 2. https://itunes.apple.com/us/app/mi-fit/id938688461?mt=8 5 1 1 6h 6h 450k. 290k 20 4.0 SW2 24/24 24/24 4.4. 430 10 2 69 79 69. 69 http://www.lazada.vn/vong-deo-tay-thong-minh-xiaomi-miband-1191495.html 319, 2 120k AMB4ccfg0 2 518k 69 69 https://nhattao.com/threads/cuonglu...99-3300k-rn2-999-3800k.4297183/#post-51948431 3 1s 1s 1 1 69 1 2 1 1 30% 1 3 4.4.4 4.4.4 5h 9h 12 http://pintot.vn/sac-vong-deo-tay-xiaomi-thong-minh-47 1S 15%: AMB4ccfg0 395k http://www.lazada.vn/vong-deo-tay-do-nhip-tim-miband-pulse-miband-1s-1718540.html 3188239 2, x6s, i5 2 2 MB2 10 Nokia1202 2 2 5 2. 1/Phải 2/ s7 2 20 2 22 2: 20 IP67. 0,05 4.0 2. 22 1 1 i5 400k 500k 550k 22$ 149 22$ 1 BB10 BB10 500k 22$ i5+ 7 6 1 2 +84903 075 780 550k 149 520k 7.6 500k. 2 1-2 1 5-600k i5 i5+ i5+ 400k 79, 2 1s 200k 87% 35 4%. 35 83%, 2,5% 1s 500k 600k 2 7 800k 1S 4 4000 1 1 1 2 3 m7 1s, 1 40usd 15/7 1 miband2 2 1s 1s 3 1 20 1s 20 1 1 90k 2 8h 2h i5 1s 2 2 S2 750k, 2 2 1s 750 1 1 (i5 2 2 700k. 1-2 600k 1 (08/06/2016), 2 2 690.000 2 2 2 2: 0,42 2. 4.0 2. IP67 20 2.0. 2 2 2 2. 3 2 2 2 2 2 2, 2 0,42 2 5 2 01 2 2 2 2 1S 2 2 IP67 2 4.0 2, 2 2 20 01 IP67. 2 http://genk.vn/mi-band-2-dau-tien-da-ve-toi-viet-nam-gia-tu-690000-dong-20160608033429982.chn 2 690.000 2 2 3 1 1tr3 820.000đ http://www.lazada.vn/vong-deo-tay-xiaomi-miband-2-den-2260091.html 2 2 22$, 600 820? 1-2s 3-4s 2 Nokia1202 22$ 1 50$ 820k 40 1 19 41% Nokia1202 1 2 2 IP68 1 100k. 2: mb2 mb2 620.000 14 2 2 3G 4.4 X6 0 vidonnx6 15 I5 5-7 12-13 26$ x6 i5 i5. i5 x6 1 `1 BB10 thuy6e1 i5 10m i5 i5 x6 i5plus I5 2.0.18 2.0.1.8: v2.0.1.8 1.1.x.x: http://uploaded.net/file/s3iw0wzf/2018-11xx.hex 2018-11xx.hex (193,29 http://www.mediafire.com/download/yg.../2018-11xx.hex v2.0.1.8 1.0.x.x: http://uploaded.net/file/3bhblvsp/2018-10xx.hex 2018-10xx.hex (183,31 http://www.mediafire.com/download/rk.../2018-10xx.hex v3.6.6.14 2.0.1.8 3.1(bản 1s 430k 430k I5 900k 550k i5 x6s x6s 1 2 i5plus 430k i5 2011.10xx 2011.10xx I5 5s 9.3.2 i5plus 2 a6 i5 5s 5s ip65 2.5 13 2015 6-11 64gb M2 5tr 2.5tr 64 1000X 120GB 1000x 3.0) 350$ 80$ 80$ 1 1 20 5 32Gb 10 10-15Gb 199$ 99$ 5tr 5 (329 6tr. 80$ 1 1 11, 14 1cm 2 100$ >200$, 100$ win10 5400rpm 1 12 3 7200 http://www.howtogeek.com/196541/emmc-vs.-ssd-not-all-solid-state-storage-is-equal/ 5-6chai. win10 17gb. win10 7gb. 1gb. 1 100S 30-50fps 1 32 2010 10 5400rpm, 1 11, 460 10/8. 3 2 460 3,5 (2 109 2,5 460 2 460 2,2 460 12, 460 75W, 460 2 460 470, 460 3,5 (2 4,1 (4 2tr9 2GB 2m8 3tr5 950 960 60% gtx950 2 4 60% 950 750 1 950 960 480 8gb 4tr5 5 470 480 480x 950 2 4gb 8gb 950 rx460 460 gtx950 3.5 460 950 1060 470 460 950 960 rx460 R9270 r9270 470 480 12 950 9xx gtx10xx 4xx dx12 dx12 11 480 1070 12 480 5% 960 rx460 630 7730 gt730 hd7730 1030 460 950 960 460 1050 1060 460 750 12 dx12 10 dx12 12 rx480 480 224W 480 1060 460 950 12 dx12 R9 390 390X 1 460 gtx750 rx460, gtx1060 480 1060. 3m 730 gt740 r7 250, r7 260x 460 950 12, 11). 750Ti 960 60% 480 1060 460 2tr88 3tr85, 3tr5 4tr1. rx450 460 450 440 4 100$ 1060 Rx460 460 950 950 960 750 950, 960 950. 460 470 1.7 480 1060 2 460 3tr5 1060, https://www.techpowerup.com/reviews/ASUS/RX_460_STRIX_OC/24.html 460 4 460 $109. 460 4 2 6-pin $140 GTX750Ti 2,9tr 3,3tr GTX950 3,8tr 4,8tr 960 4,8tr 5,7tr 2g 4 950 960 RX460 RX460 960 r7 260x r9 r7 260x 750 750ti 5 100USD 2G 4G 120USD... 4bg 460 4bg 2 10xx 460 950 1030 1 dx12 1 8GB, 16 1060 3Gb 2 12 960 1 dx12 dx12 dx11 hd77xx r7 r9 11 12 460 950 9 r7 260 2m 2 r7 260 3 3m r7 260 2m 460 4K x60 1060 1060 G1 1060 1060 1060 3 10 1080 1070 1060 x60 x70, x80). 10 1060 1060 G1 1060 G1 1060 16 1920 1620 (OC)/1594 1847 (OC)/1810 6 GDDR5-8 192 1 1 2.0b, 3 1.4 278 114 40 400 (1 8 8,1 1060 G1 G1 8,1 (8 G1 G1 G1 1080/1070, 4 3X, 4 2 2 1060 G1 2X 2 3X 2 1060 G1 1070/1080. 2 3 3X. 1060 G1 1060 G1 G1 2 50 1 8 6 225W 150W 2000 300 70% 1060 1060 1060 G1 3.0 16X. 75W 8 150W) 1060 G1 3 1.4, 1 2.0 1 10 1060 G1 2 1: i5-3570K 4,2 Z77-V, 8 DDR3-1600, 120 520, 500W. 2: i7-6900K 3,2 X99 8 DDR4-2400, 120 520, 650 1 1060 2 2 1 5 30 1060 1060 G1 i5 1060. 1 1060 1810 2000 1070/1080. 1810 3DMark 3D 12 1060 4157 i5 3904 2 4578 4 4 1060 70-80 60 82,2; 60 12 1060 G1 100 4K 40-50 4K (2016) 2 10 1080/1070/1060) 480/470) 20 100 100% 85%, 4, (71%), (58 (100%, (36%) (1974 20 1974 30%) (58 1810 1060 G1 8,1 1060 G1 1070 12 1080 18 1060 1 1060. 1060 G1 1060 60 3: 40-50 970 10 8 1060 980 12-15 1060 1060 10 (1920x1080), (2560x1440) 4K (3840x2160) 60 1070 1080 1070 1080 1060) 1060 1060 480, 1060 1070; 1 2tr, 1 8.1tr 705 2.0 8.1 5 970 970 1050 470 8tr1 1 1 2 6 760m. 1xxx 8.1 980 980 750 180w 460 1280 1920 1070 p8Z77 87 2 quá.i7 7400,ram 8G, i3 3,5ghz, gtx750ti rx460,470 1060 1. 1 8tr1 1 6tr7 2 RX460 RX470 1060 730 750 1 1060 6.690.000 2 8 5 6 1060 1060 6G 2 1t 950 1060AMP 76 5 (1 2 2 950 i3 4130 750 1gb. 16gb 4 970 9 2 2 9xx 970 4 480 11, 12 480 480 1060. 750 750Ti 730 1060 6 480 8t 10xx 8cores 16threads X99 5820K (6 12 DX12 1 6/12, 8/16 12/24 X99 6900k 1060 6700k 1080 5820K 1070 1 1060 2 3 1060 1060 980 970 4 10 50 5 21 E3 1231 V3, B85M-E45- 1150 1060 GL552JX GL552VW, G551JX G551VW GL552 30 G551 #1 16GB DDR4 1 8GB DDR4 M.2 128GB, 2.5\" 1TB, 8GB. 1 DDR4 10 8GB 95% DDR4 30 win10 10, 1 34\" 22 1 55\" 32\" 1 C5 ip6s 2 2016 3 f1+ a5 a7 2016 ip7 note6 7, 9, 2017 (s6 s6 s7 S6, 3 IP4 s2 1 1 6+ 5. 2 1 7, 7 1 5 7 ip6 ip7. 50k$ 4 1 4.4 5 V10 2015 128g 16g. 4k 4k. 16GB 100$ 100$ 16G 6s 16Gb. 16Gb. 512GB 16 512 2-3 500 99% 98% 1tr mp3 1 9900 9900? 1 1 3.4tr 212, n9 3, 4, 10G 10G, 9,5G, 500MB. 2 100mb 2GB. S3 Air2 2GB S3 50% 2 2gb S6 2 iphone6 1 S6 IP6 Air2 2gb 100mb ip4s 512 128GB 32GB 128GB 1 9.3.1 128GB 1 8GB 4 2GB 8 1GB. 1 6GB 1 24GB 48GB 512MB 2GB 3GB 4GB DDR3 14nm DDR4 10nm,các ip8,9 4G 7 128 98. 2 6 1G s6 3G 1Đt 5 tầm820 4G 1 2~4G 6GB 3~4G 3 1,5-2T 17 14-15 2 2/3 3000mAh 3 1 V8 V3 1 7tr 2 2 2 1 2 1 1 1 1 1 ip4s A5-06 5 5s 5 6 S6 3 ip7 1 ip7 S7e 90% ip7 2/3 3300 7 4 1 6S 6S 6 2 m7 4 6. f-06e Sol22 so-04e sol22 1 1 s3 300 1 1 4 4.0 DL1 4. 3g 4.0 4.0 11gb 2 WP8 1 520 WP8 1 1 WP8 WP8 1 p-04d dl1 p-04d dl1 8gb 4 dl1 DL1 3G 60% 3G 2g30' 9g30 3G 12h 40%. 7 4.0 1gb 300mb 102p P-04D, P-05D 4.0 102p 18/4/2013 101p 102p http://mb.softbank.jp/scripts/japanese/information/fota/detail.jsp?id=20130328114032543 1 F06E 2 F01f F06e. SH-01G P-03E. sh01g sh02e. Sh01g 1 sh01f 304sh sh01f 304sh s5 s5 s5 1 F04g F02g 3k2 i607. 2 2gb 900mb 100mb 1 7 4 2K, 3G 7 1 3 1 2 6S 2G 7 2,5 Iphone6 2 10 A9x 4GB iphone7 100 60G s7 ip5s 5 4G 6S 2G 2 5 6S 6G 6 6s, 4. 4 4k 100ppi 1 7,3 4 55% 3 625 652 3 1 1 SF1 5 5s 7 S3,note 1 2005 7 6GB one+3 1 6 7.thôi 6 f/2.2 6s 5S 1 6 6 7 1 360 360) 2014, 496 7 10 8.1 8.0 1-3 360 7) 8, 10 360 360 360 7 2 4 5S 4S 1m73 65kg. 5s :3 ip7 11 2-4 5 1 1 6 ip5s. 6s 64 16 13,14 5 7-8 150 1 990k 1 250k 1.bkacbery 2.iphone 3 1 7 830 8G 5 6s 4GB 2ram 2GB 4GB 2k.thực 6s 6 1gb 6gb 2gb 6 2gb 7 3.12g note3 3d 7. S4 1 3 3 3 6 6 6 7 s6 6s 6s 1 iPhone7 6+ 7 7 5.7 153.5x73.9 6s 5.5 158.2x77.9, 6s 7 ip7. ip6 ip7 Ip7 7 7 7 6plus 5. 7 7 z5 10 1 1 Z5p 7 2K-4K 1. 2. 2 1 2 3G 3G 7 7 7 7 5G 15G 15G 2 6t 6tr 2,3tr Mi4 mi5 7tr snap820 625 9tr. 3 7 1 5 5 3.150.000đ 3 1100 6 5, 1 S7 7 1 S7 1 6 6S 15t 10% 9 ip7 Note5 3000, 5000 A9 2 S6 S6 13tr 50 4 2 6s 2 6 6s 2 2 6 s7 5 1 5 s5 4 6s 7 6s 1 1 not5 V10 1 100 2016 S7/S7 6s/6s 2 7 6 S7 7 7 R7 M10 7 7 s7e S7 2 4 z9 7 S7 1 2 3,5mm 2 2 1 3,5mm, 1 2 1 2 2 3g 2026, 3 110i 4 99% 4 1 7 3 3 3 note1 note5 note7 4 4 4 7 4 10GB, 10gb 10gb 1gb, 2gb, 4gb, 8gb, 16gb 5, 7 4 8 5 7 4 80% 10G 10gb. 10gb 8G. 2G 1 1 ỤA40J5500 10tr, 1 40\" 8tr 1tr2 M8S 4k M8S 2tr 1 4 4k 2 4 16 10 10 32w600, 40w700 32k5500 40k5500. 40ink 32, 32 32 32 Ip7 1 1 2 5 2012 1 1 ip5s 9.2.1 4s 8.4.1. ip5s 9.2.1 8.4.1. 9.2.1 8 9 Ip5s 7...hihi 5s 2 5s 1 7 8.4.1 4 2 4s 7.2 1 7.1 7 100 360 mp3.....thì 20 m2 360 360 192 kHz/24-bit. 7 7 360 7tr 360 1 1 G4 2 105 G4, Zen2 G4 g4 g3, 2, g3 G4, 1 V10) 3 2 1 100% G4. G4 zen2. 2 1 1 G4 Zen2 g4 2 G4 G4 G4 2 3 2 2 2 1 G4 G4 G4 z5 iphone6 zen2 5 1 G2 G4, G4 G4 zen2 G4 6s 2 G4 G4 Zenfone2 1 G4 G4 zenfone2 g4 2 G4 G4 2015 2 G4 G4 lgg4 note5 G4 zen2 G4 G4 Z5, V10, 5. G4 VS986. 2007 3 40 (3-5 1 15-17 2 2 nech,3 d850 v6 G3 1/3 80% Z3 11 lop5 1 40-50% 10% (1) (2) 1 g2 1 1 800k Z1 Z1 02 1 1 100% 50% 15-12-2015 s2 2013 G3 3G 45% 630 A5 3tr7, 710 2năm 1 4 4 5 Note5 2 35-40km/h G2 3 100% lg3 2 m8 G4 10 G4 10tr 5 13 2 3 10% 2 10% 200 1tr8. 3tr9. 9/10 g3 1 9 10 320W-8.1 2 3 1 1 1 16m2 199 mp3 HW-J8501/XV 2, 10 HW-J8501/XV 2 HW-J7501/XV js9000 2 100 :3 2.2 MX-JS9000 20tr J6001, 8,9 HW-J8501/XV HW-J7502/XV 7, 9 4 4 3 2 6 1 1 1 3 S2, 3 4 4 A6X 1,4GHz, 4. A6 5 1,3GHz 3 5 (A6) 4 (A5X). 4 1GB 3 2 2 3 4. 1 3,4 ip3 ip4 4 2 2 3g 4 1 Air2,. 4 1 32 S2 2 1 4 5tr 2 4 4 air2 3,4 mini3 1 mini2 3,4 1 3 4 1-2 6 6 1 1 3, 2 2). 2), 3 3 1 32gb 4 6 Xa1, xa2 10 Xt1 8, a9 a7 11trđ 6-8 a9 550 1 1 105 4 430k 2 1 311 1 1202. 6 1 3 8700v 3, 1 2011 1 2 5-6 1208 12 6 40, 15 N70. 2,0 13 20 6500 3.2 8 13MP. 3 1 4.000 3tr s6e s7e 2 EG965T 4,3 80% 30% 4,3 1-2 1 1 2000$ D500 D750 3 D7200 D7200 930, 1520 8/10 10 1/ 2/ 3/ 4/ 5/ 7/10, 9 2 950/950XL 2. 2 730 5s! 6. 30% 2016. 1 1 4inch. 1 5s 9 1 4inch 5S 8,5tr 6tr 500USD 5e A8 6 4.3 11 299$ 399$ ip5 5s 5C 5s A9 2G 16GB 500$ 1100 3,5tr 6 2 mi4c 1 2'tr4 3tr 1 4 2 3 1 1 Mi4 6.0 2014 2t8 3t 2016 1 2 2 30 3 /2016 110 12/2016 90 =3 =3 G5 70d A6000 70d 70d a6000 70d A6000 2 A6000 70D 70D 50mm. A6000 a6000 70D a6000 7D, a6000 7D 7D 70D 7D 2 a6000 M3 a6000 a5100 2 A6000 50mm f1.8 2tr. 1 5.5 5 5,5 6 4,3 4,5 5 730 650 zen5 730, 730 620 930 2 1 1 2 SF1, 2 SF1 1 3 3g 2tr 1 4K 4K ip6s 16tr 19tr 4,2tr?nếu 4,2tr 100% 4tr 50 300 4,2 6s 6s 9.2.1 4,2 1000 5tr,chưa 1 Ip6s 5 10 3.5 4TR2 4.2 100 50% 50% 3 50% 3 6S 6s 15 16tr 4tr 5tr. 100% 100%. 6s a9, iphone6,6splus 4,2tr 4,7tr 129G 4tr 1 100% Ip6s 2 2 4tr500 5s 6s 1 10tr 2 3 6 6s s7 42w674. 700C 500C. 50 w800c 3 40 va46 20 25 40 2 46 20 3 8 2 43 42\" 674A W700b 800C 674 7000 800C. S307 Android.Cooee.1 S307 4 2 3 5\" m2 5 950XL, 5. 950XL 2 1 950 1520 5 950xl 5 1 5 950xl 5 65'' 100'' 3x4.5m 3 32 4 42 5 50 6 65 80 48\" 70\", 2.5m, 70\" 100\" 2-3m 55 32 1-1,5m x2 2 10 65\", 10 2 25\", 5 4 55\". 1.2 -1.8m, 19-26 2.7 3.35m, 39-46 3.35 3.96m 47 55 4.26m 55 2k 4k 4k 30tr.xem 1 4k 65\" 55\" 65\" 42\" 1 65\" 3 4m 1.33m 55inch. 55 48inch 4k 55inch. 6-7 x3 x5, a17 x1 2-4tr 2 22 6 1,5 90% 32.inch 32BX 35A, 2013, 2014 (1năm), 2016, 32..chị 3.8 1 3-4 3 1 2 1năm. 6 1 42inch 7,8 1 10 20tr 50w800. 4k 4k 5-6tr 2-3 20tr 30 3 1. khoảng45% 4k 2. 1/3 3. 4. 6 6tr J7 2016 j5 2016 4.7 5s 1trieu500vnd C4 6.0 1 Z5 6.0 7.0 6.0 7.0 6 J7 2016 j76 mi5 32G 1G 1G 2tr 100% f1 j7 (6) 2 1+ 3 1 4 2 s7 note7 Fine7 Find7 7 2 v10 v10 s5 4,5 5.5inch??? ip6 6 6 1 6 1 6 ip6 soc.1 :3 DTEK50.. G2 2012 :3 1 4 9780. 9700 3000k 9700 1 300k 9900 :3 8.5tr Ip6+99 HN03 1.990k q10 K43E K53S..sao K42JE. 11 3.0 3.0 2.0 K3 X44 3 7 2 3 2 6GB 13-17tr 3cu 10 2 ZE550ML 6.0 zen2 1 1.2 1 zen3 5 1 1 3 1kái 20% 3 3 zen3 3 3gb F1s f1s 1 f1w 4gb 2,2gb 1 1 6 2 3 mx1. 3 3 v3 v2 1 2 2 330 1 710 710 710 1 SS6 3.5 2 300 s6 256G 150$ 6gb 3gb s7, 14triệu 14.9 S7. 6s. 3g 8 102p 4.0 p05d 102p 4.0. 102p p04d 102p SH-08E, 16900000 3G 3G, i607 S7 5s, s7egd 10 1 P70 2 2 Z5 13 1: 2: 6s 5s 5SE s7 Neo7, 1GB, neo7 5 3, 16gb 16tr 3tr V10 1 1 6.2 6,6 mi5 mi5, 1 5 32GB Z3 1 6in 27000mah 1h 3 2.Thành 100 $299 6SE :3 1 2-3 s4 1 S7 5 5.5 2K- 02 01 1000 2 10 10 6s 7 6s thôi.5icnh 1800mAh 90% z1, z1 z3, z3 z5), 5 M4+M5, z3, z3mini, M4,M5 z3 z3 m4,m5 s7 6. 3G 4G. 9 a37, 2 air2 2 5,5tr 7tr 1 1 7x 9x). s7 ip7 256GB 7 5 mx5,noi 4 S7 2 2,7kg 20 1 10 .1 2014 1 4 1 99% air2 18 4 8in 7 1 3 4 1 1 13mb ip6 1.6 16.mp 5.0 2 520 Z5 10 (950xl) 808 M9+ 10 M9+. Z5, 1 930 50k, 400k 600k Z3, 3 1 A6300 X-T10 A6 1 1 4 A6, 700k t6, t7 t2 X6S 3 200k 1 3 1 1 1 500k WR720N 10k 4 5 2 1200 120.000$ 3 50t 5tr 1 28 645z 4 4 4 4 5 8 4 250GB. 4ever s2 5 7 1,29 900k 9 ..23 S7 Note8 S8 13 2 7 ip6s 1 1 1280 1,5h 5 2 110i 1 1 535, 5, 7, 8,9 20 IP5S s6 s8 10GB 2200mA 13,14tr 17tr s7 S6e 100% S2 S4 S7 S6 40 1 1 A7 XT1 2 M7, M10 4k 43 400usd 7 6s 6 note4 6tr ZL2. 4 5 5inches 10 6 16GB 64GB 16GB 32GB 399 3 S7, S4 16G 11G G3 M325 5 2 Level10M g602 M905, 2 1,699 3 2 M905 M910. 5 1 1Password 1 1 360 1 8h 70% Mi4 1 M1s 1 3 3 mi4 2 2 1 960M GDDR5, GL552VX 1 G4 no.1 4 6.0.1 17tr 14-15, 12tr S7 5s 6 9 1 4.0 2.3, 2.3 14 Note2 F06E 1 9tr5 F01f F05f z1 3G 2 1 1 2 1, 7 400k 3 7 13 5s ios7.1.2 9, 7 5 2 3pro. 16 4tr ip6 Zen3 50 100 note7 3 4 5 3 2 7 5 5 4 3, 7 3 6 3 4 7. 4 3 2 32in 05 40inch 02 50w800c 1 Q10, 1 13 2 2 20 5-6 4 7 1/3 2 3: p9 1 2 1 3 lumia730 3 1 7 10 10586.494 1 g3.g4 64GB. 7 f1 540 1 5 3.5trieu 540 2012 450 2014 630. 540 G9 IP6 5 2 4 5. 1 2 SF1, 2 2 z3 2k3. z1 4 20chai 3 7. note1 4,thật 9 4 1 740 1 1 7 552vw. GX700 10 2.0 s7 s7 S7 950XL G5 s7e 1 s7e v10 10, G4 V10 10 Z5. 1020 M8 S6 S6 m7, m7) 10 1 :3 1 xe1 6, xe2 a6000. 2 a6 650k 2 500k 850 1 1-2 5 2-3 1 10m, 1 4 1 1 381.000 3.5 1ms u2414h 60Hz 1/3. 5s 4,5 90% 1 1 13\" Mi4 x202 2 3 6930p 4 2-Duol, 2G, 4G. tp550l, 15,6 4gb 10 31 P900 83x CX213 1 7000 3D 4k 1000 4k KS9000 25% 1 3 10 11h htc10 920 2012 1 2 3 1 9.3.1 6s 64gb 9.3.2 6s 2 4s 5 4s 5 5s 6+ 2 ip5 9.3.1 6 Note3, S5, M8. 1 bp2 1sieu p9 15tr 1 2 1 4s S6,s7 s6 s7 2 s6 6 Note5 2 14củ g5 20tr 5/5s 2 s5.1 1 25k/con. 2 0.5s g502 502 1 M545 4k 1 3 8-9 16 1 3 3 1. 7/8 i7 x2 2. PS4 42Inch 3. 10.1 2014 4. 2 S4 1 1. 2. ip6+ 3. 1 1 1 1. 1. 1 3. 3-5 3 1 20%. 1 2 1 aw2,3 15-18CM 42mm 42 1 2 2 1 2 2 1 D2 2 t3 -5 -7, ~10 12 2 2-3 50$ 5 1 1 1 2 1 2 9 1 22h30,sáng 23h10 2 1 2 Nokia1202 2 2 1s 1s 79 2.1.1 2.0. 1s 10h 7/6 149 500k 700k, 1s 1s 2 i5 1s i5+ 1 <100$ 7 700 990-1200k,chát 1 100k 748k 3 3 1ua 2 830k 120k 710k 2: http://www.lazada.vn/vong-deo-tay-xiaomi-miband-2-den-2260091.html AMB4ccfg0 2 i5 400 i5 x6s, A6 2 i5plus 7gb. win1o 7gb, 1gb. 100% 1 500 1 1 2017. 4. 960 960 60% 950 http://www.guru3d.com/articles_pages/asus_radeon_rx_460_strix_gaming_4gb_review,10.html 460 4 460 4GB. DX12: (2016) guru3d.com RX460 GTX960 60% GURU3D 1 RX460 GTX960 1 RX460 60%, 1 20-50mhz http://m.genk.vn/diem-benchmark-rx4...0-nhung-gia-tuong-duong-20160807144011083.chn 460 950 950 950 460 r7 240 750ti, fifa16 30fps 480 1070 750TI 950 4G 950 960. 950 Rx460 460 950 2 RX460 950 950 960. dx12 8gb 4gb 4m gtx950 4m 4 i3 950 460 4G 1060 6GT i3 4160 I5-4590, 16GB, 1070 2k 4k RX480 RX480 7tr 1 1 1 1 1 1080 10s 60 G551 2 GL552VW GL752VW GL752 7. 2 7 7? 6SE 2 3 7 x7 7+ 8k 64GB 128GB 256GB. ip6s V3 S6 Ip6 1 2,3 s6 7 s7 s7 S7 7 S8 7 m7 3G 13,1 1,9 SH-04F 2 2 IP4/S1 4s/S2 5/S3 5S/S4 S1 IP4 4S S2 5 S3 7 6s 750 1334 1960 1 2 note4 7 18.99 1 730 19,9tr 20tr? 1 5 bác,1 7 360 360, 2 4 6plus 240 ip6 6 2 10 9 S7 7 5.7 6s 5.5 S8 iP7 Ip6s n7 6+ 6.0.1 s6 2 x3, 6 1 2 1 2 1 4 1 15Gb 5 75Gb, 1 1 15Gb 1 ip6 1 1 a5 Note4 Note7(6) A9 5000mah. 7 2 100 100 7 N930FN 2 2 5 7 6 S7 7. 32 1 32 LA650 2008 JU6600 40 4K 4S 2 6h 13h 9.2.1 4s 30% 7 4 3GS $450 10tr 34W 360 3 360 75 m2 zen2 4g g2 2 G4 5 6s G4 G4, G4 4, S6, M9, Z3 2 1 1 99%, 1 1,2,3,45... 1 q23 q567 S3, OneM7, G2. 1 1 1 1 5 550 1 1 454 3 g4 8 14 7tr 2. J850 4 3 4 3 3g 2 4 1. 2. 5s 5c 3,4 1 16gb 6,5 1 4,5 3-4 S2 2 S2 1g s6 1/2 6s 1 5s 6s A7 2 EG965T EC830T 50 20tr 10 8 5 5s 4in 640 500 2tr9 3 1/4. 1 5t.chưa S6 18-55 50 1.8STM A6000 A6K A6000 4\" 4,3\" 4,5\" 1 4K 2 sf1 1 1/3 1 2016 16 10 500 50% 50% 1/3 0% 200usd 6s 64G 750 5.2 24 2 4K 43 2015... 2016 70 80 2016 SF1 3G 5 950XL 0 20triệu 300usd. 3 3 3 xưa,mi4 4 4K A9 10 f1s 6m?? no1 5 5.5 2k 3gb 2gb 360 Mi5 5tr a7 2016 j7 (6) s7e 3s 5 1 4?? 8G 30 1 iphone6 "
          ]
        }
      ]
    },
    {
      "cell_type": "markdown",
      "source": [
        "We will remove those words to help our dictionary cleaner"
      ],
      "metadata": {
        "id": "xNe_w_IOymwW"
      }
    },
    {
      "cell_type": "code",
      "source": [
        "# Function to detect word with digits\n",
        "def contains_digits(word) :\n",
        "    for char in word:\n",
        "        if char.isdigit():\n",
        "            return True\n",
        "    return False\n",
        "\n",
        "# Function to remove word with digits\n",
        "remove_word_with_digits = lambda review: ' '.join(\n",
        "    word for word in review.split(' ') if not contains_digits(word)\n",
        ")\n",
        "\n",
        "# Apply the function to the 'Data' column\n",
        "data_train['Data'] = data_train['Data'].apply(remove_word_with_digits)\n",
        "data_test['Data'] = data_test['Data'].apply(remove_word_with_digits)"
      ],
      "metadata": {
        "id": "yimYCKzfq8IR"
      },
      "execution_count": 15,
      "outputs": []
    },
    {
      "cell_type": "code",
      "source": [
        "data_train"
      ],
      "metadata": {
        "colab": {
          "base_uri": "https://localhost:8080/",
          "height": 423
        },
        "id": "3oDC_VFdr_ui",
        "outputId": "129dcaa4-e912-41b1-e04e-1d0fefd75dbf"
      },
      "execution_count": 16,
      "outputs": [
        {
          "output_type": "execute_result",
          "data": {
            "text/plain": [
              "      Class                                               Data\n",
              "0        -1  Mình đã dùng anywhere thế hệ đầu, quả là đầy t...\n",
              "1        -1  Quan tâm nhất là độ trễ có cao không, dùng thi...\n",
              "2        -1  dag xài con cùi bắp trâu, mỗi tội đánh liên mi...\n",
              "3        -1  logitech chắc hàng phải tiền triệu trở lên dùn...\n",
              "4        -1  Đang xài con cùi mía , nhà xài nhiều chuột nên...\n",
              "...     ...                                                ...\n",
              "5095      0  Mình mua máy về đc ngày mà điện thoại khác gọi...\n",
              "5096      0  Có bạn nào dùng ko.mình dùng m cảm thấy quanh ...\n",
              "5097      0  Dùng oppo mà bộ nhớ thì k chơi games đc đ...\n",
              "5098      0  Sao tui thích xài hàng oppo mà lựa toàn mấy đứ...\n",
              "5099      0  mới mở hộp ,oy mở vào camera mà đã có ảnh chụp...\n",
              "\n",
              "[5100 rows x 2 columns]"
            ],
            "text/html": [
              "\n",
              "  <div id=\"df-972ec779-403a-4cb8-a63c-361661da7383\" class=\"colab-df-container\">\n",
              "    <div>\n",
              "<style scoped>\n",
              "    .dataframe tbody tr th:only-of-type {\n",
              "        vertical-align: middle;\n",
              "    }\n",
              "\n",
              "    .dataframe tbody tr th {\n",
              "        vertical-align: top;\n",
              "    }\n",
              "\n",
              "    .dataframe thead th {\n",
              "        text-align: right;\n",
              "    }\n",
              "</style>\n",
              "<table border=\"1\" class=\"dataframe\">\n",
              "  <thead>\n",
              "    <tr style=\"text-align: right;\">\n",
              "      <th></th>\n",
              "      <th>Class</th>\n",
              "      <th>Data</th>\n",
              "    </tr>\n",
              "  </thead>\n",
              "  <tbody>\n",
              "    <tr>\n",
              "      <th>0</th>\n",
              "      <td>-1</td>\n",
              "      <td>Mình đã dùng anywhere thế hệ đầu, quả là đầy t...</td>\n",
              "    </tr>\n",
              "    <tr>\n",
              "      <th>1</th>\n",
              "      <td>-1</td>\n",
              "      <td>Quan tâm nhất là độ trễ có cao không, dùng thi...</td>\n",
              "    </tr>\n",
              "    <tr>\n",
              "      <th>2</th>\n",
              "      <td>-1</td>\n",
              "      <td>dag xài con cùi bắp trâu, mỗi tội đánh liên mi...</td>\n",
              "    </tr>\n",
              "    <tr>\n",
              "      <th>3</th>\n",
              "      <td>-1</td>\n",
              "      <td>logitech chắc hàng phải tiền triệu trở lên dùn...</td>\n",
              "    </tr>\n",
              "    <tr>\n",
              "      <th>4</th>\n",
              "      <td>-1</td>\n",
              "      <td>Đang xài con cùi mía , nhà xài nhiều chuột nên...</td>\n",
              "    </tr>\n",
              "    <tr>\n",
              "      <th>...</th>\n",
              "      <td>...</td>\n",
              "      <td>...</td>\n",
              "    </tr>\n",
              "    <tr>\n",
              "      <th>5095</th>\n",
              "      <td>0</td>\n",
              "      <td>Mình mua máy về đc ngày mà điện thoại khác gọi...</td>\n",
              "    </tr>\n",
              "    <tr>\n",
              "      <th>5096</th>\n",
              "      <td>0</td>\n",
              "      <td>Có bạn nào dùng ko.mình dùng m cảm thấy quanh ...</td>\n",
              "    </tr>\n",
              "    <tr>\n",
              "      <th>5097</th>\n",
              "      <td>0</td>\n",
              "      <td>Dùng oppo mà bộ nhớ thì k chơi games đc đ...</td>\n",
              "    </tr>\n",
              "    <tr>\n",
              "      <th>5098</th>\n",
              "      <td>0</td>\n",
              "      <td>Sao tui thích xài hàng oppo mà lựa toàn mấy đứ...</td>\n",
              "    </tr>\n",
              "    <tr>\n",
              "      <th>5099</th>\n",
              "      <td>0</td>\n",
              "      <td>mới mở hộp ,oy mở vào camera mà đã có ảnh chụp...</td>\n",
              "    </tr>\n",
              "  </tbody>\n",
              "</table>\n",
              "<p>5100 rows × 2 columns</p>\n",
              "</div>\n",
              "    <div class=\"colab-df-buttons\">\n",
              "\n",
              "  <div class=\"colab-df-container\">\n",
              "    <button class=\"colab-df-convert\" onclick=\"convertToInteractive('df-972ec779-403a-4cb8-a63c-361661da7383')\"\n",
              "            title=\"Convert this dataframe to an interactive table.\"\n",
              "            style=\"display:none;\">\n",
              "\n",
              "  <svg xmlns=\"http://www.w3.org/2000/svg\" height=\"24px\" viewBox=\"0 -960 960 960\">\n",
              "    <path d=\"M120-120v-720h720v720H120Zm60-500h600v-160H180v160Zm220 220h160v-160H400v160Zm0 220h160v-160H400v160ZM180-400h160v-160H180v160Zm440 0h160v-160H620v160ZM180-180h160v-160H180v160Zm440 0h160v-160H620v160Z\"/>\n",
              "  </svg>\n",
              "    </button>\n",
              "\n",
              "  <style>\n",
              "    .colab-df-container {\n",
              "      display:flex;\n",
              "      gap: 12px;\n",
              "    }\n",
              "\n",
              "    .colab-df-convert {\n",
              "      background-color: #E8F0FE;\n",
              "      border: none;\n",
              "      border-radius: 50%;\n",
              "      cursor: pointer;\n",
              "      display: none;\n",
              "      fill: #1967D2;\n",
              "      height: 32px;\n",
              "      padding: 0 0 0 0;\n",
              "      width: 32px;\n",
              "    }\n",
              "\n",
              "    .colab-df-convert:hover {\n",
              "      background-color: #E2EBFA;\n",
              "      box-shadow: 0px 1px 2px rgba(60, 64, 67, 0.3), 0px 1px 3px 1px rgba(60, 64, 67, 0.15);\n",
              "      fill: #174EA6;\n",
              "    }\n",
              "\n",
              "    .colab-df-buttons div {\n",
              "      margin-bottom: 4px;\n",
              "    }\n",
              "\n",
              "    [theme=dark] .colab-df-convert {\n",
              "      background-color: #3B4455;\n",
              "      fill: #D2E3FC;\n",
              "    }\n",
              "\n",
              "    [theme=dark] .colab-df-convert:hover {\n",
              "      background-color: #434B5C;\n",
              "      box-shadow: 0px 1px 3px 1px rgba(0, 0, 0, 0.15);\n",
              "      filter: drop-shadow(0px 1px 2px rgba(0, 0, 0, 0.3));\n",
              "      fill: #FFFFFF;\n",
              "    }\n",
              "  </style>\n",
              "\n",
              "    <script>\n",
              "      const buttonEl =\n",
              "        document.querySelector('#df-972ec779-403a-4cb8-a63c-361661da7383 button.colab-df-convert');\n",
              "      buttonEl.style.display =\n",
              "        google.colab.kernel.accessAllowed ? 'block' : 'none';\n",
              "\n",
              "      async function convertToInteractive(key) {\n",
              "        const element = document.querySelector('#df-972ec779-403a-4cb8-a63c-361661da7383');\n",
              "        const dataTable =\n",
              "          await google.colab.kernel.invokeFunction('convertToInteractive',\n",
              "                                                    [key], {});\n",
              "        if (!dataTable) return;\n",
              "\n",
              "        const docLinkHtml = 'Like what you see? Visit the ' +\n",
              "          '<a target=\"_blank\" href=https://colab.research.google.com/notebooks/data_table.ipynb>data table notebook</a>'\n",
              "          + ' to learn more about interactive tables.';\n",
              "        element.innerHTML = '';\n",
              "        dataTable['output_type'] = 'display_data';\n",
              "        await google.colab.output.renderOutput(dataTable, element);\n",
              "        const docLink = document.createElement('div');\n",
              "        docLink.innerHTML = docLinkHtml;\n",
              "        element.appendChild(docLink);\n",
              "      }\n",
              "    </script>\n",
              "  </div>\n",
              "\n",
              "\n",
              "<div id=\"df-d7bcc73e-65d5-4aa0-b04b-8b4c006318e1\">\n",
              "  <button class=\"colab-df-quickchart\" onclick=\"quickchart('df-d7bcc73e-65d5-4aa0-b04b-8b4c006318e1')\"\n",
              "            title=\"Suggest charts\"\n",
              "            style=\"display:none;\">\n",
              "\n",
              "<svg xmlns=\"http://www.w3.org/2000/svg\" height=\"24px\"viewBox=\"0 0 24 24\"\n",
              "     width=\"24px\">\n",
              "    <g>\n",
              "        <path d=\"M19 3H5c-1.1 0-2 .9-2 2v14c0 1.1.9 2 2 2h14c1.1 0 2-.9 2-2V5c0-1.1-.9-2-2-2zM9 17H7v-7h2v7zm4 0h-2V7h2v10zm4 0h-2v-4h2v4z\"/>\n",
              "    </g>\n",
              "</svg>\n",
              "  </button>\n",
              "\n",
              "<style>\n",
              "  .colab-df-quickchart {\n",
              "      --bg-color: #E8F0FE;\n",
              "      --fill-color: #1967D2;\n",
              "      --hover-bg-color: #E2EBFA;\n",
              "      --hover-fill-color: #174EA6;\n",
              "      --disabled-fill-color: #AAA;\n",
              "      --disabled-bg-color: #DDD;\n",
              "  }\n",
              "\n",
              "  [theme=dark] .colab-df-quickchart {\n",
              "      --bg-color: #3B4455;\n",
              "      --fill-color: #D2E3FC;\n",
              "      --hover-bg-color: #434B5C;\n",
              "      --hover-fill-color: #FFFFFF;\n",
              "      --disabled-bg-color: #3B4455;\n",
              "      --disabled-fill-color: #666;\n",
              "  }\n",
              "\n",
              "  .colab-df-quickchart {\n",
              "    background-color: var(--bg-color);\n",
              "    border: none;\n",
              "    border-radius: 50%;\n",
              "    cursor: pointer;\n",
              "    display: none;\n",
              "    fill: var(--fill-color);\n",
              "    height: 32px;\n",
              "    padding: 0;\n",
              "    width: 32px;\n",
              "  }\n",
              "\n",
              "  .colab-df-quickchart:hover {\n",
              "    background-color: var(--hover-bg-color);\n",
              "    box-shadow: 0 1px 2px rgba(60, 64, 67, 0.3), 0 1px 3px 1px rgba(60, 64, 67, 0.15);\n",
              "    fill: var(--button-hover-fill-color);\n",
              "  }\n",
              "\n",
              "  .colab-df-quickchart-complete:disabled,\n",
              "  .colab-df-quickchart-complete:disabled:hover {\n",
              "    background-color: var(--disabled-bg-color);\n",
              "    fill: var(--disabled-fill-color);\n",
              "    box-shadow: none;\n",
              "  }\n",
              "\n",
              "  .colab-df-spinner {\n",
              "    border: 2px solid var(--fill-color);\n",
              "    border-color: transparent;\n",
              "    border-bottom-color: var(--fill-color);\n",
              "    animation:\n",
              "      spin 1s steps(1) infinite;\n",
              "  }\n",
              "\n",
              "  @keyframes spin {\n",
              "    0% {\n",
              "      border-color: transparent;\n",
              "      border-bottom-color: var(--fill-color);\n",
              "      border-left-color: var(--fill-color);\n",
              "    }\n",
              "    20% {\n",
              "      border-color: transparent;\n",
              "      border-left-color: var(--fill-color);\n",
              "      border-top-color: var(--fill-color);\n",
              "    }\n",
              "    30% {\n",
              "      border-color: transparent;\n",
              "      border-left-color: var(--fill-color);\n",
              "      border-top-color: var(--fill-color);\n",
              "      border-right-color: var(--fill-color);\n",
              "    }\n",
              "    40% {\n",
              "      border-color: transparent;\n",
              "      border-right-color: var(--fill-color);\n",
              "      border-top-color: var(--fill-color);\n",
              "    }\n",
              "    60% {\n",
              "      border-color: transparent;\n",
              "      border-right-color: var(--fill-color);\n",
              "    }\n",
              "    80% {\n",
              "      border-color: transparent;\n",
              "      border-right-color: var(--fill-color);\n",
              "      border-bottom-color: var(--fill-color);\n",
              "    }\n",
              "    90% {\n",
              "      border-color: transparent;\n",
              "      border-bottom-color: var(--fill-color);\n",
              "    }\n",
              "  }\n",
              "</style>\n",
              "\n",
              "  <script>\n",
              "    async function quickchart(key) {\n",
              "      const quickchartButtonEl =\n",
              "        document.querySelector('#' + key + ' button');\n",
              "      quickchartButtonEl.disabled = true;  // To prevent multiple clicks.\n",
              "      quickchartButtonEl.classList.add('colab-df-spinner');\n",
              "      try {\n",
              "        const charts = await google.colab.kernel.invokeFunction(\n",
              "            'suggestCharts', [key], {});\n",
              "      } catch (error) {\n",
              "        console.error('Error during call to suggestCharts:', error);\n",
              "      }\n",
              "      quickchartButtonEl.classList.remove('colab-df-spinner');\n",
              "      quickchartButtonEl.classList.add('colab-df-quickchart-complete');\n",
              "    }\n",
              "    (() => {\n",
              "      let quickchartButtonEl =\n",
              "        document.querySelector('#df-d7bcc73e-65d5-4aa0-b04b-8b4c006318e1 button');\n",
              "      quickchartButtonEl.style.display =\n",
              "        google.colab.kernel.accessAllowed ? 'block' : 'none';\n",
              "    })();\n",
              "  </script>\n",
              "</div>\n",
              "    </div>\n",
              "  </div>\n"
            ]
          },
          "metadata": {},
          "execution_count": 16
        }
      ]
    },
    {
      "cell_type": "markdown",
      "source": [
        "Save to processed reviews in ```reviews```"
      ],
      "metadata": {
        "id": "eHEOt2_80glH"
      }
    },
    {
      "cell_type": "code",
      "source": [
        "reviews = data_train.iloc[:, 1].values\n",
        "reviews_test = data_test.iloc[:, 1].values"
      ],
      "metadata": {
        "id": "ibGwcIJSsAJR"
      },
      "execution_count": 17,
      "outputs": []
    },
    {
      "cell_type": "code",
      "source": [
        "# Use PyVi for Vietnamese word tokenizer\n",
        "word_reviews = []\n",
        "word_reviews_test = []\n",
        "\n",
        "for review in reviews:\n",
        "    review = ViTokenizer.tokenize(review.lower())\n",
        "    word_reviews.append(review.split())\n",
        "\n",
        "for review in reviews_test:\n",
        "    review = ViTokenizer.tokenize(review.lower())\n",
        "    word_reviews_test.append(review.split())"
      ],
      "metadata": {
        "id": "I1dixl5W0f00"
      },
      "execution_count": 18,
      "outputs": []
    },
    {
      "cell_type": "code",
      "source": [
        "EMBEDDING_DIM = 400 # how big is each word vector\n",
        "MAX_VOCAB_SIZE = 10000 # how many unique words to use (i.e num rows in embedding vector)\n",
        "MAX_SEQUENCE_LENGTH = 300 # max number of words in a comment to use"
      ],
      "metadata": {
        "id": "Kye0vF5V1Yeo"
      },
      "execution_count": 19,
      "outputs": []
    },
    {
      "cell_type": "code",
      "source": [
        "tokenizer = Tokenizer(num_words=MAX_VOCAB_SIZE, lower=True, char_level=False)\n",
        "tokenizer.fit_on_texts(word_reviews)\n",
        "\n",
        "sequences_train = tokenizer.texts_to_sequences(word_reviews)\n",
        "data = pad_sequences(sequences_train, maxlen=MAX_SEQUENCE_LENGTH)\n",
        "\n",
        "word_index = tokenizer.word_index\n",
        "\n",
        "sequences_test = tokenizer.texts_to_sequences(word_reviews_test)\n",
        "data_test = pad_sequences(sequences_test, maxlen=MAX_SEQUENCE_LENGTH)"
      ],
      "metadata": {
        "id": "VlXKQRj71e-B"
      },
      "execution_count": 20,
      "outputs": []
    },
    {
      "cell_type": "code",
      "source": [
        "print('Shape of X train and X validation tensor:', data.shape)\n",
        "print('Shape of label train and validation tensor:', labels.shape)\n",
        "\n",
        "print('Shape of X test and X validation tensor:', data_test.shape)\n",
        "print('Shape of label test and validation tensor:', labels_test.shape)"
      ],
      "metadata": {
        "colab": {
          "base_uri": "https://localhost:8080/"
        },
        "id": "HQViS_854jyu",
        "outputId": "1af14f0d-3646-4f3f-bd60-9bcd19ee2203"
      },
      "execution_count": 21,
      "outputs": [
        {
          "output_type": "stream",
          "name": "stdout",
          "text": [
            "Shape of X train and X validation tensor: (5100, 300)\n",
            "Shape of label train and validation tensor: (5100, 3)\n",
            "Shape of X test and X validation tensor: (1050, 300)\n",
            "Shape of label test and validation tensor: (1050, 3)\n"
          ]
        }
      ]
    },
    {
      "cell_type": "code",
      "source": [
        "word_vectors = KeyedVectors.load_word2vec_format('vi-model-CBOW.bin', binary=True)\n",
        "\n",
        "\n",
        "vocabulary_size=min(len(word_index)+1,MAX_VOCAB_SIZE)\n",
        "embedding_matrix = np.zeros((vocabulary_size, EMBEDDING_DIM))\n",
        "for word, i in word_index.items():\n",
        "    if i>=MAX_VOCAB_SIZE:\n",
        "        continue\n",
        "    try:\n",
        "        embedding_vector = word_vectors[word]\n",
        "        embedding_matrix[i] = embedding_vector\n",
        "    except KeyError:\n",
        "        embedding_matrix[i]=np.random.normal(0,np.sqrt(0.25),EMBEDDING_DIM)\n",
        "\n",
        "del(word_vectors)\n",
        "\n",
        "from keras.layers import Embedding\n",
        "embedding_layer = Embedding(vocabulary_size,\n",
        "                            EMBEDDING_DIM,\n",
        "                            weights=[embedding_matrix],\n",
        "                            trainable=True)"
      ],
      "metadata": {
        "id": "MIpaInir4apm"
      },
      "execution_count": 25,
      "outputs": []
    },
    {
      "cell_type": "markdown",
      "source": [
        "# Reuse Models"
      ],
      "metadata": {
        "id": "ACE9kfSx5HMG"
      }
    },
    {
      "cell_type": "markdown",
      "source": [
        "## CNN"
      ],
      "metadata": {
        "id": "F5vA1R6AAnE-"
      }
    },
    {
      "cell_type": "markdown",
      "source": [
        "### Configure"
      ],
      "metadata": {
        "id": "5cmXMP-YMLq8"
      }
    },
    {
      "cell_type": "code",
      "source": [
        "sequence_length = data.shape[1]\n",
        "filter_sizes = [3,4,5]\n",
        "num_filters = 100\n",
        "drop = 0.5\n",
        "\n",
        "inputs = Input(shape=(sequence_length,))\n",
        "embedding = embedding_layer(inputs)\n",
        "reshape = Reshape((sequence_length,EMBEDDING_DIM,1))(embedding)\n",
        "\n",
        "conv_0 = Conv1D(num_filters, filter_sizes[0],activation='relu',kernel_regularizer=regularizers.l2(0.01))(embedding)\n",
        "conv_1 = Conv1D(num_filters, filter_sizes[1],activation='relu',kernel_regularizer=regularizers.l2(0.01))(embedding)\n",
        "conv_2 = Conv1D(num_filters, filter_sizes[2],activation='relu',kernel_regularizer=regularizers.l2(0.01))(embedding)\n",
        "print(conv_1)\n",
        "maxpool_0 = MaxPooling1D(sequence_length - filter_sizes[0] + 1, strides=1)(conv_0)\n",
        "maxpool_1 = MaxPooling1D(sequence_length - filter_sizes[1] + 1, strides=1)(conv_1)\n",
        "maxpool_2 = MaxPooling1D(sequence_length - filter_sizes[2] + 1, strides=1)(conv_2)\n",
        "\n",
        "merged_tensor = concatenate([maxpool_0, maxpool_1, maxpool_2], axis=1)\n",
        "flatten = Flatten()(merged_tensor)\n",
        "reshape = Reshape((3*num_filters,))(flatten)\n",
        "dropout = Dropout(drop)(flatten)\n",
        "output = Dense(units=3, activation='softmax',kernel_regularizer=regularizers.l2(0.01))(dropout)\n",
        "\n",
        "\n",
        "# this creates a model that includes\n",
        "MyCNN = Model(inputs, output)\n",
        "\n",
        "adam = Adam(learning_rate=0.0005, beta_1=0.9, beta_2=0.999, epsilon=1e-08)\n",
        "MyCNN.compile(loss='categorical_crossentropy', optimizer=adam, metrics=['accuracy'])\n",
        "MyCNN.summary()"
      ],
      "metadata": {
        "colab": {
          "base_uri": "https://localhost:8080/"
        },
        "id": "Ju4S2yzI4hqJ",
        "outputId": "bb428488-d9b4-4096-da05-666e2cce6642"
      },
      "execution_count": 60,
      "outputs": [
        {
          "output_type": "stream",
          "name": "stdout",
          "text": [
            "KerasTensor(type_spec=TensorSpec(shape=(None, 297, 100), dtype=tf.float32, name=None), name='conv1d_18/Relu:0', description=\"created by layer 'conv1d_18'\")\n",
            "Model: \"model_8\"\n",
            "__________________________________________________________________________________________________\n",
            " Layer (type)                Output Shape                 Param #   Connected to                  \n",
            "==================================================================================================\n",
            " input_9 (InputLayer)        [(None, 300)]                0         []                            \n",
            "                                                                                                  \n",
            " embedding (Embedding)       (None, 300, 400)             3110400   ['input_9[0][0]']             \n",
            "                                                                                                  \n",
            " conv1d_17 (Conv1D)          (None, 298, 100)             120100    ['embedding[8][0]']           \n",
            "                                                                                                  \n",
            " conv1d_18 (Conv1D)          (None, 297, 100)             160100    ['embedding[8][0]']           \n",
            "                                                                                                  \n",
            " conv1d_19 (Conv1D)          (None, 296, 100)             200100    ['embedding[8][0]']           \n",
            "                                                                                                  \n",
            " max_pooling1d_17 (MaxPooli  (None, 1, 100)               0         ['conv1d_17[0][0]']           \n",
            " ng1D)                                                                                            \n",
            "                                                                                                  \n",
            " max_pooling1d_18 (MaxPooli  (None, 1, 100)               0         ['conv1d_18[0][0]']           \n",
            " ng1D)                                                                                            \n",
            "                                                                                                  \n",
            " max_pooling1d_19 (MaxPooli  (None, 1, 100)               0         ['conv1d_19[0][0]']           \n",
            " ng1D)                                                                                            \n",
            "                                                                                                  \n",
            " concatenate_6 (Concatenate  (None, 3, 100)               0         ['max_pooling1d_17[0][0]',    \n",
            " )                                                                   'max_pooling1d_18[0][0]',    \n",
            "                                                                     'max_pooling1d_19[0][0]']    \n",
            "                                                                                                  \n",
            " flatten_6 (Flatten)         (None, 300)                  0         ['concatenate_6[0][0]']       \n",
            "                                                                                                  \n",
            " dropout_8 (Dropout)         (None, 300)                  0         ['flatten_6[0][0]']           \n",
            "                                                                                                  \n",
            " dense_8 (Dense)             (None, 3)                    903       ['dropout_8[0][0]']           \n",
            "                                                                                                  \n",
            "==================================================================================================\n",
            "Total params: 3591603 (13.70 MB)\n",
            "Trainable params: 3591603 (13.70 MB)\n",
            "Non-trainable params: 0 (0.00 Byte)\n",
            "__________________________________________________________________________________________________\n"
          ]
        }
      ]
    },
    {
      "cell_type": "markdown",
      "source": [
        "### Train"
      ],
      "metadata": {
        "id": "b1nE7PYWMQul"
      }
    },
    {
      "cell_type": "code",
      "source": [
        "#define callbacks\n",
        "early_stopping = EarlyStopping(monitor='val_loss', min_delta=0.01, patience=4, verbose=1)\n",
        "callbacks_list = [early_stopping]\n",
        "\n",
        "MyCNN.fit(data, labels, validation_split=0.15,\n",
        "          epochs=100, batch_size=512, callbacks=callbacks_list, shuffle=True)"
      ],
      "metadata": {
        "colab": {
          "base_uri": "https://localhost:8080/"
        },
        "id": "4cW1dFnD7AHc",
        "outputId": "3ede3d13-1790-47a7-ec2f-cd36ad75221f"
      },
      "execution_count": 61,
      "outputs": [
        {
          "output_type": "stream",
          "name": "stdout",
          "text": [
            "Epoch 1/100\n",
            "9/9 [==============================] - 4s 290ms/step - loss: 7.6086 - accuracy: 0.4185 - val_loss: 8.0151 - val_accuracy: 0.0288\n",
            "Epoch 2/100\n",
            "9/9 [==============================] - 2s 281ms/step - loss: 6.2904 - accuracy: 0.5548 - val_loss: 7.7275 - val_accuracy: 0.0497\n",
            "Epoch 3/100\n",
            "9/9 [==============================] - 3s 374ms/step - loss: 5.5464 - accuracy: 0.6487 - val_loss: 6.7522 - val_accuracy: 0.1294\n",
            "Epoch 4/100\n",
            "9/9 [==============================] - 2s 278ms/step - loss: 5.0605 - accuracy: 0.7167 - val_loss: 5.7034 - val_accuracy: 0.3529\n",
            "Epoch 5/100\n",
            "9/9 [==============================] - 2s 262ms/step - loss: 4.6986 - accuracy: 0.7642 - val_loss: 5.8794 - val_accuracy: 0.2170\n",
            "Epoch 6/100\n",
            "9/9 [==============================] - 2s 280ms/step - loss: 4.3876 - accuracy: 0.8000 - val_loss: 5.9935 - val_accuracy: 0.1516\n",
            "Epoch 7/100\n",
            "9/9 [==============================] - 2s 265ms/step - loss: 4.1149 - accuracy: 0.8388 - val_loss: 5.5216 - val_accuracy: 0.2039\n",
            "Epoch 8/100\n",
            "9/9 [==============================] - 3s 370ms/step - loss: 3.8681 - accuracy: 0.8648 - val_loss: 5.1264 - val_accuracy: 0.2654\n",
            "Epoch 9/100\n",
            "9/9 [==============================] - 2s 285ms/step - loss: 3.6516 - accuracy: 0.8833 - val_loss: 5.2561 - val_accuracy: 0.1869\n",
            "Epoch 10/100\n",
            "9/9 [==============================] - 3s 286ms/step - loss: 3.4404 - accuracy: 0.9107 - val_loss: 5.0767 - val_accuracy: 0.1908\n",
            "Epoch 11/100\n",
            "9/9 [==============================] - 2s 257ms/step - loss: 3.2625 - accuracy: 0.9130 - val_loss: 4.8155 - val_accuracy: 0.2183\n",
            "Epoch 12/100\n",
            "9/9 [==============================] - 2s 264ms/step - loss: 3.0782 - accuracy: 0.9276 - val_loss: 4.5029 - val_accuracy: 0.2588\n",
            "Epoch 13/100\n",
            "9/9 [==============================] - 3s 343ms/step - loss: 2.9019 - accuracy: 0.9379 - val_loss: 4.8462 - val_accuracy: 0.1346\n",
            "Epoch 14/100\n",
            "9/9 [==============================] - 3s 281ms/step - loss: 2.7420 - accuracy: 0.9442 - val_loss: 4.1356 - val_accuracy: 0.2928\n",
            "Epoch 15/100\n",
            "9/9 [==============================] - 2s 277ms/step - loss: 2.5970 - accuracy: 0.9465 - val_loss: 4.1139 - val_accuracy: 0.2654\n",
            "Epoch 16/100\n",
            "9/9 [==============================] - 2s 254ms/step - loss: 2.4502 - accuracy: 0.9594 - val_loss: 4.0946 - val_accuracy: 0.2288\n",
            "Epoch 17/100\n",
            "9/9 [==============================] - 2s 268ms/step - loss: 2.3082 - accuracy: 0.9636 - val_loss: 4.3766 - val_accuracy: 0.1307\n",
            "Epoch 18/100\n",
            "9/9 [==============================] - 3s 338ms/step - loss: 2.1895 - accuracy: 0.9654 - val_loss: 3.9102 - val_accuracy: 0.2118\n",
            "Epoch 19/100\n",
            "9/9 [==============================] - 3s 279ms/step - loss: 2.0646 - accuracy: 0.9672 - val_loss: 3.5881 - val_accuracy: 0.2758\n",
            "Epoch 20/100\n",
            "9/9 [==============================] - 3s 288ms/step - loss: 1.9580 - accuracy: 0.9700 - val_loss: 3.7252 - val_accuracy: 0.1974\n",
            "Epoch 21/100\n",
            "9/9 [==============================] - 2s 255ms/step - loss: 1.8478 - accuracy: 0.9725 - val_loss: 3.6570 - val_accuracy: 0.1948\n",
            "Epoch 22/100\n",
            "9/9 [==============================] - 2s 261ms/step - loss: 1.7496 - accuracy: 0.9746 - val_loss: 3.4184 - val_accuracy: 0.2353\n",
            "Epoch 23/100\n",
            "9/9 [==============================] - 2s 258ms/step - loss: 1.6559 - accuracy: 0.9767 - val_loss: 3.4760 - val_accuracy: 0.1935\n",
            "Epoch 24/100\n",
            "9/9 [==============================] - 3s 325ms/step - loss: 1.5602 - accuracy: 0.9797 - val_loss: 3.3496 - val_accuracy: 0.1974\n",
            "Epoch 25/100\n",
            "9/9 [==============================] - 3s 286ms/step - loss: 1.4760 - accuracy: 0.9811 - val_loss: 3.4532 - val_accuracy: 0.1686\n",
            "Epoch 26/100\n",
            "9/9 [==============================] - 2s 245ms/step - loss: 1.4041 - accuracy: 0.9797 - val_loss: 3.1274 - val_accuracy: 0.2222\n",
            "Epoch 27/100\n",
            "9/9 [==============================] - 2s 271ms/step - loss: 1.3267 - accuracy: 0.9795 - val_loss: 2.8935 - val_accuracy: 0.2784\n",
            "Epoch 28/100\n",
            "9/9 [==============================] - 2s 259ms/step - loss: 1.2576 - accuracy: 0.9822 - val_loss: 2.7886 - val_accuracy: 0.2837\n",
            "Epoch 29/100\n",
            "9/9 [==============================] - 3s 300ms/step - loss: 1.1940 - accuracy: 0.9809 - val_loss: 2.8929 - val_accuracy: 0.2301\n",
            "Epoch 30/100\n",
            "9/9 [==============================] - 3s 306ms/step - loss: 1.1325 - accuracy: 0.9834 - val_loss: 3.0601 - val_accuracy: 0.1712\n",
            "Epoch 31/100\n",
            "9/9 [==============================] - 2s 230ms/step - loss: 1.0768 - accuracy: 0.9836 - val_loss: 3.0437 - val_accuracy: 0.1608\n",
            "Epoch 32/100\n",
            "9/9 [==============================] - 2s 253ms/step - loss: 1.0251 - accuracy: 0.9841 - val_loss: 2.9828 - val_accuracy: 0.1686\n",
            "Epoch 32: early stopping\n"
          ]
        },
        {
          "output_type": "execute_result",
          "data": {
            "text/plain": [
              "<keras.src.callbacks.History at 0x78cc0597ccd0>"
            ]
          },
          "metadata": {},
          "execution_count": 61
        }
      ]
    },
    {
      "cell_type": "markdown",
      "source": [
        "### Plot"
      ],
      "metadata": {
        "id": "LkwP4VDL9Jmf"
      }
    },
    {
      "cell_type": "code",
      "source": [
        "train_plot(MyCNN.history, 'CNN')"
      ],
      "metadata": {
        "id": "pSoi8f8m7asv",
        "colab": {
          "base_uri": "https://localhost:8080/",
          "height": 410
        },
        "outputId": "0dc15b1b-2667-47a6-aee6-059d59d552b0"
      },
      "execution_count": 62,
      "outputs": [
        {
          "output_type": "display_data",
          "data": {
            "text/plain": [
              "<Figure size 800x400 with 2 Axes>"
            ],
            "image/png": "[encoded data removed]"
          },
          "metadata": {}
        }
      ]
    },
    {
      "cell_type": "markdown",
      "source": [
        "### Test"
      ],
      "metadata": {
        "id": "8rYEZNPLE9Jk"
      }
    },
    {
      "cell_type": "code",
      "source": [
        "score = MyCNN.evaluate(data_test, labels_test)\n",
        "print(f\"{MyCNN.metrics_names[0]}: {score[0]}\")\n",
        "print(f\"{MyCNN.metrics_names[1]}: {score[1]*100:.2f}%\")"
      ],
      "metadata": {
        "id": "nRyVhHf69XzF",
        "colab": {
          "base_uri": "https://localhost:8080/"
        },
        "outputId": "57cd2b17-5d90-4251-8aae-b82f650aba2b"
      },
      "execution_count": 63,
      "outputs": [
        {
          "output_type": "stream",
          "name": "stdout",
          "text": [
            "33/33 [==============================] - 1s 13ms/step - loss: 1.7449 - accuracy: 0.6533\n",
            "loss: 1.744908094406128\n",
            "accuracy: 65.33%\n"
          ]
        }
      ]
    },
    {
      "cell_type": "code",
      "source": [
        "predictions = MyCNN.predict(data_test)\n",
        "confusion_matrix_plot(predictions, labels_test)\n",
        "result_test(predictions, labels_test)"
      ],
      "metadata": {
        "id": "VuHkK7CZFpyY",
        "colab": {
          "base_uri": "https://localhost:8080/",
          "height": 706
        },
        "outputId": "da71313b-e483-4f09-ae44-07cd7922e15d"
      },
      "execution_count": 64,
      "outputs": [
        {
          "output_type": "stream",
          "name": "stdout",
          "text": [
            "33/33 [==============================] - 1s 11ms/step\n"
          ]
        },
        {
          "output_type": "execute_result",
          "data": {
            "text/plain": [
              "{'Accuracy': 0.6533333333333333,\n",
              " 'Recall': 0.6533333333333333,\n",
              " 'Precision': 0.6788084643546611,\n",
              " 'F1-Score': 0.6347595214034305}"
            ]
          },
          "metadata": {},
          "execution_count": 64
        },
        {
          "output_type": "display_data",
          "data": {
            "text/plain": [
              "<Figure size 1000x700 with 2 Axes>"
            ],
            "image/png": "[encoded data removed]"
          },
          "metadata": {}
        }
      ]
    },
    {
      "cell_type": "markdown",
      "source": [
        "## LSTM (one layer)"
      ],
      "metadata": {
        "id": "QEsJUe1JFXW8"
      }
    },
    {
      "cell_type": "markdown",
      "source": [
        "### Configure"
      ],
      "metadata": {
        "id": "UpYGYeodMeGd"
      }
    },
    {
      "cell_type": "code",
      "source": [
        "sequence_length = data.shape[1]\n",
        "drop = 0.5\n",
        "\n",
        "inputs = Input(shape=(sequence_length,))\n",
        "embedding = embedding_layer(inputs)\n",
        "\n",
        "reshape = Reshape((sequence_length, EMBEDDING_DIM))(embedding)\n",
        "lstm_0 = LSTM(512)(reshape)\n",
        "\n",
        "dropout = Dropout(drop)(lstm_0)\n",
        "output = Dense(units=3, activation='softmax',kernel_regularizer=regularizers.l2(0.01))(dropout)\n",
        "\n",
        "# this creates a model that includes\n",
        "MyLSTM = Model(inputs, output)\n",
        "\n",
        "adam = Adam(learning_rate=0.0005, beta_1=0.9, beta_2=0.999, epsilon=1e-08)\n",
        "MyLSTM.compile(loss='categorical_crossentropy', optimizer=adam, metrics=['accuracy'])\n",
        "MyLSTM.summary()\n"
      ],
      "metadata": {
        "id": "muC0ikksMeGm",
        "colab": {
          "base_uri": "https://localhost:8080/"
        },
        "outputId": "af78f518-a99b-4ae0-8368-a74b8c7b740d"
      },
      "execution_count": 50,
      "outputs": [
        {
          "output_type": "stream",
          "name": "stdout",
          "text": [
            "Model: \"model_6\"\n",
            "_________________________________________________________________\n",
            " Layer (type)                Output Shape              Param #   \n",
            "=================================================================\n",
            " input_7 (InputLayer)        [(None, 300)]             0         \n",
            "                                                                 \n",
            " embedding (Embedding)       (None, 300, 400)          3110400   \n",
            "                                                                 \n",
            " reshape_11 (Reshape)        (None, 300, 400)          0         \n",
            "                                                                 \n",
            " lstm_1 (LSTM)               (None, 512)               1869824   \n",
            "                                                                 \n",
            " dropout_6 (Dropout)         (None, 512)               0         \n",
            "                                                                 \n",
            " dense_6 (Dense)             (None, 3)                 1539      \n",
            "                                                                 \n",
            "=================================================================\n",
            "Total params: 4981763 (19.00 MB)\n",
            "Trainable params: 4981763 (19.00 MB)\n",
            "Non-trainable params: 0 (0.00 Byte)\n",
            "_________________________________________________________________\n"
          ]
        }
      ]
    },
    {
      "cell_type": "markdown",
      "source": [
        "### Train"
      ],
      "metadata": {
        "id": "ZIdyImrMMeGn"
      }
    },
    {
      "cell_type": "code",
      "source": [
        "#define callbacks\n",
        "early_stopping = EarlyStopping(monitor='val_loss', min_delta=0.01, patience=4, verbose=1)\n",
        "callbacks_list = [early_stopping]\n",
        "\n",
        "MyLSTM.fit(data, labels, validation_split=0.15,\n",
        "          epochs=100, batch_size=512, callbacks=callbacks_list, shuffle=True)"
      ],
      "metadata": {
        "id": "jVPzUWUUMeGn",
        "colab": {
          "base_uri": "https://localhost:8080/"
        },
        "outputId": "ef4f2aae-bd51-4e37-aff6-b57341246fca"
      },
      "execution_count": 51,
      "outputs": [
        {
          "output_type": "stream",
          "name": "stdout",
          "text": [
            "Epoch 1/100\n",
            "9/9 [==============================] - 99s 12s/step - loss: 1.0982 - accuracy: 0.4860 - val_loss: 1.6903 - val_accuracy: 0.0340\n",
            "Epoch 2/100\n",
            "9/9 [==============================] - 5s 576ms/step - loss: 0.8522 - accuracy: 0.6600 - val_loss: 1.6939 - val_accuracy: 0.1647\n",
            "Epoch 3/100\n",
            "9/9 [==============================] - 5s 590ms/step - loss: 0.7980 - accuracy: 0.6851 - val_loss: 1.8064 - val_accuracy: 0.1425\n",
            "Epoch 4/100\n",
            "9/9 [==============================] - 5s 593ms/step - loss: 0.7005 - accuracy: 0.7377 - val_loss: 1.5569 - val_accuracy: 0.3072\n",
            "Epoch 5/100\n",
            "9/9 [==============================] - 5s 586ms/step - loss: 0.5993 - accuracy: 0.7917 - val_loss: 2.2038 - val_accuracy: 0.1895\n",
            "Epoch 6/100\n",
            "9/9 [==============================] - 6s 666ms/step - loss: 0.5013 - accuracy: 0.8293 - val_loss: 1.8878 - val_accuracy: 0.3150\n",
            "Epoch 7/100\n",
            "9/9 [==============================] - 5s 611ms/step - loss: 0.4580 - accuracy: 0.8482 - val_loss: 1.5034 - val_accuracy: 0.4222\n",
            "Epoch 8/100\n",
            "9/9 [==============================] - 5s 610ms/step - loss: 0.4288 - accuracy: 0.8662 - val_loss: 1.7676 - val_accuracy: 0.3072\n",
            "Epoch 9/100\n",
            "9/9 [==============================] - 6s 647ms/step - loss: 0.3785 - accuracy: 0.8923 - val_loss: 2.7647 - val_accuracy: 0.1412\n",
            "Epoch 10/100\n",
            "9/9 [==============================] - 5s 595ms/step - loss: 0.3182 - accuracy: 0.9126 - val_loss: 2.4648 - val_accuracy: 0.2275\n",
            "Epoch 11/100\n",
            "9/9 [==============================] - 6s 648ms/step - loss: 0.2616 - accuracy: 0.9303 - val_loss: 2.6989 - val_accuracy: 0.2209\n",
            "Epoch 11: early stopping\n"
          ]
        },
        {
          "output_type": "execute_result",
          "data": {
            "text/plain": [
              "<keras.src.callbacks.History at 0x78cc04311f90>"
            ]
          },
          "metadata": {},
          "execution_count": 51
        }
      ]
    },
    {
      "cell_type": "markdown",
      "source": [
        "### Plot"
      ],
      "metadata": {
        "id": "1bVnDUzhMeGn"
      }
    },
    {
      "cell_type": "code",
      "source": [
        "train_plot(MyLSTM.history, 'LSTM 1 layer')"
      ],
      "metadata": {
        "id": "eGkQyYv9MeGn",
        "colab": {
          "base_uri": "https://localhost:8080/",
          "height": 410
        },
        "outputId": "34c967b7-010f-4b61-b56f-59451f204253"
      },
      "execution_count": 52,
      "outputs": [
        {
          "output_type": "display_data",
          "data": {
            "text/plain": [
              "<Figure size 800x400 with 2 Axes>"
            ],
            "image/png": "[encoded data removed]"
          },
          "metadata": {}
        }
      ]
    },
    {
      "cell_type": "markdown",
      "source": [
        "### Test"
      ],
      "metadata": {
        "id": "Yg2aOGxCMeGn"
      }
    },
    {
      "cell_type": "code",
      "source": [
        "score = MyLSTM.evaluate(data_test, labels_test)\n",
        "print(f\"{MyLSTM.metrics_names[0]}: {score[0]}\")\n",
        "print(f\"{MyLSTM.metrics_names[1]}: {score[1]*100:.2f}%\")"
      ],
      "metadata": {
        "id": "ddBL2YU2MeGo",
        "colab": {
          "base_uri": "https://localhost:8080/"
        },
        "outputId": "60f91123-1787-431a-d334-16264f3797a6"
      },
      "execution_count": 54,
      "outputs": [
        {
          "output_type": "stream",
          "name": "stdout",
          "text": [
            "33/33 [==============================] - 1s 22ms/step - loss: 1.0714 - accuracy: 0.6533\n",
            "loss: 1.0714476108551025\n",
            "accuracy: 65.33%\n"
          ]
        }
      ]
    },
    {
      "cell_type": "code",
      "source": [
        "predictions = MyLSTM.predict(data_test)\n",
        "confusion_matrix_plot(predictions, labels_test)\n",
        "result_test(predictions, labels_test)"
      ],
      "metadata": {
        "id": "ITcmUgDZMeGo",
        "colab": {
          "base_uri": "https://localhost:8080/",
          "height": 706
        },
        "outputId": "662a8f53-7a1f-4e3f-b978-efc4830be722"
      },
      "execution_count": 57,
      "outputs": [
        {
          "output_type": "stream",
          "name": "stdout",
          "text": [
            "33/33 [==============================] - 1s 21ms/step\n"
          ]
        },
        {
          "output_type": "execute_result",
          "data": {
            "text/plain": [
              "{'Accuracy': 0.6533333333333333,\n",
              " 'Recall': 0.6533333333333334,\n",
              " 'Precision': 0.6637718412999312,\n",
              " 'F1-Score': 0.6396698405813898}"
            ]
          },
          "metadata": {},
          "execution_count": 57
        },
        {
          "output_type": "display_data",
          "data": {
            "text/plain": [
              "<Figure size 1000x700 with 2 Axes>"
            ],
            "image/png": "[encoded data removed]"
          },
          "metadata": {}
        }
      ]
    },
    {
      "cell_type": "markdown",
      "source": [
        "## LSTM (3 layers)"
      ],
      "metadata": {
        "id": "JY5VQQ9qf3XW"
      }
    },
    {
      "cell_type": "markdown",
      "source": [
        "### Configure"
      ],
      "metadata": {
        "id": "dyD7f1UXf9EE"
      }
    },
    {
      "cell_type": "code",
      "source": [
        "sequence_length = data.shape[1]\n",
        "drop = 0.5\n",
        "\n",
        "inputs = Input(shape=(sequence_length,))\n",
        "embedding = embedding_layer(inputs)\n",
        "\n",
        "reshape = Reshape((sequence_length, EMBEDDING_DIM))(embedding)\n",
        "lstm_2 = LSTM(1024, return_sequences=True)(reshape)\n",
        "lstm_1 = LSTM(512, return_sequences=True)(lstm_2)\n",
        "lstm_0 = LSTM(256)(lstm_1)\n",
        "\n",
        "dropout = Dropout(drop)(lstm_0)\n",
        "output = Dense(units=3, activation='softmax',kernel_regularizer=regularizers.l2(0.01))(dropout)\n",
        "\n",
        "# this creates a model that includes\n",
        "MyLSTM3L = Model(inputs, output)\n",
        "\n",
        "adam = Adam(learning_rate=0.0001, beta_1=0.9, beta_2=0.999, epsilon=1e-08)\n",
        "MyLSTM3L.compile(loss='categorical_crossentropy', optimizer=adam, metrics=['accuracy'])\n",
        "MyLSTM3L.summary()\n"
      ],
      "metadata": {
        "id": "FM9uG6TSf9ES",
        "colab": {
          "base_uri": "https://localhost:8080/"
        },
        "outputId": "46314367-e151-4096-9641-ea78c64ceef1"
      },
      "execution_count": 82,
      "outputs": [
        {
          "output_type": "stream",
          "name": "stdout",
          "text": [
            "Model: \"model_14\"\n",
            "_________________________________________________________________\n",
            " Layer (type)                Output Shape              Param #   \n",
            "=================================================================\n",
            " input_15 (InputLayer)       [(None, 300)]             0         \n",
            "                                                                 \n",
            " embedding (Embedding)       (None, 300, 400)          3110400   \n",
            "                                                                 \n",
            " reshape_31 (Reshape)        (None, 300, 400)          0         \n",
            "                                                                 \n",
            " lstm_6 (LSTM)               (None, 300, 1024)         5836800   \n",
            "                                                                 \n",
            " lstm_7 (LSTM)               (None, 300, 512)          3147776   \n",
            "                                                                 \n",
            " lstm_8 (LSTM)               (None, 256)               787456    \n",
            "                                                                 \n",
            " dropout_14 (Dropout)        (None, 256)               0         \n",
            "                                                                 \n",
            " dense_14 (Dense)            (None, 3)                 771       \n",
            "                                                                 \n",
            "=================================================================\n",
            "Total params: 12883203 (49.15 MB)\n",
            "Trainable params: 12883203 (49.15 MB)\n",
            "Non-trainable params: 0 (0.00 Byte)\n",
            "_________________________________________________________________\n"
          ]
        }
      ]
    },
    {
      "cell_type": "markdown",
      "source": [
        "### Train"
      ],
      "metadata": {
        "id": "56--mWszf9ET"
      }
    },
    {
      "cell_type": "code",
      "source": [
        "#define callbacks\n",
        "early_stopping = EarlyStopping(monitor='val_loss', min_delta=0.01, patience=4, verbose=1)\n",
        "callbacks_list = [early_stopping]\n",
        "\n",
        "MyLSTM3L.fit(data, labels, validation_split=0.15,\n",
        "          epochs=100, batch_size=512, callbacks=callbacks_list, shuffle=True)"
      ],
      "metadata": {
        "id": "m7Mtt7T7f9ET",
        "colab": {
          "base_uri": "https://localhost:8080/"
        },
        "outputId": "5f4ab3c3-0b88-42d9-ebbf-1271cd192e43"
      },
      "execution_count": 84,
      "outputs": [
        {
          "output_type": "stream",
          "name": "stdout",
          "text": [
            "Epoch 1/100\n",
            "9/9 [==============================] - 26s 3s/step - loss: 0.7652 - accuracy: 0.7087 - val_loss: 1.5398 - val_accuracy: 0.2536\n",
            "Epoch 2/100\n",
            "9/9 [==============================] - 26s 3s/step - loss: 0.6432 - accuracy: 0.7716 - val_loss: 2.0127 - val_accuracy: 0.1830\n",
            "Epoch 3/100\n",
            "9/9 [==============================] - 26s 3s/step - loss: 0.5765 - accuracy: 0.8101 - val_loss: 1.8846 - val_accuracy: 0.2523\n",
            "Epoch 4/100\n",
            "9/9 [==============================] - 28s 3s/step - loss: 0.5182 - accuracy: 0.8348 - val_loss: 2.2755 - val_accuracy: 0.1843\n",
            "Epoch 5/100\n",
            "9/9 [==============================] - 27s 3s/step - loss: 0.4739 - accuracy: 0.8544 - val_loss: 2.6398 - val_accuracy: 0.1346\n",
            "Epoch 5: early stopping\n"
          ]
        },
        {
          "output_type": "execute_result",
          "data": {
            "text/plain": [
              "<keras.src.callbacks.History at 0x78cbf014aaa0>"
            ]
          },
          "metadata": {},
          "execution_count": 84
        }
      ]
    },
    {
      "cell_type": "markdown",
      "source": [
        "### Plot"
      ],
      "metadata": {
        "id": "hfqbz2c9f9ET"
      }
    },
    {
      "cell_type": "code",
      "source": [
        "train_plot(MyLSTM3L.history, 'LSTM 3 layers')"
      ],
      "metadata": {
        "id": "6SvFY1X5f9ET",
        "colab": {
          "base_uri": "https://localhost:8080/",
          "height": 410
        },
        "outputId": "b01291d1-60b2-42e5-e43e-7404e010e54b"
      },
      "execution_count": 85,
      "outputs": [
        {
          "output_type": "display_data",
          "data": {
            "text/plain": [
              "<Figure size 800x400 with 2 Axes>"
            ],
            "image/png": "[encoded data removed]"
          },
          "metadata": {}
        }
      ]
    },
    {
      "cell_type": "markdown",
      "source": [
        "### Test"
      ],
      "metadata": {
        "id": "UPD0ftk5f9EU"
      }
    },
    {
      "cell_type": "code",
      "source": [
        "score = MyLSTM3L.evaluate(data_test, labels_test)\n",
        "print(f\"{MyLSTM3L.metrics_names[0]}: {score[0]}\")\n",
        "print(f\"{MyLSTM3L.metrics_names[1]}: {score[1]*100:.2f}%\")"
      ],
      "metadata": {
        "id": "6Xv4loM6f9EU",
        "colab": {
          "base_uri": "https://localhost:8080/"
        },
        "outputId": "95a519e3-ef7e-4e3a-9757-28d3151f6057"
      },
      "execution_count": 86,
      "outputs": [
        {
          "output_type": "stream",
          "name": "stdout",
          "text": [
            "33/33 [==============================] - 3s 89ms/step - loss: 1.1439 - accuracy: 0.6133\n",
            "loss: 1.1438947916030884\n",
            "accuracy: 61.33%\n"
          ]
        }
      ]
    },
    {
      "cell_type": "code",
      "source": [
        "predictions = MyLSTM3L.predict(data_test)\n",
        "confusion_matrix_plot(predictions, labels_test)\n",
        "result_test(predictions, labels_test)"
      ],
      "metadata": {
        "id": "kiaXSU_jf9EU",
        "colab": {
          "base_uri": "https://localhost:8080/",
          "height": 706
        },
        "outputId": "1426bc65-cbd8-4ba3-974d-4e64c8864ec4"
      },
      "execution_count": 87,
      "outputs": [
        {
          "output_type": "stream",
          "name": "stdout",
          "text": [
            "33/33 [==============================] - 4s 84ms/step\n"
          ]
        },
        {
          "output_type": "execute_result",
          "data": {
            "text/plain": [
              "{'Accuracy': 0.6133333333333333,\n",
              " 'Recall': 0.6133333333333334,\n",
              " 'Precision': 0.6619951146000108,\n",
              " 'F1-Score': 0.5944657081811758}"
            ]
          },
          "metadata": {},
          "execution_count": 87
        },
        {
          "output_type": "display_data",
          "data": {
            "text/plain": [
              "<Figure size 1000x700 with 2 Axes>"
            ],
            "image/png": "[encoded data removed]"
          },
          "metadata": {}
        }
      ]
    },
    {
      "cell_type": "markdown",
      "source": [
        "# Modified models"
      ],
      "metadata": {
        "id": "Eq6b9eLO8OZ4"
      }
    },
    {
      "cell_type": "markdown",
      "source": [
        "## Larger CNN"
      ],
      "metadata": {
        "id": "VRFGrBVG8Zj_"
      }
    },
    {
      "cell_type": "markdown",
      "source": [
        "### Configure"
      ],
      "metadata": {
        "id": "WRr9ax-_8ZkA"
      }
    },
    {
      "cell_type": "code",
      "source": [
        "sequence_length = data.shape[1]\n",
        "filter_sizes = [6,10,14]\n",
        "num_filters = 200\n",
        "drop = 0.5\n",
        "\n",
        "inputs = Input(shape=(sequence_length,))\n",
        "embedding = embedding_layer(inputs)\n",
        "reshape = Reshape((sequence_length,EMBEDDING_DIM,1))(embedding)\n",
        "\n",
        "conv_0 = Conv1D(num_filters, filter_sizes[0],activation='relu',kernel_regularizer=regularizers.l2(0.01))(embedding)\n",
        "conv_1 = Conv1D(num_filters, filter_sizes[1],activation='relu',kernel_regularizer=regularizers.l2(0.01))(embedding)\n",
        "conv_2 = Conv1D(num_filters, filter_sizes[2],activation='relu',kernel_regularizer=regularizers.l2(0.01))(embedding)\n",
        "print(conv_1)\n",
        "maxpool_0 = MaxPooling1D(sequence_length - filter_sizes[0] + 1, strides=1)(conv_0)\n",
        "maxpool_1 = MaxPooling1D(sequence_length - filter_sizes[1] + 1, strides=1)(conv_1)\n",
        "maxpool_2 = MaxPooling1D(sequence_length - filter_sizes[2] + 1, strides=1)(conv_2)\n",
        "\n",
        "merged_tensor = concatenate([maxpool_0, maxpool_1, maxpool_2], axis=1)\n",
        "flatten = Flatten()(merged_tensor)\n",
        "reshape = Reshape((3*num_filters,))(flatten)\n",
        "dropout = Dropout(drop)(flatten)\n",
        "output = Dense(units=3, activation='softmax',kernel_regularizer=regularizers.l2(0.01))(dropout)\n",
        "\n",
        "\n",
        "# this creates a model that includes\n",
        "ModCNN = Model(inputs, output)\n",
        "\n",
        "adam = Adam(learning_rate=0.0005, beta_1=0.9, beta_2=0.999, epsilon=1e-08)\n",
        "ModCNN.compile(loss='categorical_crossentropy', optimizer=adam, metrics=['accuracy'])\n",
        "ModCNN.summary()"
      ],
      "metadata": {
        "colab": {
          "base_uri": "https://localhost:8080/"
        },
        "outputId": "86504613-8d8b-49e1-b60a-577f64126a88",
        "id": "awgIr4KY8ZkA"
      },
      "execution_count": 65,
      "outputs": [
        {
          "output_type": "stream",
          "name": "stdout",
          "text": [
            "KerasTensor(type_spec=TensorSpec(shape=(None, 291, 200), dtype=tf.float32, name=None), name='conv1d_21/Relu:0', description=\"created by layer 'conv1d_21'\")\n",
            "Model: \"model_9\"\n",
            "__________________________________________________________________________________________________\n",
            " Layer (type)                Output Shape                 Param #   Connected to                  \n",
            "==================================================================================================\n",
            " input_10 (InputLayer)       [(None, 300)]                0         []                            \n",
            "                                                                                                  \n",
            " embedding (Embedding)       (None, 300, 400)             3110400   ['input_10[0][0]']            \n",
            "                                                                                                  \n",
            " conv1d_20 (Conv1D)          (None, 295, 200)             480200    ['embedding[9][0]']           \n",
            "                                                                                                  \n",
            " conv1d_21 (Conv1D)          (None, 291, 200)             800200    ['embedding[9][0]']           \n",
            "                                                                                                  \n",
            " conv1d_22 (Conv1D)          (None, 287, 200)             1120200   ['embedding[9][0]']           \n",
            "                                                                                                  \n",
            " max_pooling1d_20 (MaxPooli  (None, 1, 200)               0         ['conv1d_20[0][0]']           \n",
            " ng1D)                                                                                            \n",
            "                                                                                                  \n",
            " max_pooling1d_21 (MaxPooli  (None, 1, 200)               0         ['conv1d_21[0][0]']           \n",
            " ng1D)                                                                                            \n",
            "                                                                                                  \n",
            " max_pooling1d_22 (MaxPooli  (None, 1, 200)               0         ['conv1d_22[0][0]']           \n",
            " ng1D)                                                                                            \n",
            "                                                                                                  \n",
            " concatenate_7 (Concatenate  (None, 3, 200)               0         ['max_pooling1d_20[0][0]',    \n",
            " )                                                                   'max_pooling1d_21[0][0]',    \n",
            "                                                                     'max_pooling1d_22[0][0]']    \n",
            "                                                                                                  \n",
            " flatten_7 (Flatten)         (None, 600)                  0         ['concatenate_7[0][0]']       \n",
            "                                                                                                  \n",
            " dropout_9 (Dropout)         (None, 600)                  0         ['flatten_7[0][0]']           \n",
            "                                                                                                  \n",
            " dense_9 (Dense)             (None, 3)                    1803      ['dropout_9[0][0]']           \n",
            "                                                                                                  \n",
            "==================================================================================================\n",
            "Total params: 5512803 (21.03 MB)\n",
            "Trainable params: 5512803 (21.03 MB)\n",
            "Non-trainable params: 0 (0.00 Byte)\n",
            "__________________________________________________________________________________________________\n"
          ]
        }
      ]
    },
    {
      "cell_type": "markdown",
      "source": [
        "### Train"
      ],
      "metadata": {
        "id": "T0ML-RCv8ZkB"
      }
    },
    {
      "cell_type": "code",
      "source": [
        "#define callbacks\n",
        "early_stopping = EarlyStopping(monitor='val_loss', min_delta=0.01, patience=4, verbose=1)\n",
        "callbacks_list = [early_stopping]\n",
        "\n",
        "ModCNN.fit(data, labels, validation_split=0.15,\n",
        "          epochs=100, batch_size=512, callbacks=callbacks_list, shuffle=True)"
      ],
      "metadata": {
        "colab": {
          "base_uri": "https://localhost:8080/",
          "height": 1000
        },
        "outputId": "ea2e3cf8-f8f1-4951-fc24-72d5fdf036b8",
        "id": "U7FkJ_0U8ZkB"
      },
      "execution_count": 66,
      "outputs": [
        {
          "output_type": "stream",
          "name": "stdout",
          "text": [
            "Epoch 1/100\n",
            "9/9 [==============================] - 13s 1s/step - loss: 12.5087 - accuracy: 0.3804 - val_loss: 11.7466 - val_accuracy: 0.0144\n",
            "Epoch 2/100\n",
            "9/9 [==============================] - 5s 568ms/step - loss: 9.5836 - accuracy: 0.5834 - val_loss: 8.9887 - val_accuracy: 0.4248\n",
            "Epoch 3/100\n",
            "9/9 [==============================] - 5s 595ms/step - loss: 8.3875 - accuracy: 0.7089 - val_loss: 8.9186 - val_accuracy: 0.3412\n",
            "Epoch 4/100\n",
            "9/9 [==============================] - 5s 574ms/step - loss: 7.6058 - accuracy: 0.8009 - val_loss: 9.0166 - val_accuracy: 0.2471\n",
            "Epoch 5/100\n",
            "9/9 [==============================] - 6s 623ms/step - loss: 7.0893 - accuracy: 0.8528 - val_loss: 8.8339 - val_accuracy: 0.2366\n",
            "Epoch 6/100\n",
            "9/9 [==============================] - 5s 586ms/step - loss: 6.6270 - accuracy: 0.8964 - val_loss: 8.4822 - val_accuracy: 0.2222\n",
            "Epoch 7/100\n",
            "9/9 [==============================] - 5s 581ms/step - loss: 6.2101 - accuracy: 0.9250 - val_loss: 8.2010 - val_accuracy: 0.2078\n",
            "Epoch 8/100\n",
            "9/9 [==============================] - 6s 641ms/step - loss: 5.8286 - accuracy: 0.9460 - val_loss: 7.7428 - val_accuracy: 0.2275\n",
            "Epoch 9/100\n",
            "9/9 [==============================] - 5s 574ms/step - loss: 5.4744 - accuracy: 0.9631 - val_loss: 7.5333 - val_accuracy: 0.2065\n",
            "Epoch 10/100\n",
            "9/9 [==============================] - 5s 586ms/step - loss: 5.1424 - accuracy: 0.9663 - val_loss: 7.0303 - val_accuracy: 0.2392\n",
            "Epoch 11/100\n",
            "9/9 [==============================] - 6s 701ms/step - loss: 4.8336 - accuracy: 0.9721 - val_loss: 6.6239 - val_accuracy: 0.2614\n",
            "Epoch 12/100\n",
            "9/9 [==============================] - 6s 667ms/step - loss: 4.5393 - accuracy: 0.9788 - val_loss: 6.6247 - val_accuracy: 0.2013\n",
            "Epoch 13/100\n",
            "9/9 [==============================] - 6s 637ms/step - loss: 4.2619 - accuracy: 0.9822 - val_loss: 6.3652 - val_accuracy: 0.1948\n",
            "Epoch 14/100\n",
            "9/9 [==============================] - 5s 573ms/step - loss: 4.0015 - accuracy: 0.9832 - val_loss: 5.9408 - val_accuracy: 0.2314\n",
            "Epoch 15/100\n",
            "9/9 [==============================] - 6s 646ms/step - loss: 3.7553 - accuracy: 0.9871 - val_loss: 5.7001 - val_accuracy: 0.2314\n",
            "Epoch 16/100\n",
            "9/9 [==============================] - 6s 643ms/step - loss: 3.5287 - accuracy: 0.9843 - val_loss: 5.6107 - val_accuracy: 0.2092\n",
            "Epoch 17/100\n",
            "9/9 [==============================] - 5s 610ms/step - loss: 3.3141 - accuracy: 0.9894 - val_loss: 5.5926 - val_accuracy: 0.1725\n",
            "Epoch 18/100\n",
            "9/9 [==============================] - 6s 676ms/step - loss: 3.1137 - accuracy: 0.9894 - val_loss: 5.4450 - val_accuracy: 0.1608\n",
            "Epoch 19/100\n",
            "9/9 [==============================] - 5s 573ms/step - loss: 2.9280 - accuracy: 0.9894 - val_loss: 4.9180 - val_accuracy: 0.2183\n",
            "Epoch 20/100\n",
            "9/9 [==============================] - 6s 629ms/step - loss: 2.7503 - accuracy: 0.9896 - val_loss: 4.7600 - val_accuracy: 0.2131\n",
            "Epoch 21/100\n",
            "8/9 [=========================>....] - ETA: 0s - loss: 2.5840 - accuracy: 0.9941"
          ]
        },
        {
          "output_type": "error",
          "ename": "KeyboardInterrupt",
          "evalue": "ignored",
          "traceback": [
            "\u001b[0;31m---------------------------------------------------------------------------\u001b[0m",
            "\u001b[0;31mKeyboardInterrupt\u001b[0m                         Traceback (most recent call last)",
            "\u001b[0;32m<ipython-input-66-252de8d33d26>\u001b[0m in \u001b[0;36m<cell line: 5>\u001b[0;34m()\u001b[0m\n\u001b[1;32m      3\u001b[0m \u001b[0mcallbacks_list\u001b[0m \u001b[0;34m=\u001b[0m \u001b[0;34m[\u001b[0m\u001b[0mearly_stopping\u001b[0m\u001b[0;34m]\u001b[0m\u001b[0;34m\u001b[0m\u001b[0;34m\u001b[0m\u001b[0m\n\u001b[1;32m      4\u001b[0m \u001b[0;34m\u001b[0m\u001b[0m\n\u001b[0;32m----> 5\u001b[0;31m ModCNN.fit(data, labels, validation_split=0.15,\n\u001b[0m\u001b[1;32m      6\u001b[0m           epochs=100, batch_size=512, callbacks=callbacks_list, shuffle=True)\n",
            "\u001b[0;32m/usr/local/lib/python3.10/dist-packages/keras/src/utils/traceback_utils.py\u001b[0m in \u001b[0;36merror_handler\u001b[0;34m(*args, **kwargs)\u001b[0m\n\u001b[1;32m     63\u001b[0m         \u001b[0mfiltered_tb\u001b[0m \u001b[0;34m=\u001b[0m \u001b[0;32mNone\u001b[0m\u001b[0;34m\u001b[0m\u001b[0;34m\u001b[0m\u001b[0m\n\u001b[1;32m     64\u001b[0m         \u001b[0;32mtry\u001b[0m\u001b[0;34m:\u001b[0m\u001b[0;34m\u001b[0m\u001b[0;34m\u001b[0m\u001b[0m\n\u001b[0;32m---> 65\u001b[0;31m             \u001b[0;32mreturn\u001b[0m \u001b[0mfn\u001b[0m\u001b[0;34m(\u001b[0m\u001b[0;34m*\u001b[0m\u001b[0margs\u001b[0m\u001b[0;34m,\u001b[0m \u001b[0;34m**\u001b[0m\u001b[0mkwargs\u001b[0m\u001b[0;34m)\u001b[0m\u001b[0;34m\u001b[0m\u001b[0;34m\u001b[0m\u001b[0m\n\u001b[0m\u001b[1;32m     66\u001b[0m         \u001b[0;32mexcept\u001b[0m \u001b[0mException\u001b[0m \u001b[0;32mas\u001b[0m \u001b[0me\u001b[0m\u001b[0;34m:\u001b[0m\u001b[0;34m\u001b[0m\u001b[0;34m\u001b[0m\u001b[0m\n\u001b[1;32m     67\u001b[0m             \u001b[0mfiltered_tb\u001b[0m \u001b[0;34m=\u001b[0m \u001b[0m_process_traceback_frames\u001b[0m\u001b[0;34m(\u001b[0m\u001b[0me\u001b[0m\u001b[0;34m.\u001b[0m\u001b[0m__traceback__\u001b[0m\u001b[0;34m)\u001b[0m\u001b[0;34m\u001b[0m\u001b[0;34m\u001b[0m\u001b[0m\n",
            "\u001b[0;32m/usr/local/lib/python3.10/dist-packages/keras/src/engine/training.py\u001b[0m in \u001b[0;36mfit\u001b[0;34m(self, x, y, batch_size, epochs, verbose, callbacks, validation_split, validation_data, shuffle, class_weight, sample_weight, initial_epoch, steps_per_epoch, validation_steps, validation_batch_size, validation_freq, max_queue_size, workers, use_multiprocessing)\u001b[0m\n\u001b[1;32m   1781\u001b[0m                         ):\n\u001b[1;32m   1782\u001b[0m                             \u001b[0mcallbacks\u001b[0m\u001b[0;34m.\u001b[0m\u001b[0mon_train_batch_begin\u001b[0m\u001b[0;34m(\u001b[0m\u001b[0mstep\u001b[0m\u001b[0;34m)\u001b[0m\u001b[0;34m\u001b[0m\u001b[0;34m\u001b[0m\u001b[0m\n\u001b[0;32m-> 1783\u001b[0;31m                             \u001b[0mtmp_logs\u001b[0m \u001b[0;34m=\u001b[0m \u001b[0mself\u001b[0m\u001b[0;34m.\u001b[0m\u001b[0mtrain_function\u001b[0m\u001b[0;34m(\u001b[0m\u001b[0miterator\u001b[0m\u001b[0;34m)\u001b[0m\u001b[0;34m\u001b[0m\u001b[0;34m\u001b[0m\u001b[0m\n\u001b[0m\u001b[1;32m   1784\u001b[0m                             \u001b[0;32mif\u001b[0m \u001b[0mdata_handler\u001b[0m\u001b[0;34m.\u001b[0m\u001b[0mshould_sync\u001b[0m\u001b[0;34m:\u001b[0m\u001b[0;34m\u001b[0m\u001b[0;34m\u001b[0m\u001b[0m\n\u001b[1;32m   1785\u001b[0m                                 \u001b[0mcontext\u001b[0m\u001b[0;34m.\u001b[0m\u001b[0masync_wait\u001b[0m\u001b[0;34m(\u001b[0m\u001b[0;34m)\u001b[0m\u001b[0;34m\u001b[0m\u001b[0;34m\u001b[0m\u001b[0m\n",
            "\u001b[0;32m/usr/local/lib/python3.10/dist-packages/tensorflow/python/util/traceback_utils.py\u001b[0m in \u001b[0;36merror_handler\u001b[0;34m(*args, **kwargs)\u001b[0m\n\u001b[1;32m    148\u001b[0m     \u001b[0mfiltered_tb\u001b[0m \u001b[0;34m=\u001b[0m \u001b[0;32mNone\u001b[0m\u001b[0;34m\u001b[0m\u001b[0;34m\u001b[0m\u001b[0m\n\u001b[1;32m    149\u001b[0m     \u001b[0;32mtry\u001b[0m\u001b[0;34m:\u001b[0m\u001b[0;34m\u001b[0m\u001b[0;34m\u001b[0m\u001b[0m\n\u001b[0;32m--> 150\u001b[0;31m       \u001b[0;32mreturn\u001b[0m \u001b[0mfn\u001b[0m\u001b[0;34m(\u001b[0m\u001b[0;34m*\u001b[0m\u001b[0margs\u001b[0m\u001b[0;34m,\u001b[0m \u001b[0;34m**\u001b[0m\u001b[0mkwargs\u001b[0m\u001b[0;34m)\u001b[0m\u001b[0;34m\u001b[0m\u001b[0;34m\u001b[0m\u001b[0m\n\u001b[0m\u001b[1;32m    151\u001b[0m     \u001b[0;32mexcept\u001b[0m \u001b[0mException\u001b[0m \u001b[0;32mas\u001b[0m \u001b[0me\u001b[0m\u001b[0;34m:\u001b[0m\u001b[0;34m\u001b[0m\u001b[0;34m\u001b[0m\u001b[0m\n\u001b[1;32m    152\u001b[0m       \u001b[0mfiltered_tb\u001b[0m \u001b[0;34m=\u001b[0m \u001b[0m_process_traceback_frames\u001b[0m\u001b[0;34m(\u001b[0m\u001b[0me\u001b[0m\u001b[0;34m.\u001b[0m\u001b[0m__traceback__\u001b[0m\u001b[0;34m)\u001b[0m\u001b[0;34m\u001b[0m\u001b[0;34m\u001b[0m\u001b[0m\n",
            "\u001b[0;32m/usr/local/lib/python3.10/dist-packages/tensorflow/python/eager/polymorphic_function/polymorphic_function.py\u001b[0m in \u001b[0;36m__call__\u001b[0;34m(self, *args, **kwds)\u001b[0m\n\u001b[1;32m    829\u001b[0m \u001b[0;34m\u001b[0m\u001b[0m\n\u001b[1;32m    830\u001b[0m       \u001b[0;32mwith\u001b[0m \u001b[0mOptionalXlaContext\u001b[0m\u001b[0;34m(\u001b[0m\u001b[0mself\u001b[0m\u001b[0;34m.\u001b[0m\u001b[0m_jit_compile\u001b[0m\u001b[0;34m)\u001b[0m\u001b[0;34m:\u001b[0m\u001b[0;34m\u001b[0m\u001b[0;34m\u001b[0m\u001b[0m\n\u001b[0;32m--> 831\u001b[0;31m         \u001b[0mresult\u001b[0m \u001b[0;34m=\u001b[0m \u001b[0mself\u001b[0m\u001b[0;34m.\u001b[0m\u001b[0m_call\u001b[0m\u001b[0;34m(\u001b[0m\u001b[0;34m*\u001b[0m\u001b[0margs\u001b[0m\u001b[0;34m,\u001b[0m \u001b[0;34m**\u001b[0m\u001b[0mkwds\u001b[0m\u001b[0;34m)\u001b[0m\u001b[0;34m\u001b[0m\u001b[0;34m\u001b[0m\u001b[0m\n\u001b[0m\u001b[1;32m    832\u001b[0m \u001b[0;34m\u001b[0m\u001b[0m\n\u001b[1;32m    833\u001b[0m       \u001b[0mnew_tracing_count\u001b[0m \u001b[0;34m=\u001b[0m \u001b[0mself\u001b[0m\u001b[0;34m.\u001b[0m\u001b[0mexperimental_get_tracing_count\u001b[0m\u001b[0;34m(\u001b[0m\u001b[0;34m)\u001b[0m\u001b[0;34m\u001b[0m\u001b[0;34m\u001b[0m\u001b[0m\n",
            "\u001b[0;32m/usr/local/lib/python3.10/dist-packages/tensorflow/python/eager/polymorphic_function/polymorphic_function.py\u001b[0m in \u001b[0;36m_call\u001b[0;34m(self, *args, **kwds)\u001b[0m\n\u001b[1;32m    865\u001b[0m       \u001b[0;31m# In this case we have created variables on the first call, so we run the\u001b[0m\u001b[0;34m\u001b[0m\u001b[0;34m\u001b[0m\u001b[0m\n\u001b[1;32m    866\u001b[0m       \u001b[0;31m# defunned version which is guaranteed to never create variables.\u001b[0m\u001b[0;34m\u001b[0m\u001b[0;34m\u001b[0m\u001b[0m\n\u001b[0;32m--> 867\u001b[0;31m       return tracing_compilation.call_function(\n\u001b[0m\u001b[1;32m    868\u001b[0m           \u001b[0margs\u001b[0m\u001b[0;34m,\u001b[0m \u001b[0mkwds\u001b[0m\u001b[0;34m,\u001b[0m \u001b[0mself\u001b[0m\u001b[0;34m.\u001b[0m\u001b[0m_no_variable_creation_config\u001b[0m\u001b[0;34m\u001b[0m\u001b[0;34m\u001b[0m\u001b[0m\n\u001b[1;32m    869\u001b[0m       )\n",
            "\u001b[0;32m/usr/local/lib/python3.10/dist-packages/tensorflow/python/eager/polymorphic_function/tracing_compilation.py\u001b[0m in \u001b[0;36mcall_function\u001b[0;34m(args, kwargs, tracing_options)\u001b[0m\n\u001b[1;32m    137\u001b[0m   \u001b[0mbound_args\u001b[0m \u001b[0;34m=\u001b[0m \u001b[0mfunction\u001b[0m\u001b[0;34m.\u001b[0m\u001b[0mfunction_type\u001b[0m\u001b[0;34m.\u001b[0m\u001b[0mbind\u001b[0m\u001b[0;34m(\u001b[0m\u001b[0;34m*\u001b[0m\u001b[0margs\u001b[0m\u001b[0;34m,\u001b[0m \u001b[0;34m**\u001b[0m\u001b[0mkwargs\u001b[0m\u001b[0;34m)\u001b[0m\u001b[0;34m\u001b[0m\u001b[0;34m\u001b[0m\u001b[0m\n\u001b[1;32m    138\u001b[0m   \u001b[0mflat_inputs\u001b[0m \u001b[0;34m=\u001b[0m \u001b[0mfunction\u001b[0m\u001b[0;34m.\u001b[0m\u001b[0mfunction_type\u001b[0m\u001b[0;34m.\u001b[0m\u001b[0munpack_inputs\u001b[0m\u001b[0;34m(\u001b[0m\u001b[0mbound_args\u001b[0m\u001b[0;34m)\u001b[0m\u001b[0;34m\u001b[0m\u001b[0;34m\u001b[0m\u001b[0m\n\u001b[0;32m--> 139\u001b[0;31m   return function._call_flat(  # pylint: disable=protected-access\n\u001b[0m\u001b[1;32m    140\u001b[0m       \u001b[0mflat_inputs\u001b[0m\u001b[0;34m,\u001b[0m \u001b[0mcaptured_inputs\u001b[0m\u001b[0;34m=\u001b[0m\u001b[0mfunction\u001b[0m\u001b[0;34m.\u001b[0m\u001b[0mcaptured_inputs\u001b[0m\u001b[0;34m\u001b[0m\u001b[0;34m\u001b[0m\u001b[0m\n\u001b[1;32m    141\u001b[0m   )\n",
            "\u001b[0;32m/usr/local/lib/python3.10/dist-packages/tensorflow/python/eager/polymorphic_function/concrete_function.py\u001b[0m in \u001b[0;36m_call_flat\u001b[0;34m(self, tensor_inputs, captured_inputs)\u001b[0m\n\u001b[1;32m   1262\u001b[0m         and executing_eagerly):\n\u001b[1;32m   1263\u001b[0m       \u001b[0;31m# No tape is watching; skip to running the function.\u001b[0m\u001b[0;34m\u001b[0m\u001b[0;34m\u001b[0m\u001b[0m\n\u001b[0;32m-> 1264\u001b[0;31m       \u001b[0;32mreturn\u001b[0m \u001b[0mself\u001b[0m\u001b[0;34m.\u001b[0m\u001b[0m_inference_function\u001b[0m\u001b[0;34m.\u001b[0m\u001b[0mflat_call\u001b[0m\u001b[0;34m(\u001b[0m\u001b[0margs\u001b[0m\u001b[0;34m)\u001b[0m\u001b[0;34m\u001b[0m\u001b[0;34m\u001b[0m\u001b[0m\n\u001b[0m\u001b[1;32m   1265\u001b[0m     forward_backward = self._select_forward_and_backward_functions(\n\u001b[1;32m   1266\u001b[0m         \u001b[0margs\u001b[0m\u001b[0;34m,\u001b[0m\u001b[0;34m\u001b[0m\u001b[0;34m\u001b[0m\u001b[0m\n",
            "\u001b[0;32m/usr/local/lib/python3.10/dist-packages/tensorflow/python/eager/polymorphic_function/atomic_function.py\u001b[0m in \u001b[0;36mflat_call\u001b[0;34m(self, args)\u001b[0m\n\u001b[1;32m    215\u001b[0m   \u001b[0;32mdef\u001b[0m \u001b[0mflat_call\u001b[0m\u001b[0;34m(\u001b[0m\u001b[0mself\u001b[0m\u001b[0;34m,\u001b[0m \u001b[0margs\u001b[0m\u001b[0;34m:\u001b[0m \u001b[0mSequence\u001b[0m\u001b[0;34m[\u001b[0m\u001b[0mcore\u001b[0m\u001b[0;34m.\u001b[0m\u001b[0mTensor\u001b[0m\u001b[0;34m]\u001b[0m\u001b[0;34m)\u001b[0m \u001b[0;34m->\u001b[0m \u001b[0mAny\u001b[0m\u001b[0;34m:\u001b[0m\u001b[0;34m\u001b[0m\u001b[0;34m\u001b[0m\u001b[0m\n\u001b[1;32m    216\u001b[0m     \u001b[0;34m\"\"\"Calls with tensor inputs and returns the structured output.\"\"\"\u001b[0m\u001b[0;34m\u001b[0m\u001b[0;34m\u001b[0m\u001b[0m\n\u001b[0;32m--> 217\u001b[0;31m     \u001b[0mflat_outputs\u001b[0m \u001b[0;34m=\u001b[0m \u001b[0mself\u001b[0m\u001b[0;34m(\u001b[0m\u001b[0;34m*\u001b[0m\u001b[0margs\u001b[0m\u001b[0;34m)\u001b[0m\u001b[0;34m\u001b[0m\u001b[0;34m\u001b[0m\u001b[0m\n\u001b[0m\u001b[1;32m    218\u001b[0m     \u001b[0;32mreturn\u001b[0m \u001b[0mself\u001b[0m\u001b[0;34m.\u001b[0m\u001b[0mfunction_type\u001b[0m\u001b[0;34m.\u001b[0m\u001b[0mpack_output\u001b[0m\u001b[0;34m(\u001b[0m\u001b[0mflat_outputs\u001b[0m\u001b[0;34m)\u001b[0m\u001b[0;34m\u001b[0m\u001b[0;34m\u001b[0m\u001b[0m\n\u001b[1;32m    219\u001b[0m \u001b[0;34m\u001b[0m\u001b[0m\n",
            "\u001b[0;32m/usr/local/lib/python3.10/dist-packages/tensorflow/python/eager/polymorphic_function/atomic_function.py\u001b[0m in \u001b[0;36m__call__\u001b[0;34m(self, *args)\u001b[0m\n\u001b[1;32m    250\u001b[0m         \u001b[0;32mwith\u001b[0m \u001b[0mrecord\u001b[0m\u001b[0;34m.\u001b[0m\u001b[0mstop_recording\u001b[0m\u001b[0;34m(\u001b[0m\u001b[0;34m)\u001b[0m\u001b[0;34m:\u001b[0m\u001b[0;34m\u001b[0m\u001b[0;34m\u001b[0m\u001b[0m\n\u001b[1;32m    251\u001b[0m           \u001b[0;32mif\u001b[0m \u001b[0mself\u001b[0m\u001b[0;34m.\u001b[0m\u001b[0m_bound_context\u001b[0m\u001b[0;34m.\u001b[0m\u001b[0mexecuting_eagerly\u001b[0m\u001b[0;34m(\u001b[0m\u001b[0;34m)\u001b[0m\u001b[0;34m:\u001b[0m\u001b[0;34m\u001b[0m\u001b[0;34m\u001b[0m\u001b[0m\n\u001b[0;32m--> 252\u001b[0;31m             outputs = self._bound_context.call_function(\n\u001b[0m\u001b[1;32m    253\u001b[0m                 \u001b[0mself\u001b[0m\u001b[0;34m.\u001b[0m\u001b[0mname\u001b[0m\u001b[0;34m,\u001b[0m\u001b[0;34m\u001b[0m\u001b[0;34m\u001b[0m\u001b[0m\n\u001b[1;32m    254\u001b[0m                 \u001b[0mlist\u001b[0m\u001b[0;34m(\u001b[0m\u001b[0margs\u001b[0m\u001b[0;34m)\u001b[0m\u001b[0;34m,\u001b[0m\u001b[0;34m\u001b[0m\u001b[0;34m\u001b[0m\u001b[0m\n",
            "\u001b[0;32m/usr/local/lib/python3.10/dist-packages/tensorflow/python/eager/context.py\u001b[0m in \u001b[0;36mcall_function\u001b[0;34m(self, name, tensor_inputs, num_outputs)\u001b[0m\n\u001b[1;32m   1477\u001b[0m     \u001b[0mcancellation_context\u001b[0m \u001b[0;34m=\u001b[0m \u001b[0mcancellation\u001b[0m\u001b[0;34m.\u001b[0m\u001b[0mcontext\u001b[0m\u001b[0;34m(\u001b[0m\u001b[0;34m)\u001b[0m\u001b[0;34m\u001b[0m\u001b[0;34m\u001b[0m\u001b[0m\n\u001b[1;32m   1478\u001b[0m     \u001b[0;32mif\u001b[0m \u001b[0mcancellation_context\u001b[0m \u001b[0;32mis\u001b[0m \u001b[0;32mNone\u001b[0m\u001b[0;34m:\u001b[0m\u001b[0;34m\u001b[0m\u001b[0;34m\u001b[0m\u001b[0m\n\u001b[0;32m-> 1479\u001b[0;31m       outputs = execute.execute(\n\u001b[0m\u001b[1;32m   1480\u001b[0m           \u001b[0mname\u001b[0m\u001b[0;34m.\u001b[0m\u001b[0mdecode\u001b[0m\u001b[0;34m(\u001b[0m\u001b[0;34m\"utf-8\"\u001b[0m\u001b[0;34m)\u001b[0m\u001b[0;34m,\u001b[0m\u001b[0;34m\u001b[0m\u001b[0;34m\u001b[0m\u001b[0m\n\u001b[1;32m   1481\u001b[0m           \u001b[0mnum_outputs\u001b[0m\u001b[0;34m=\u001b[0m\u001b[0mnum_outputs\u001b[0m\u001b[0;34m,\u001b[0m\u001b[0;34m\u001b[0m\u001b[0;34m\u001b[0m\u001b[0m\n",
            "\u001b[0;32m/usr/local/lib/python3.10/dist-packages/tensorflow/python/eager/execute.py\u001b[0m in \u001b[0;36mquick_execute\u001b[0;34m(op_name, num_outputs, inputs, attrs, ctx, name)\u001b[0m\n\u001b[1;32m     58\u001b[0m         \u001b[0;32mfor\u001b[0m \u001b[0mt\u001b[0m \u001b[0;32min\u001b[0m \u001b[0minputs\u001b[0m\u001b[0;34m\u001b[0m\u001b[0;34m\u001b[0m\u001b[0m\n\u001b[1;32m     59\u001b[0m     ]\n\u001b[0;32m---> 60\u001b[0;31m     tensors = pywrap_tfe.TFE_Py_Execute(ctx._handle, device_name, op_name,\n\u001b[0m\u001b[1;32m     61\u001b[0m                                         inputs, attrs, num_outputs)\n\u001b[1;32m     62\u001b[0m   \u001b[0;32mexcept\u001b[0m \u001b[0mcore\u001b[0m\u001b[0;34m.\u001b[0m\u001b[0m_NotOkStatusException\u001b[0m \u001b[0;32mas\u001b[0m \u001b[0me\u001b[0m\u001b[0;34m:\u001b[0m\u001b[0;34m\u001b[0m\u001b[0;34m\u001b[0m\u001b[0m\n",
            "\u001b[0;31mKeyboardInterrupt\u001b[0m: "
          ]
        }
      ]
    },
    {
      "cell_type": "markdown",
      "source": [
        "### Plot"
      ],
      "metadata": {
        "id": "hb57kZbA8ZkB"
      }
    },
    {
      "cell_type": "code",
      "source": [
        "train_plot(ModCNN.history, 'Modified CNN')"
      ],
      "metadata": {
        "colab": {
          "base_uri": "https://localhost:8080/",
          "height": 410
        },
        "outputId": "d5fe7d9f-2e3c-44a0-94dd-3df289ccbfbb",
        "id": "CvLpPmeS8ZkC"
      },
      "execution_count": 67,
      "outputs": [
        {
          "output_type": "display_data",
          "data": {
            "text/plain": [
              "<Figure size 800x400 with 2 Axes>"
            ],
            "image/png": "[encoded data removed]"
          },
          "metadata": {}
        }
      ]
    },
    {
      "cell_type": "markdown",
      "source": [
        "### Test"
      ],
      "metadata": {
        "id": "ZCbWcd5-8ZkC"
      }
    },
    {
      "cell_type": "code",
      "source": [
        "score = ModCNN.evaluate(data_test, labels_test)\n",
        "print(f\"{ModCNN.metrics_names[0]}: {score[0]}\")\n",
        "print(f\"{ModCNN.metrics_names[1]}: {score[1]*100:.2f}%\")"
      ],
      "metadata": {
        "colab": {
          "base_uri": "https://localhost:8080/"
        },
        "outputId": "659fcdf4-2851-4dfe-c266-91972b2eabfe",
        "id": "TvEJqo1i8ZkC"
      },
      "execution_count": 68,
      "outputs": [
        {
          "output_type": "stream",
          "name": "stdout",
          "text": [
            "33/33 [==============================] - 1s 17ms/step - loss: 3.3278 - accuracy: 0.6629\n",
            "loss: 3.3278162479400635\n",
            "accuracy: 66.29%\n"
          ]
        }
      ]
    },
    {
      "cell_type": "code",
      "source": [
        "predictions = ModCNN.predict(data_test)\n",
        "confusion_matrix_plot(predictions, labels_test)\n",
        "result_test(predictions, labels_test)"
      ],
      "metadata": {
        "colab": {
          "base_uri": "https://localhost:8080/",
          "height": 706
        },
        "outputId": "8f97ff17-a223-4711-acd7-5abe91a6cced",
        "id": "lKnKZ5no8ZkD"
      },
      "execution_count": 69,
      "outputs": [
        {
          "output_type": "stream",
          "name": "stdout",
          "text": [
            "33/33 [==============================] - 0s 11ms/step\n"
          ]
        },
        {
          "output_type": "execute_result",
          "data": {
            "text/plain": [
              "{'Accuracy': 0.6628571428571428,\n",
              " 'Recall': 0.6628571428571428,\n",
              " 'Precision': 0.6832185124465996,\n",
              " 'F1-Score': 0.649380291524832}"
            ]
          },
          "metadata": {},
          "execution_count": 69
        },
        {
          "output_type": "display_data",
          "data": {
            "text/plain": [
              "<Figure size 1000x700 with 2 Axes>"
            ],
            "image/png": "[encoded data removed]"
          },
          "metadata": {}
        }
      ]
    },
    {
      "cell_type": "markdown",
      "source": [
        "## BiLSTM"
      ],
      "metadata": {
        "id": "hTiRKaLpl-Y_"
      }
    },
    {
      "cell_type": "markdown",
      "source": [
        "### Configure"
      ],
      "metadata": {
        "id": "lMk1qSr1l-ZA"
      }
    },
    {
      "cell_type": "code",
      "source": [
        "sequence_length = data.shape[1]\n",
        "drop = 0.5\n",
        "\n",
        "inputs = Input(shape=(sequence_length,))\n",
        "embedding = embedding_layer(inputs)\n",
        "\n",
        "reshape = Reshape((sequence_length,EMBEDDING_DIM))(embedding)\n",
        "\n",
        "lstm_0 = Bidirectional(LSTM(1024,))(reshape)\n",
        "\n",
        "dropout = Dropout(drop)(lstm_0)\n",
        "output = Dense(units=3, activation='softmax', kernel_regularizer=regularizers.l2(0.01))(dropout)\n",
        "MyBiLSTM = Model(inputs, output)\n",
        "\n",
        "adam = Adam(learning_rate=0.0005, beta_1=0.9, beta_2=0.999, epsilon=1e-08, weight_decay=0.0)\n",
        "MyBiLSTM.compile(loss='categorical_crossentropy', optimizer=adam, metrics=['accuracy'])\n",
        "MyBiLSTM.summary()"
      ],
      "metadata": {
        "id": "Y9xEmtKZl-ZA",
        "colab": {
          "base_uri": "https://localhost:8080/"
        },
        "outputId": "d343ffb5-f729-4b85-b74a-f951246175fe"
      },
      "execution_count": 95,
      "outputs": [
        {
          "output_type": "stream",
          "name": "stdout",
          "text": [
            "Model: \"model_15\"\n",
            "_________________________________________________________________\n",
            " Layer (type)                Output Shape              Param #   \n",
            "=================================================================\n",
            " input_16 (InputLayer)       [(None, 300)]             0         \n",
            "                                                                 \n",
            " embedding (Embedding)       (None, 300, 400)          3110400   \n",
            "                                                                 \n",
            " reshape_32 (Reshape)        (None, 300, 400)          0         \n",
            "                                                                 \n",
            " bidirectional_4 (Bidirecti  (None, 2048)              11673600  \n",
            " onal)                                                           \n",
            "                                                                 \n",
            " dropout_15 (Dropout)        (None, 2048)              0         \n",
            "                                                                 \n",
            " dense_15 (Dense)            (None, 3)                 6147      \n",
            "                                                                 \n",
            "=================================================================\n",
            "Total params: 14790147 (56.42 MB)\n",
            "Trainable params: 14790147 (56.42 MB)\n",
            "Non-trainable params: 0 (0.00 Byte)\n",
            "_________________________________________________________________\n"
          ]
        }
      ]
    },
    {
      "cell_type": "markdown",
      "source": [
        "### Train"
      ],
      "metadata": {
        "id": "CF-s0qVvl-ZA"
      }
    },
    {
      "cell_type": "code",
      "source": [
        "#define callbacks\n",
        "early_stopping = EarlyStopping(monitor='val_loss', min_delta=0.01, patience=4, verbose=1)\n",
        "callbacks_list = [early_stopping]\n",
        "\n",
        "MyBiLSTM.fit(data, labels, validation_split=0.15,\n",
        "          epochs=100, batch_size=256, callbacks=callbacks_list, shuffle=True)"
      ],
      "metadata": {
        "id": "7OUf6IqXl-ZA",
        "colab": {
          "base_uri": "https://localhost:8080/"
        },
        "outputId": "5b68068c-5444-4290-b320-7d69e49ee369"
      },
      "execution_count": 96,
      "outputs": [
        {
          "output_type": "stream",
          "name": "stdout",
          "text": [
            "Epoch 1/100\n",
            "17/17 [==============================] - 34s 2s/step - loss: 1.0533 - accuracy: 0.5430 - val_loss: 1.1311 - val_accuracy: 0.5229\n",
            "Epoch 2/100\n",
            "17/17 [==============================] - 32s 2s/step - loss: 0.6715 - accuracy: 0.7493 - val_loss: 2.2949 - val_accuracy: 0.0824\n",
            "Epoch 3/100\n",
            "17/17 [==============================] - 31s 2s/step - loss: 0.4811 - accuracy: 0.8295 - val_loss: 1.6136 - val_accuracy: 0.3608\n",
            "Epoch 4/100\n",
            "17/17 [==============================] - 33s 2s/step - loss: 0.3544 - accuracy: 0.8939 - val_loss: 1.8823 - val_accuracy: 0.3072\n",
            "Epoch 5/100\n",
            "17/17 [==============================] - 33s 2s/step - loss: 0.2792 - accuracy: 0.9239 - val_loss: 1.9211 - val_accuracy: 0.3595\n",
            "Epoch 5: early stopping\n"
          ]
        },
        {
          "output_type": "execute_result",
          "data": {
            "text/plain": [
              "<keras.src.callbacks.History at 0x78cb68e5b5e0>"
            ]
          },
          "metadata": {},
          "execution_count": 96
        }
      ]
    },
    {
      "cell_type": "markdown",
      "source": [
        "### Plot"
      ],
      "metadata": {
        "id": "MruKnxD1l-ZA"
      }
    },
    {
      "cell_type": "code",
      "source": [
        "train_plot(MyBiLSTM.history, 'BiLSTM')"
      ],
      "metadata": {
        "id": "lu97yxk1l-ZA",
        "colab": {
          "base_uri": "https://localhost:8080/",
          "height": 410
        },
        "outputId": "4e5d51b0-90de-40b2-c8b4-2b926da3ad48"
      },
      "execution_count": 99,
      "outputs": [
        {
          "output_type": "display_data",
          "data": {
            "text/plain": [
              "<Figure size 800x400 with 2 Axes>"
            ],
            "image/png": "[encoded data removed]"
          },
          "metadata": {}
        }
      ]
    },
    {
      "cell_type": "markdown",
      "source": [
        "### Test"
      ],
      "metadata": {
        "id": "CcJ0DLh-l-ZB"
      }
    },
    {
      "cell_type": "code",
      "source": [
        "score = MyBiLSTM.evaluate(data_test, labels_test)\n",
        "print(f\"{MyBiLSTM.metrics_names[0]}: {score[0]}\")\n",
        "print(f\"{MyBiLSTM.metrics_names[1]}: {score[1]*100:.2f}%\")"
      ],
      "metadata": {
        "id": "5XD5nywxl-ZB",
        "colab": {
          "base_uri": "https://localhost:8080/"
        },
        "outputId": "51440ffd-7783-45a0-d11b-bbcdf30221fe"
      },
      "execution_count": 100,
      "outputs": [
        {
          "output_type": "stream",
          "name": "stdout",
          "text": [
            "33/33 [==============================] - 3s 100ms/step - loss: 1.0347 - accuracy: 0.6610\n",
            "loss: 1.0346523523330688\n",
            "accuracy: 66.10%\n"
          ]
        }
      ]
    },
    {
      "cell_type": "code",
      "source": [
        "predictions = MyBiLSTM.predict(data_test)\n",
        "confusion_matrix_plot(predictions, labels_test)\n",
        "result_test(predictions, labels_test)"
      ],
      "metadata": {
        "id": "QXjHEe3Xl-ZB",
        "colab": {
          "base_uri": "https://localhost:8080/",
          "height": 706
        },
        "outputId": "c047fa61-3a34-4727-9d44-490ca421eba6"
      },
      "execution_count": 101,
      "outputs": [
        {
          "output_type": "stream",
          "name": "stdout",
          "text": [
            "33/33 [==============================] - 4s 94ms/step\n"
          ]
        },
        {
          "output_type": "execute_result",
          "data": {
            "text/plain": [
              "{'Accuracy': 0.660952380952381,\n",
              " 'Recall': 0.6609523809523808,\n",
              " 'Precision': 0.6580988964927718,\n",
              " 'F1-Score': 0.6573950324785632}"
            ]
          },
          "metadata": {},
          "execution_count": 101
        },
        {
          "output_type": "display_data",
          "data": {
            "text/plain": [
              "<Figure size 1000x700 with 2 Axes>"
            ],
            "image/png": "[encoded data removed]"
          },
          "metadata": {}
        }
      ]
    },
    {
      "cell_type": "markdown",
      "source": [
        "## Larger CNN + BiLSTM"
      ],
      "metadata": {
        "id": "kxRe7ywdynYf"
      }
    },
    {
      "cell_type": "markdown",
      "source": [
        "### Configure"
      ],
      "metadata": {
        "id": "fidaKTSnynYv"
      }
    },
    {
      "cell_type": "code",
      "source": [
        "sequence_length = data.shape[1]\n",
        "filter_sizes = [6,10,14]\n",
        "num_filters = 200\n",
        "drop = 0.5\n",
        "\n",
        "inputs = Input(shape=(sequence_length,))\n",
        "embedding = embedding_layer(inputs)\n",
        "\n",
        "reshape = Reshape((sequence_length, EMBEDDING_DIM))(embedding)\n",
        "\n",
        "conv_0 = Conv1D(num_filters, (filter_sizes[0],), padding=\"same\", activation='relu', kernel_regularizer=regularizers.l2(0.01))(reshape)\n",
        "conv_1 = Conv1D(num_filters, (filter_sizes[1],), padding=\"same\", activation='relu', kernel_regularizer=regularizers.l2(0.01))(reshape)\n",
        "conv_2 = Conv1D(num_filters, (filter_sizes[2],), padding=\"same\", activation='relu', kernel_regularizer=regularizers.l2(0.01))(reshape)\n",
        "\n",
        "conv_0 = MaxPool1D(300)(conv_0)\n",
        "conv_1 = MaxPool1D(300)(conv_1)\n",
        "conv_2 = MaxPool1D(300)(conv_2)\n",
        "# Reshape output to match RNN dimension\n",
        "conv_0 = Reshape((-1, num_filters))(conv_0)\n",
        "conv_1 = Reshape((-1, num_filters))(conv_1)\n",
        "conv_2 = Reshape((-1, num_filters))(conv_2)\n",
        "\n",
        "concat = concatenate([conv_0, conv_1, conv_2])\n",
        "# concat = Flatten()(concat)\n",
        "\n",
        "# Replace three LSTM layers with a single Bidirectional LSTM layer\n",
        "bilstm_layer = Bidirectional(LSTM(512))(concat)\n",
        "\n",
        "dropout = Dropout(drop)(bilstm_layer)\n",
        "output = Dense(units=3, activation='softmax', kernel_regularizer=regularizers.l2(0.01))(dropout)\n",
        "\n",
        "# This creates a model that includes\n",
        "ModCNNBiLSTM = Model(inputs, output)\n",
        "\n",
        "adam = Adam(learning_rate=0.0005, beta_1=0.9, beta_2=0.999, epsilon=1e-08)\n",
        "ModCNNBiLSTM.compile(loss='categorical_crossentropy', optimizer=adam, metrics=['accuracy'])\n",
        "ModCNNBiLSTM.summary()\n"
      ],
      "metadata": {
        "colab": {
          "base_uri": "https://localhost:8080/"
        },
        "outputId": "2ae1a2e0-ba77-4139-f040-e7d624386d7b",
        "id": "quALQ7fhynYv"
      },
      "execution_count": 77,
      "outputs": [
        {
          "output_type": "stream",
          "name": "stdout",
          "text": [
            "Model: \"model_13\"\n",
            "__________________________________________________________________________________________________\n",
            " Layer (type)                Output Shape                 Param #   Connected to                  \n",
            "==================================================================================================\n",
            " input_14 (InputLayer)       [(None, 300)]                0         []                            \n",
            "                                                                                                  \n",
            " embedding (Embedding)       (None, 300, 400)             3110400   ['input_14[0][0]']            \n",
            "                                                                                                  \n",
            " reshape_27 (Reshape)        (None, 300, 400)             0         ['embedding[13][0]']          \n",
            "                                                                                                  \n",
            " conv1d_29 (Conv1D)          (None, 300, 200)             480200    ['reshape_27[0][0]']          \n",
            "                                                                                                  \n",
            " conv1d_30 (Conv1D)          (None, 300, 200)             800200    ['reshape_27[0][0]']          \n",
            "                                                                                                  \n",
            " conv1d_31 (Conv1D)          (None, 300, 200)             1120200   ['reshape_27[0][0]']          \n",
            "                                                                                                  \n",
            " max_pooling1d_29 (MaxPooli  (None, 1, 200)               0         ['conv1d_29[0][0]']           \n",
            " ng1D)                                                                                            \n",
            "                                                                                                  \n",
            " max_pooling1d_30 (MaxPooli  (None, 1, 200)               0         ['conv1d_30[0][0]']           \n",
            " ng1D)                                                                                            \n",
            "                                                                                                  \n",
            " max_pooling1d_31 (MaxPooli  (None, 1, 200)               0         ['conv1d_31[0][0]']           \n",
            " ng1D)                                                                                            \n",
            "                                                                                                  \n",
            " reshape_28 (Reshape)        (None, 1, 200)               0         ['max_pooling1d_29[0][0]']    \n",
            "                                                                                                  \n",
            " reshape_29 (Reshape)        (None, 1, 200)               0         ['max_pooling1d_30[0][0]']    \n",
            "                                                                                                  \n",
            " reshape_30 (Reshape)        (None, 1, 200)               0         ['max_pooling1d_31[0][0]']    \n",
            "                                                                                                  \n",
            " concatenate_10 (Concatenat  (None, 1, 600)               0         ['reshape_28[0][0]',          \n",
            " e)                                                                  'reshape_29[0][0]',          \n",
            "                                                                     'reshape_30[0][0]']          \n",
            "                                                                                                  \n",
            " bidirectional_3 (Bidirecti  (None, 1024)                 4558848   ['concatenate_10[0][0]']      \n",
            " onal)                                                                                            \n",
            "                                                                                                  \n",
            " dropout_13 (Dropout)        (None, 1024)                 0         ['bidirectional_3[0][0]']     \n",
            "                                                                                                  \n",
            " dense_13 (Dense)            (None, 3)                    3075      ['dropout_13[0][0]']          \n",
            "                                                                                                  \n",
            "==================================================================================================\n",
            "Total params: 10072923 (38.43 MB)\n",
            "Trainable params: 10072923 (38.43 MB)\n",
            "Non-trainable params: 0 (0.00 Byte)\n",
            "__________________________________________________________________________________________________\n"
          ]
        }
      ]
    },
    {
      "cell_type": "markdown",
      "source": [
        "### Train"
      ],
      "metadata": {
        "id": "_LhyJOs2ynYw"
      }
    },
    {
      "cell_type": "code",
      "source": [
        "#define callbacks\n",
        "early_stopping = EarlyStopping(monitor='val_loss', min_delta=0.01, patience=4, verbose=1)\n",
        "callbacks_list = [early_stopping]\n",
        "\n",
        "ModCNNBiLSTM.fit(data, labels, validation_split=0.1,\n",
        "          epochs=100, batch_size=256, callbacks=callbacks_list, shuffle=True)"
      ],
      "metadata": {
        "colab": {
          "base_uri": "https://localhost:8080/",
          "height": 634
        },
        "outputId": "9af615f3-983c-4265-e746-e925e5b9bd9e",
        "id": "ZNtSMxd-ynYx"
      },
      "execution_count": 78,
      "outputs": [
        {
          "output_type": "stream",
          "name": "stdout",
          "text": [
            "Epoch 1/100\n",
            "18/18 [==============================] - 21s 708ms/step - loss: 7.7055 - accuracy: 0.4026 - val_loss: 6.2356 - val_accuracy: 0.0000e+00\n",
            "Epoch 2/100\n",
            "18/18 [==============================] - 5s 298ms/step - loss: 4.4444 - accuracy: 0.5784 - val_loss: 3.7566 - val_accuracy: 0.2588\n",
            "Epoch 3/100\n",
            "18/18 [==============================] - 6s 330ms/step - loss: 2.5171 - accuracy: 0.7390 - val_loss: 2.2838 - val_accuracy: 0.5667\n",
            "Epoch 4/100\n",
            "18/18 [==============================] - 6s 351ms/step - loss: 1.5017 - accuracy: 0.8828 - val_loss: 2.2003 - val_accuracy: 0.4196\n",
            "Epoch 5/100\n",
            "18/18 [==============================] - 6s 317ms/step - loss: 0.9290 - accuracy: 0.9756 - val_loss: 2.3517 - val_accuracy: 0.3608\n",
            "Epoch 6/100\n",
            "18/18 [==============================] - 7s 386ms/step - loss: 0.6217 - accuracy: 0.9972 - val_loss: 2.1584 - val_accuracy: 0.4333\n",
            "Epoch 7/100\n",
            "18/18 [==============================] - 6s 320ms/step - loss: 0.4330 - accuracy: 0.9993 - val_loss: 1.6749 - val_accuracy: 0.5451\n",
            "Epoch 8/100\n"
          ]
        },
        {
          "output_type": "error",
          "ename": "KeyboardInterrupt",
          "evalue": "ignored",
          "traceback": [
            "\u001b[0;31m---------------------------------------------------------------------------\u001b[0m",
            "\u001b[0;31mKeyboardInterrupt\u001b[0m                         Traceback (most recent call last)",
            "\u001b[0;32m<ipython-input-78-715a26bd262e>\u001b[0m in \u001b[0;36m<cell line: 5>\u001b[0;34m()\u001b[0m\n\u001b[1;32m      3\u001b[0m \u001b[0mcallbacks_list\u001b[0m \u001b[0;34m=\u001b[0m \u001b[0;34m[\u001b[0m\u001b[0mearly_stopping\u001b[0m\u001b[0;34m]\u001b[0m\u001b[0;34m\u001b[0m\u001b[0;34m\u001b[0m\u001b[0m\n\u001b[1;32m      4\u001b[0m \u001b[0;34m\u001b[0m\u001b[0m\n\u001b[0;32m----> 5\u001b[0;31m MyCNNBiLSTM.fit(data, labels, validation_split=0.1,\n\u001b[0m\u001b[1;32m      6\u001b[0m           epochs=100, batch_size=256, callbacks=callbacks_list, shuffle=True)\n",
            "\u001b[0;32m/usr/local/lib/python3.10/dist-packages/keras/src/utils/traceback_utils.py\u001b[0m in \u001b[0;36merror_handler\u001b[0;34m(*args, **kwargs)\u001b[0m\n\u001b[1;32m     63\u001b[0m         \u001b[0mfiltered_tb\u001b[0m \u001b[0;34m=\u001b[0m \u001b[0;32mNone\u001b[0m\u001b[0;34m\u001b[0m\u001b[0;34m\u001b[0m\u001b[0m\n\u001b[1;32m     64\u001b[0m         \u001b[0;32mtry\u001b[0m\u001b[0;34m:\u001b[0m\u001b[0;34m\u001b[0m\u001b[0;34m\u001b[0m\u001b[0m\n\u001b[0;32m---> 65\u001b[0;31m             \u001b[0;32mreturn\u001b[0m \u001b[0mfn\u001b[0m\u001b[0;34m(\u001b[0m\u001b[0;34m*\u001b[0m\u001b[0margs\u001b[0m\u001b[0;34m,\u001b[0m \u001b[0;34m**\u001b[0m\u001b[0mkwargs\u001b[0m\u001b[0;34m)\u001b[0m\u001b[0;34m\u001b[0m\u001b[0;34m\u001b[0m\u001b[0m\n\u001b[0m\u001b[1;32m     66\u001b[0m         \u001b[0;32mexcept\u001b[0m \u001b[0mException\u001b[0m \u001b[0;32mas\u001b[0m \u001b[0me\u001b[0m\u001b[0;34m:\u001b[0m\u001b[0;34m\u001b[0m\u001b[0;34m\u001b[0m\u001b[0m\n\u001b[1;32m     67\u001b[0m             \u001b[0mfiltered_tb\u001b[0m \u001b[0;34m=\u001b[0m \u001b[0m_process_traceback_frames\u001b[0m\u001b[0;34m(\u001b[0m\u001b[0me\u001b[0m\u001b[0;34m.\u001b[0m\u001b[0m__traceback__\u001b[0m\u001b[0;34m)\u001b[0m\u001b[0;34m\u001b[0m\u001b[0;34m\u001b[0m\u001b[0m\n",
            "\u001b[0;32m/usr/local/lib/python3.10/dist-packages/keras/src/engine/training.py\u001b[0m in \u001b[0;36mfit\u001b[0;34m(self, x, y, batch_size, epochs, verbose, callbacks, validation_split, validation_data, shuffle, class_weight, sample_weight, initial_epoch, steps_per_epoch, validation_steps, validation_batch_size, validation_freq, max_queue_size, workers, use_multiprocessing)\u001b[0m\n\u001b[1;32m   1781\u001b[0m                         ):\n\u001b[1;32m   1782\u001b[0m                             \u001b[0mcallbacks\u001b[0m\u001b[0;34m.\u001b[0m\u001b[0mon_train_batch_begin\u001b[0m\u001b[0;34m(\u001b[0m\u001b[0mstep\u001b[0m\u001b[0;34m)\u001b[0m\u001b[0;34m\u001b[0m\u001b[0;34m\u001b[0m\u001b[0m\n\u001b[0;32m-> 1783\u001b[0;31m                             \u001b[0mtmp_logs\u001b[0m \u001b[0;34m=\u001b[0m \u001b[0mself\u001b[0m\u001b[0;34m.\u001b[0m\u001b[0mtrain_function\u001b[0m\u001b[0;34m(\u001b[0m\u001b[0miterator\u001b[0m\u001b[0;34m)\u001b[0m\u001b[0;34m\u001b[0m\u001b[0;34m\u001b[0m\u001b[0m\n\u001b[0m\u001b[1;32m   1784\u001b[0m                             \u001b[0;32mif\u001b[0m \u001b[0mdata_handler\u001b[0m\u001b[0;34m.\u001b[0m\u001b[0mshould_sync\u001b[0m\u001b[0;34m:\u001b[0m\u001b[0;34m\u001b[0m\u001b[0;34m\u001b[0m\u001b[0m\n\u001b[1;32m   1785\u001b[0m                                 \u001b[0mcontext\u001b[0m\u001b[0;34m.\u001b[0m\u001b[0masync_wait\u001b[0m\u001b[0;34m(\u001b[0m\u001b[0;34m)\u001b[0m\u001b[0;34m\u001b[0m\u001b[0;34m\u001b[0m\u001b[0m\n",
            "\u001b[0;32m/usr/local/lib/python3.10/dist-packages/tensorflow/python/util/traceback_utils.py\u001b[0m in \u001b[0;36merror_handler\u001b[0;34m(*args, **kwargs)\u001b[0m\n\u001b[1;32m    148\u001b[0m     \u001b[0mfiltered_tb\u001b[0m \u001b[0;34m=\u001b[0m \u001b[0;32mNone\u001b[0m\u001b[0;34m\u001b[0m\u001b[0;34m\u001b[0m\u001b[0m\n\u001b[1;32m    149\u001b[0m     \u001b[0;32mtry\u001b[0m\u001b[0;34m:\u001b[0m\u001b[0;34m\u001b[0m\u001b[0;34m\u001b[0m\u001b[0m\n\u001b[0;32m--> 150\u001b[0;31m       \u001b[0;32mreturn\u001b[0m \u001b[0mfn\u001b[0m\u001b[0;34m(\u001b[0m\u001b[0;34m*\u001b[0m\u001b[0margs\u001b[0m\u001b[0;34m,\u001b[0m \u001b[0;34m**\u001b[0m\u001b[0mkwargs\u001b[0m\u001b[0;34m)\u001b[0m\u001b[0;34m\u001b[0m\u001b[0;34m\u001b[0m\u001b[0m\n\u001b[0m\u001b[1;32m    151\u001b[0m     \u001b[0;32mexcept\u001b[0m \u001b[0mException\u001b[0m \u001b[0;32mas\u001b[0m \u001b[0me\u001b[0m\u001b[0;34m:\u001b[0m\u001b[0;34m\u001b[0m\u001b[0;34m\u001b[0m\u001b[0m\n\u001b[1;32m    152\u001b[0m       \u001b[0mfiltered_tb\u001b[0m \u001b[0;34m=\u001b[0m \u001b[0m_process_traceback_frames\u001b[0m\u001b[0;34m(\u001b[0m\u001b[0me\u001b[0m\u001b[0;34m.\u001b[0m\u001b[0m__traceback__\u001b[0m\u001b[0;34m)\u001b[0m\u001b[0;34m\u001b[0m\u001b[0;34m\u001b[0m\u001b[0m\n",
            "\u001b[0;32m/usr/local/lib/python3.10/dist-packages/tensorflow/python/eager/polymorphic_function/polymorphic_function.py\u001b[0m in \u001b[0;36m__call__\u001b[0;34m(self, *args, **kwds)\u001b[0m\n\u001b[1;32m    829\u001b[0m \u001b[0;34m\u001b[0m\u001b[0m\n\u001b[1;32m    830\u001b[0m       \u001b[0;32mwith\u001b[0m \u001b[0mOptionalXlaContext\u001b[0m\u001b[0;34m(\u001b[0m\u001b[0mself\u001b[0m\u001b[0;34m.\u001b[0m\u001b[0m_jit_compile\u001b[0m\u001b[0;34m)\u001b[0m\u001b[0;34m:\u001b[0m\u001b[0;34m\u001b[0m\u001b[0;34m\u001b[0m\u001b[0m\n\u001b[0;32m--> 831\u001b[0;31m         \u001b[0mresult\u001b[0m \u001b[0;34m=\u001b[0m \u001b[0mself\u001b[0m\u001b[0;34m.\u001b[0m\u001b[0m_call\u001b[0m\u001b[0;34m(\u001b[0m\u001b[0;34m*\u001b[0m\u001b[0margs\u001b[0m\u001b[0;34m,\u001b[0m \u001b[0;34m**\u001b[0m\u001b[0mkwds\u001b[0m\u001b[0;34m)\u001b[0m\u001b[0;34m\u001b[0m\u001b[0;34m\u001b[0m\u001b[0m\n\u001b[0m\u001b[1;32m    832\u001b[0m \u001b[0;34m\u001b[0m\u001b[0m\n\u001b[1;32m    833\u001b[0m       \u001b[0mnew_tracing_count\u001b[0m \u001b[0;34m=\u001b[0m \u001b[0mself\u001b[0m\u001b[0;34m.\u001b[0m\u001b[0mexperimental_get_tracing_count\u001b[0m\u001b[0;34m(\u001b[0m\u001b[0;34m)\u001b[0m\u001b[0;34m\u001b[0m\u001b[0;34m\u001b[0m\u001b[0m\n",
            "\u001b[0;32m/usr/local/lib/python3.10/dist-packages/tensorflow/python/eager/polymorphic_function/polymorphic_function.py\u001b[0m in \u001b[0;36m_call\u001b[0;34m(self, *args, **kwds)\u001b[0m\n\u001b[1;32m    865\u001b[0m       \u001b[0;31m# In this case we have created variables on the first call, so we run the\u001b[0m\u001b[0;34m\u001b[0m\u001b[0;34m\u001b[0m\u001b[0m\n\u001b[1;32m    866\u001b[0m       \u001b[0;31m# defunned version which is guaranteed to never create variables.\u001b[0m\u001b[0;34m\u001b[0m\u001b[0;34m\u001b[0m\u001b[0m\n\u001b[0;32m--> 867\u001b[0;31m       return tracing_compilation.call_function(\n\u001b[0m\u001b[1;32m    868\u001b[0m           \u001b[0margs\u001b[0m\u001b[0;34m,\u001b[0m \u001b[0mkwds\u001b[0m\u001b[0;34m,\u001b[0m \u001b[0mself\u001b[0m\u001b[0;34m.\u001b[0m\u001b[0m_no_variable_creation_config\u001b[0m\u001b[0;34m\u001b[0m\u001b[0;34m\u001b[0m\u001b[0m\n\u001b[1;32m    869\u001b[0m       )\n",
            "\u001b[0;32m/usr/local/lib/python3.10/dist-packages/tensorflow/python/eager/polymorphic_function/tracing_compilation.py\u001b[0m in \u001b[0;36mcall_function\u001b[0;34m(args, kwargs, tracing_options)\u001b[0m\n\u001b[1;32m    137\u001b[0m   \u001b[0mbound_args\u001b[0m \u001b[0;34m=\u001b[0m \u001b[0mfunction\u001b[0m\u001b[0;34m.\u001b[0m\u001b[0mfunction_type\u001b[0m\u001b[0;34m.\u001b[0m\u001b[0mbind\u001b[0m\u001b[0;34m(\u001b[0m\u001b[0;34m*\u001b[0m\u001b[0margs\u001b[0m\u001b[0;34m,\u001b[0m \u001b[0;34m**\u001b[0m\u001b[0mkwargs\u001b[0m\u001b[0;34m)\u001b[0m\u001b[0;34m\u001b[0m\u001b[0;34m\u001b[0m\u001b[0m\n\u001b[1;32m    138\u001b[0m   \u001b[0mflat_inputs\u001b[0m \u001b[0;34m=\u001b[0m \u001b[0mfunction\u001b[0m\u001b[0;34m.\u001b[0m\u001b[0mfunction_type\u001b[0m\u001b[0;34m.\u001b[0m\u001b[0munpack_inputs\u001b[0m\u001b[0;34m(\u001b[0m\u001b[0mbound_args\u001b[0m\u001b[0;34m)\u001b[0m\u001b[0;34m\u001b[0m\u001b[0;34m\u001b[0m\u001b[0m\n\u001b[0;32m--> 139\u001b[0;31m   return function._call_flat(  # pylint: disable=protected-access\n\u001b[0m\u001b[1;32m    140\u001b[0m       \u001b[0mflat_inputs\u001b[0m\u001b[0;34m,\u001b[0m \u001b[0mcaptured_inputs\u001b[0m\u001b[0;34m=\u001b[0m\u001b[0mfunction\u001b[0m\u001b[0;34m.\u001b[0m\u001b[0mcaptured_inputs\u001b[0m\u001b[0;34m\u001b[0m\u001b[0;34m\u001b[0m\u001b[0m\n\u001b[1;32m    141\u001b[0m   )\n",
            "\u001b[0;32m/usr/local/lib/python3.10/dist-packages/tensorflow/python/eager/polymorphic_function/concrete_function.py\u001b[0m in \u001b[0;36m_call_flat\u001b[0;34m(self, tensor_inputs, captured_inputs)\u001b[0m\n\u001b[1;32m   1262\u001b[0m         and executing_eagerly):\n\u001b[1;32m   1263\u001b[0m       \u001b[0;31m# No tape is watching; skip to running the function.\u001b[0m\u001b[0;34m\u001b[0m\u001b[0;34m\u001b[0m\u001b[0m\n\u001b[0;32m-> 1264\u001b[0;31m       \u001b[0;32mreturn\u001b[0m \u001b[0mself\u001b[0m\u001b[0;34m.\u001b[0m\u001b[0m_inference_function\u001b[0m\u001b[0;34m.\u001b[0m\u001b[0mflat_call\u001b[0m\u001b[0;34m(\u001b[0m\u001b[0margs\u001b[0m\u001b[0;34m)\u001b[0m\u001b[0;34m\u001b[0m\u001b[0;34m\u001b[0m\u001b[0m\n\u001b[0m\u001b[1;32m   1265\u001b[0m     forward_backward = self._select_forward_and_backward_functions(\n\u001b[1;32m   1266\u001b[0m         \u001b[0margs\u001b[0m\u001b[0;34m,\u001b[0m\u001b[0;34m\u001b[0m\u001b[0;34m\u001b[0m\u001b[0m\n",
            "\u001b[0;32m/usr/local/lib/python3.10/dist-packages/tensorflow/python/eager/polymorphic_function/atomic_function.py\u001b[0m in \u001b[0;36mflat_call\u001b[0;34m(self, args)\u001b[0m\n\u001b[1;32m    215\u001b[0m   \u001b[0;32mdef\u001b[0m \u001b[0mflat_call\u001b[0m\u001b[0;34m(\u001b[0m\u001b[0mself\u001b[0m\u001b[0;34m,\u001b[0m \u001b[0margs\u001b[0m\u001b[0;34m:\u001b[0m \u001b[0mSequence\u001b[0m\u001b[0;34m[\u001b[0m\u001b[0mcore\u001b[0m\u001b[0;34m.\u001b[0m\u001b[0mTensor\u001b[0m\u001b[0;34m]\u001b[0m\u001b[0;34m)\u001b[0m \u001b[0;34m->\u001b[0m \u001b[0mAny\u001b[0m\u001b[0;34m:\u001b[0m\u001b[0;34m\u001b[0m\u001b[0;34m\u001b[0m\u001b[0m\n\u001b[1;32m    216\u001b[0m     \u001b[0;34m\"\"\"Calls with tensor inputs and returns the structured output.\"\"\"\u001b[0m\u001b[0;34m\u001b[0m\u001b[0;34m\u001b[0m\u001b[0m\n\u001b[0;32m--> 217\u001b[0;31m     \u001b[0mflat_outputs\u001b[0m \u001b[0;34m=\u001b[0m \u001b[0mself\u001b[0m\u001b[0;34m(\u001b[0m\u001b[0;34m*\u001b[0m\u001b[0margs\u001b[0m\u001b[0;34m)\u001b[0m\u001b[0;34m\u001b[0m\u001b[0;34m\u001b[0m\u001b[0m\n\u001b[0m\u001b[1;32m    218\u001b[0m     \u001b[0;32mreturn\u001b[0m \u001b[0mself\u001b[0m\u001b[0;34m.\u001b[0m\u001b[0mfunction_type\u001b[0m\u001b[0;34m.\u001b[0m\u001b[0mpack_output\u001b[0m\u001b[0;34m(\u001b[0m\u001b[0mflat_outputs\u001b[0m\u001b[0;34m)\u001b[0m\u001b[0;34m\u001b[0m\u001b[0;34m\u001b[0m\u001b[0m\n\u001b[1;32m    219\u001b[0m \u001b[0;34m\u001b[0m\u001b[0m\n",
            "\u001b[0;32m/usr/local/lib/python3.10/dist-packages/tensorflow/python/eager/polymorphic_function/atomic_function.py\u001b[0m in \u001b[0;36m__call__\u001b[0;34m(self, *args)\u001b[0m\n\u001b[1;32m    250\u001b[0m         \u001b[0;32mwith\u001b[0m \u001b[0mrecord\u001b[0m\u001b[0;34m.\u001b[0m\u001b[0mstop_recording\u001b[0m\u001b[0;34m(\u001b[0m\u001b[0;34m)\u001b[0m\u001b[0;34m:\u001b[0m\u001b[0;34m\u001b[0m\u001b[0;34m\u001b[0m\u001b[0m\n\u001b[1;32m    251\u001b[0m           \u001b[0;32mif\u001b[0m \u001b[0mself\u001b[0m\u001b[0;34m.\u001b[0m\u001b[0m_bound_context\u001b[0m\u001b[0;34m.\u001b[0m\u001b[0mexecuting_eagerly\u001b[0m\u001b[0;34m(\u001b[0m\u001b[0;34m)\u001b[0m\u001b[0;34m:\u001b[0m\u001b[0;34m\u001b[0m\u001b[0;34m\u001b[0m\u001b[0m\n\u001b[0;32m--> 252\u001b[0;31m             outputs = self._bound_context.call_function(\n\u001b[0m\u001b[1;32m    253\u001b[0m                 \u001b[0mself\u001b[0m\u001b[0;34m.\u001b[0m\u001b[0mname\u001b[0m\u001b[0;34m,\u001b[0m\u001b[0;34m\u001b[0m\u001b[0;34m\u001b[0m\u001b[0m\n\u001b[1;32m    254\u001b[0m                 \u001b[0mlist\u001b[0m\u001b[0;34m(\u001b[0m\u001b[0margs\u001b[0m\u001b[0;34m)\u001b[0m\u001b[0;34m,\u001b[0m\u001b[0;34m\u001b[0m\u001b[0;34m\u001b[0m\u001b[0m\n",
            "\u001b[0;32m/usr/local/lib/python3.10/dist-packages/tensorflow/python/eager/context.py\u001b[0m in \u001b[0;36mcall_function\u001b[0;34m(self, name, tensor_inputs, num_outputs)\u001b[0m\n\u001b[1;32m   1477\u001b[0m     \u001b[0mcancellation_context\u001b[0m \u001b[0;34m=\u001b[0m \u001b[0mcancellation\u001b[0m\u001b[0;34m.\u001b[0m\u001b[0mcontext\u001b[0m\u001b[0;34m(\u001b[0m\u001b[0;34m)\u001b[0m\u001b[0;34m\u001b[0m\u001b[0;34m\u001b[0m\u001b[0m\n\u001b[1;32m   1478\u001b[0m     \u001b[0;32mif\u001b[0m \u001b[0mcancellation_context\u001b[0m \u001b[0;32mis\u001b[0m \u001b[0;32mNone\u001b[0m\u001b[0;34m:\u001b[0m\u001b[0;34m\u001b[0m\u001b[0;34m\u001b[0m\u001b[0m\n\u001b[0;32m-> 1479\u001b[0;31m       outputs = execute.execute(\n\u001b[0m\u001b[1;32m   1480\u001b[0m           \u001b[0mname\u001b[0m\u001b[0;34m.\u001b[0m\u001b[0mdecode\u001b[0m\u001b[0;34m(\u001b[0m\u001b[0;34m\"utf-8\"\u001b[0m\u001b[0;34m)\u001b[0m\u001b[0;34m,\u001b[0m\u001b[0;34m\u001b[0m\u001b[0;34m\u001b[0m\u001b[0m\n\u001b[1;32m   1481\u001b[0m           \u001b[0mnum_outputs\u001b[0m\u001b[0;34m=\u001b[0m\u001b[0mnum_outputs\u001b[0m\u001b[0;34m,\u001b[0m\u001b[0;34m\u001b[0m\u001b[0;34m\u001b[0m\u001b[0m\n",
            "\u001b[0;32m/usr/local/lib/python3.10/dist-packages/tensorflow/python/eager/execute.py\u001b[0m in \u001b[0;36mquick_execute\u001b[0;34m(op_name, num_outputs, inputs, attrs, ctx, name)\u001b[0m\n\u001b[1;32m     58\u001b[0m         \u001b[0;32mfor\u001b[0m \u001b[0mt\u001b[0m \u001b[0;32min\u001b[0m \u001b[0minputs\u001b[0m\u001b[0;34m\u001b[0m\u001b[0;34m\u001b[0m\u001b[0m\n\u001b[1;32m     59\u001b[0m     ]\n\u001b[0;32m---> 60\u001b[0;31m     tensors = pywrap_tfe.TFE_Py_Execute(ctx._handle, device_name, op_name,\n\u001b[0m\u001b[1;32m     61\u001b[0m                                         inputs, attrs, num_outputs)\n\u001b[1;32m     62\u001b[0m   \u001b[0;32mexcept\u001b[0m \u001b[0mcore\u001b[0m\u001b[0;34m.\u001b[0m\u001b[0m_NotOkStatusException\u001b[0m \u001b[0;32mas\u001b[0m \u001b[0me\u001b[0m\u001b[0;34m:\u001b[0m\u001b[0;34m\u001b[0m\u001b[0;34m\u001b[0m\u001b[0m\n",
            "\u001b[0;31mKeyboardInterrupt\u001b[0m: "
          ]
        }
      ]
    },
    {
      "cell_type": "markdown",
      "source": [
        "### Plot"
      ],
      "metadata": {
        "id": "2RUWLgoZynYx"
      }
    },
    {
      "cell_type": "code",
      "source": [
        "train_plot(MyCNNBiLSTM.history, 'Larger CNN + BiLSTM')"
      ],
      "metadata": {
        "id": "fBDzsiq2ynYx"
      },
      "execution_count": null,
      "outputs": []
    },
    {
      "cell_type": "markdown",
      "source": [
        "### Test"
      ],
      "metadata": {
        "id": "o2dyj6esynYx"
      }
    },
    {
      "cell_type": "code",
      "source": [
        "score = MyCNNBiLSTM.evaluate(data_test, labels_test)\n",
        "print(f\"{MyCNNBiLSTM.metrics_names[0]}: {score[0]}\")\n",
        "print(f\"{MyCNNBiLSTM.metrics_names[1]}: {score[1]*100:.2f}%\")"
      ],
      "metadata": {
        "colab": {
          "base_uri": "https://localhost:8080/"
        },
        "outputId": "4ab688fb-b269-4c80-ac70-de7ea50d3e6a",
        "id": "tjV_OsgXynYy"
      },
      "execution_count": 80,
      "outputs": [
        {
          "output_type": "stream",
          "name": "stdout",
          "text": [
            "33/33 [==============================] - 1s 26ms/step - loss: 1.1747 - accuracy: 0.7000\n",
            "loss: 1.1746915578842163\n",
            "accuracy: 70.00%\n"
          ]
        }
      ]
    },
    {
      "cell_type": "code",
      "source": [
        "predictions = MyCNNBiLSTM.predict(data_test)\n",
        "confusion_matrix_plot(predictions, labels_test)\n",
        "result_test(predictions, labels_test)"
      ],
      "metadata": {
        "colab": {
          "base_uri": "https://localhost:8080/",
          "height": 706
        },
        "outputId": "016b53f0-bde7-4efe-a813-1615dcafc3d7",
        "id": "GCt1x5OfynYy"
      },
      "execution_count": 81,
      "outputs": [
        {
          "output_type": "stream",
          "name": "stdout",
          "text": [
            "33/33 [==============================] - 3s 15ms/step\n"
          ]
        },
        {
          "output_type": "execute_result",
          "data": {
            "text/plain": [
              "{'Accuracy': 0.7,\n",
              " 'Recall': 0.7000000000000001,\n",
              " 'Precision': 0.7051125920691138,\n",
              " 'F1-Score': 0.6949168928782092}"
            ]
          },
          "metadata": {},
          "execution_count": 81
        },
        {
          "output_type": "display_data",
          "data": {
            "text/plain": [
              "<Figure size 1000x700 with 2 Axes>"
            ],
            "image/png": "[encoded data removed]"
          },
          "metadata": {}
        }
      ]
    }
  ]
}